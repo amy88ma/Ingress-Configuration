{
 "cells": [
  {
   "cell_type": "markdown",
   "id": "0c2f4e87",
   "metadata": {},
   "source": [
    "# Create an NGINX controller using Helm\n",
    "To create the ingress controller, use Helm to install nginx-ingress. \n",
    "### 1. Install [Helm](https://helm.sh/docs/intro/install/)\n",
    "\n",
    "Prerequisites\n", ? Which are prerequisites? Should them be moved before this section?
    "The following prerequisites are required for a successful and properly secured use of Helm.\n",
    "\n",
    "* A Kubernetes cluster\n",
    "* Deciding what security configurations to apply to your installation, if any\n",
    "* Installing and configuring Helm.\n", ?Are you saying: there are 3 ways to install and configure Helm?
    "From script:" ? for some reason, it is not shown as new line?
   ]
  },
  {
   "cell_type": "code",
   "execution_count": null,
   "id": "b4c05cf7",
   "metadata": {},
   "outputs": [],
   "source": [
    "$ curl -fsSL -o get_helm.sh https://raw.githubusercontent.com/helm/helm/master/scripts/get-helm-3\n",
    "$ chmod 700 get_helm.sh\n",
    "$ ./get_helm.sh"
   ]
  },
  {
   "cell_type": "markdown",
   "id": "ff591eaf",
   "metadata": {},
   "source": [
    "From Homebrew (macOS)"
   ]
  },
  {
   "cell_type": "code",
   "execution_count": null,
   "id": "3a781671",
   "metadata": {},
   "outputs": [],
   "source": [
    "brew install helm"
   ]
  },
  {
   "cell_type": "markdown",
   "id": "8eccd5d3",
   "metadata": {},
   "source": [
    "From Chocolatey (Windows)"
   ]
  },
  {
   "cell_type": "code",
   "execution_count": null,
   "id": "4b0242c4",
   "metadata": {},
   "outputs": [],
   "source": [
    "choco install kubernetes-helm"
   ]
  },
  {
   "cell_type": "markdown",
   "id": "78a1f2fd",
   "metadata": {},
   "source": [
    "### 2. Install [NGINX controller](https://kubernetes.github.io/ingress-nginx/deploy/)\n",
    "NGINX Ingress controller can be installed via Helm using the chart from the project repository. To install the chart with the release name ingress-nginx:"
   ]
  },
  {
   "cell_type": "code",
   "execution_count": null,
   "id": "f6dda9f3",
   "metadata": {},
   "outputs": [],
   "source": [
    "helm repo add ingress-nginx https://kubernetes.github.io/ingress-nginx\n",
    "helm repo update\n",
    "\n",
    "helm install ingress-nginx ingress-nginx/ingress-nginx \\    \n",
    "    --set controller.replicaCount=2 \\\n",
    "    --set controller.nodeSelector.\"beta\\.kubernetes\\.io/os\"=linux \\\n",
    "    --set defaultBackend.nodeSelector.\"beta\\.kubernetes\\.io/os\"=linux \\\n",
    "    --set controller.admissionWebhooks.patch.nodeSelector.\"beta\\.kubernetes\\.io/os\"=linux"
   ]
  },
  {
   "cell_type": "markdown",
   "id": "3a927c96",
   "metadata": {},
   "source": [
    "To create the ingress controller, use Helm to install nginx-ingress. For added redundancy, two replicas of the NGINX ingress controllers are deployed with the --set controller.replicaCount parameter.\n",
    "\n",
    "The ingress controller also needs to be scheduled on a Linux node. Windows Server nodes shouldn't run the ingress controller. A node selector is specified using the --set nodeSelector parameter to tell the Kubernetes scheduler to run the NGINX ingress controller on a Linux-based node."
   ]
  },
  {
   "cell_type": "markdown",
   "id": "9215ca33",
   "metadata": {},
   "source": [
    "The following kubectl command can be used to get the dynamic Public IP address for the Nginx controller. The IP address is under the column EXTERNAL-IP. In this exapme, it is 52.188.72.200."
   ]
  },
  {
   "cell_type": "code",
   "execution_count": null,
   "id": "d3af061c",
   "metadata": {},
   "outputs": [
    {
     "name": "stdout",
     "output_type": "stream",
     "text": [
      "NAME                                     TYPE           CLUSTER-IP    EXTERNAL-IP     PORT(S)                      AGE   SELECTOR\n",
      "nginx-ingress-ingress-nginx-controller   LoadBalancer   10.0.114.13   52.188.72.200   80:31719/TCP,443:32554/TCP   18h   app.kubernetes.io/component=controller,app.kubernetes.io/instance=nginx-ingress,app.kubernetes.io/name=ingress-nginx\n"
     ]
    }
   ],
   "source": [
    "kubectl get services -o wide -w nginx-ingress-ingress-nginx-controller"
   ]
  }
 ],
 "metadata": {
  "kernelspec": {
   "display_name": "Bash",
   "language": "bash",
   "name": "bash"
  },
  "language_info": {
   "codemirror_mode": "shell",
   "file_extension": ".sh",
   "mimetype": "text/x-sh",
   "name": "bash"
  }
 },
 "nbformat": 4,
 "nbformat_minor": 5
}
