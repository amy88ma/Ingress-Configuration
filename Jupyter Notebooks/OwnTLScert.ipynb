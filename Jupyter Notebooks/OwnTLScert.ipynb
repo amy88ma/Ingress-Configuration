{
 "cells": [
  {
   "cell_type": "markdown",
   "id": "7f4a255e",
   "metadata": {},
   "source": [
    "# Create an HTTPS ingress controller and use your own TLS certificates\n",
    "Deploy the NGINX ingress controller in an Azure Kubernetes Service (AKS) cluster. Then generate your own certificates, and create a Kubernetes secret for use with the ingress route. Finally, two applications are run in the AKS cluster, each of which is accessible over a single IP address."
   ]
  },
  {
   "cell_type": "markdown",
   "id": "d332af12",
   "metadata": {},
   "source": [
    "## Prerequisites\n",
    "* latest release of Helm and have access to the ingress-nginx Helm repository.\n",
    "* Azure CLI version 2.0.64 or later."
   ]
  },
  {
   "cell_type": "markdown",
   "id": "4476f6a6",
   "metadata": {},
   "source": [
    "## Create an ingress controller\n",
    "To create the ingress controller, use Helm to install nginx-ingress.  The ingress controller also needs to be scheduled on a Linux node. Windows Server nodes shouldn't run the ingress controller. A node selector is specified using the --set nodeSelector parameter to tell the Kubernetes scheduler to run the NGINX ingress controller on a Linux-based node. For added redundancy, two replicas of the NGINX ingress controllers are deployed with the --set controller.replicaCount parameter. To fully benefit from running replicas of the ingress controller, make sure there's more than one node in your AKS cluster."
   ]
  },
  {
   "cell_type": "code",
   "execution_count": 1,
   "id": "bbd16262",
   "metadata": {},
   "outputs": [
    {
     "name": "stdout",
     "output_type": "stream",
     "text": [
      "\"ingress-nginx\" already exists with the same configuration, skipping\n",
      "NAME: nginx-ingress\n",
      "LAST DEPLOYED: Tue Jul  6 22:52:08 2021\n",
      "NAMESPACE: default\n",
      "STATUS: deployed\n",
      "REVISION: 1\n",
      "TEST SUITE: None\n",
      "NOTES:\n",
      "The ingress-nginx controller has been installed.\n",
      "It may take a few minutes for the LoadBalancer IP to be available.\n",
      "You can watch the status by running 'kubectl --namespace default get services -o wide -w nginx-ingress-ingress-nginx-controller'\n",
      "\n",
      "An example Ingress that makes use of the controller:\n",
      "\n",
      "  apiVersion: networking.k8s.io/v1beta1\n",
      "  kind: Ingress\n",
      "  metadata:\n",
      "    annotations:\n",
      "      kubernetes.io/ingress.class: nginx\n",
      "    name: example\n",
      "    namespace: foo\n",
      "  spec:\n",
      "    rules:\n",
      "      - host: www.example.com\n",
      "        http:\n",
      "          paths:\n",
      "            - backend:\n",
      "                serviceName: exampleService\n",
      "                servicePort: 80\n",
      "              path: /\n",
      "    # This section is only required if TLS is to be enabled for the Ingress\n",
      "    tls:\n",
      "        - hosts:\n",
      "            - www.example.com\n",
      "          secretName: example-tls\n",
      "\n",
      "If TLS is enabled for the Ingress, a Secret containing the certificate and key must also be provided:\n",
      "\n",
      "  apiVersion: v1\n",
      "  kind: Secret\n",
      "  metadata:\n",
      "    name: example-tls\n",
      "    namespace: foo\n",
      "  data:\n",
      "    tls.crt: <base64 encoded cert>\n",
      "    tls.key: <base64 encoded key>\n",
      "  type: kubernetes.io/tls\n"
     ]
    }
   ],
   "source": [
    "# Add the ingress-nginx repository\n",
    "helm repo add ingress-nginx https://kubernetes.github.io/ingress-nginx\n",
    "\n",
    "# Use Helm to deploy an NGINX ingress controller\n",
    "helm install nginx-ingress ingress-nginx/ingress-nginx \\\n",
    "    --set controller.replicaCount=2 \\\n",
    "    --set controller.nodeSelector.\"beta\\.kubernetes\\.io/os\"=linux \\\n",
    "    --set defaultBackend.nodeSelector.\"beta\\.kubernetes\\.io/os\"=linux \\\n",
    "    --set controller.admissionWebhooks.patch.nodeSelector.\"beta\\.kubernetes\\.io/os\"=linux"
   ]
  },
  {
   "cell_type": "markdown",
   "id": "b60ffe1a",
   "metadata": {},
   "source": [
    "To get the public IP address, use the following command:"
   ]
  },
  {
   "cell_type": "code",
   "execution_count": null,
   "id": "09ac3c17",
   "metadata": {},
   "outputs": [
    {
     "name": "stdout",
     "output_type": "stream",
     "text": [
      "NAME                                     TYPE           CLUSTER-IP    EXTERNAL-IP     PORT(S)                      AGE   SELECTOR\n",
      "nginx-ingress-ingress-nginx-controller   LoadBalancer   10.0.130.74   20.85.136.225   80:31389/TCP,443:32683/TCP   30s   app.kubernetes.io/component=controller,app.kubernetes.io/instance=nginx-ingress,app.kubernetes.io/name=ingress-nginx\n"
     ]
    }
   ],
   "source": [
    " kubectl get services -o wide -w nginx-ingress-ingress-nginx-controller"
   ]
  },
  {
   "cell_type": "markdown",
   "id": "58a9bed1",
   "metadata": {},
   "source": [
    "## Generate TLS certificate\n",
    "Generate a self-signed certificate with openssl.  The following example generates a 2048-bit RSA X509 certificate valid for 365 days named aks-ingress-tls.crt. The private key file is named aks-ingress-tls.key. A Kubernetes TLS secret requires both of these files.\n",
    "Run the following command to create a private key file:"
   ]
  },
  {
   "cell_type": "code",
   "execution_count": 1,
   "id": "86e9f542",
   "metadata": {},
   "outputs": [
    {
     "name": "stdout",
     "output_type": "stream",
     "text": [
      "Generating a RSA private key\n",
      "............+++++\n",
      ".................+++++\n",
      "writing new private key to 'ecl-tls.key'\n",
      "-----\n"
     ]
    }
   ],
   "source": [
    "openssl req -x509 -nodes -days 365 -newkey rsa:2048 \\\n",
    "    -out ecl-tls.crt \\\n",
    "    -keyout ecl-tls.key \\\n",
    "    -subj \"/CN=eclwatch.com/O=ecl-tls\""
   ]
  },
  {
   "cell_type": "markdown",
   "id": "a88b76f9",
   "metadata": {},
   "source": [
    "## Create Kubernetes secret for the TLS certificate\n",
    "To allow Kubernetes to use the TLS certificate and private key for the ingress controller, you create and use a Secret. The secret is defined once, and uses the certificate and key file created in the previous step. You then reference this secret when you define ingress routes.\n",
    "***\n",
    "Use the following example to create a Secret name aks-ingress-tls:"
   ]
  },
  {
   "cell_type": "code",
   "execution_count": 2,
   "id": "b1195f53",
   "metadata": {},
   "outputs": [
    {
     "name": "stdout",
     "output_type": "stream",
     "text": [
      "secret/ecl-tls created\n"
     ]
    }
   ],
   "source": [
    "kubectl create secret tls ecl-tls \\\n",
    "    --key ecl-tls.key \\\n",
    "    --cert ecl-tls.crt"
   ]
  },
  {
   "cell_type": "markdown",
   "id": "ec6979e9",
   "metadata": {},
   "source": [
    "## Run application\n",
    "An ingress controller and a Secret with your certificate have been configured.  Use helm to deploy an instance of the application eclwatch.\n",
    "Create a file, and name it eclwatch-ingress.yaml"
   ]
  },
  {
   "cell_type": "code",
   "execution_count": null,
   "id": "aca1e268",
   "metadata": {},
   "outputs": [],
   "source": [
    "apiVersion: networking.k8s.io/v1\n",
    "kind: Ingress\n",
    "metadata:\n",
    "  name: eclwatch-ingress\n",
    "  annotations:\n",
    "    kubernetes.io/ingress.class: nginx\n",
    "spec:\n",
    "  rules:\n",
    "  -  http:\n",
    "      paths:\n",
    "      - path: /\n",
    "        pathType: Prefix\n",
    "        backend:\n",
    "         service:\n",
    "           name: eclwatch\n",
    "           port: \n",
    "             number: 8010"
   ]
  },
  {
   "cell_type": "markdown",
   "id": "bdefbe6f",
   "metadata": {},
   "source": [
    "Create the service using the following command:"
   ]
  },
  {
   "cell_type": "code",
   "execution_count": null,
   "id": "4bb6bf27",
   "metadata": {},
   "outputs": [],
   "source": [
    "$ kubectl apply -f eclwatch-ingress.yaml\n",
    "ingress.networking.k8s.io/eclwatch-ingress created"
   ]
  },
  {
   "cell_type": "markdown",
   "id": "2ff5048d",
   "metadata": {},
   "source": [
    "## Create an ingress route\n",
    "Create a file, and name it ingress-resource.yaml"
   ]
  },
  {
   "cell_type": "code",
   "execution_count": null,
   "id": "fae532dc",
   "metadata": {},
   "outputs": [],
   "source": [
    "apiVersion: networking.k8s.io/v1\n",
    "kind: Ingress\n",
    "metadata:\n",
    "  name: eclwatch-ingress\n",
    "  annotations:\n",
    "    kubernetes.io/ingress.class: nginx\n",
    "    nginx.ingress.kubernetes.io/use-regex: \"true\"\n",
    "    nginx.ingress.kubernetes.io/rewrite-target: /$2\n",
    "spec:\n",
    "  tls:\n",
    "  - hosts: \n",
    "    - eclwatch.com\n",
    "    secretName: ecl-tls\n",
    "  rules:\n",
    "  - host: eclwatch.com\n",
    "    http:\n",
    "      paths:\n",
    "      - path: /\n",
    "        pathType: Prefix\n",
    "        backend:\n",
    "          service:\n",
    "            name: eclwatch\n",
    "            port:\n",
    "              number: 8010"
   ]
  },
  {
   "cell_type": "markdown",
   "id": "839c0bca",
   "metadata": {},
   "source": [
    "Create the ingress resource using the following command:"
   ]
  },
  {
   "cell_type": "code",
   "execution_count": null,
   "id": "2486b238",
   "metadata": {},
   "outputs": [],
   "source": [
    "$ kubectl apply -f ingress-resource.yaml\n",
    "ingress.networking.k8s.io/eclwatch-ingress created"
   ]
  },
  {
   "cell_type": "markdown",
   "id": "97a37dcb",
   "metadata": {},
   "source": [
    "## Test the ingress configuration"
   ]
  },
  {
   "cell_type": "code",
   "execution_count": 4,
   "id": "ffc79dcc",
   "metadata": {},
   "outputs": [
    {
     "name": "stdout",
     "output_type": "stream",
     "text": [
      "* Added eclwatch.com:443:20.85.136.225 to DNS cache\n",
      "* Hostname eclwatch.com was found in DNS cache\n",
      "*   Trying 20.85.136.225:443...\n",
      "* Connected to eclwatch.com (20.85.136.225) port 443 (#0)\n",
      "* ALPN, offering http/1.1\n",
      "* successfully set certificate verify locations:\n",
      "*   CAfile: /Users/amyma/opt/anaconda3/ssl/cacert.pem\n",
      "  CApath: none\n",
      "* TLSv1.3 (OUT), TLS handshake, Client hello (1):\n",
      "* TLSv1.3 (IN), TLS handshake, Server hello (2):\n",
      "* TLSv1.3 (IN), TLS handshake, Encrypted Extensions (8):\n",
      "* TLSv1.3 (IN), TLS handshake, Certificate (11):\n",
      "* TLSv1.3 (IN), TLS handshake, CERT verify (15):\n",
      "* TLSv1.3 (IN), TLS handshake, Finished (20):\n",
      "* TLSv1.3 (OUT), TLS change cipher, Change cipher spec (1):\n",
      "* TLSv1.3 (OUT), TLS handshake, Finished (20):\n",
      "* SSL connection using TLSv1.3 / TLS_AES_256_GCM_SHA384\n",
      "* ALPN, server accepted to use http/1.1\n",
      "* Server certificate:\n",
      "*  subject: CN=eclwatch.com; O=ecl-tls\n",
      "*  start date: Jul  7 03:16:38 2021 GMT\n",
      "*  expire date: Jul  7 03:16:38 2022 GMT\n",
      "*  issuer: CN=eclwatch.com; O=ecl-tls\n",
      "*  SSL certificate verify result: self signed certificate (18), continuing anyway.\n",
      "> GET / HTTP/1.1\n",
      "> Host: eclwatch.com\n",
      "> User-Agent: curl/7.71.1\n",
      "> Accept: */*\n",
      "> \n",
      "* TLSv1.3 (IN), TLS handshake, Newsession Ticket (4):\n",
      "* TLSv1.3 (IN), TLS handshake, Newsession Ticket (4):\n",
      "* old SSL session ID is stale, removing\n",
      "* Mark bundle as not supporting multiuse\n",
      "< HTTP/1.1 404 Not Found\n",
      "< Date: Wed, 07 Jul 2021 03:24:55 GMT\n",
      "< Content-Type: text/html\n",
      "< Content-Length: 146\n",
      "< Connection: keep-alive\n",
      "< Strict-Transport-Security: max-age=15724800; includeSubDomains\n",
      "< \n",
      "<html>\n",
      "<head><title>404 Not Found</title></head>\n",
      "<body>\n",
      "<center><h1>404 Not Found</h1></center>\n",
      "<hr><center>nginx</center>\n",
      "</body>\n",
      "</html>\n",
      "* Connection #0 to host eclwatch.com left intact\n"
     ]
    }
   ],
   "source": [
    "curl -v -k --resolve eclwatch.com:443:20.85.136.225 https://eclwatch.com"
   ]
  },
  {
   "cell_type": "code",
   "execution_count": null,
   "id": "f44fdcf6",
   "metadata": {},
   "outputs": [],
   "source": []
  }
 ],
 "metadata": {
  "kernelspec": {
   "display_name": "Bash",
   "language": "bash",
   "name": "bash"
  },
  "language_info": {
   "codemirror_mode": "shell",
   "file_extension": ".sh",
   "mimetype": "text/x-sh",
   "name": "bash"
  }
 },
 "nbformat": 4,
 "nbformat_minor": 5
}
