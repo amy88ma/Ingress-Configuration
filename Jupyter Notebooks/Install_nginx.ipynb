{
 "cells": [
  {
   "cell_type": "markdown",
   "id": "0c2f4e87",
   "metadata": {},
   "source": [
    "# Create an NGINX controller using Helm\n",
    "This example shows how to use Helm to install the Nginx Controller.\n",
    "\n",
    "### Prerequisites\n",
    "\n",
    "The following prerequisites are required for a successful and properly secured use of Helm:\n",
    "\n",
    "* A Kubernetes cluster\n",
    "* Deciding what security configurations to apply to your installation, if any\n",
    "* Installing and configuring [Helm](https://github.com/amy88ma/Ingress-Configuration/blob/50c510778e326ece24d8364f3e897d0e17d30bc4/Jupyter%20Notebooks/Install_helm.ipynb)."
   ]
  },
  {
   "cell_type": "markdown",
   "id": "78a1f2fd",
   "metadata": {},
   "source": [
    "## 1. Install  the NGINX [controller](https://kubernetes.github.io/ingress-nginx/deploy/)\n",
    "NGINX Ingress controller can be installed via Helm using the chart from the project repository. To install the chart with the release name ingress-nginx:"
   ]
  },
  {
   "cell_type": "code",
   "execution_count": 1,
   "id": "f6dda9f3",
   "metadata": {},
   "outputs": [
    {
     "name": "stdout",
     "output_type": "stream",
     "text": [
      "\"ingress-nginx\" already exists with the same configuration, skipping\n",
      "Hang tight while we grab the latest from your chart repositories...\n",
      "...Successfully got an update from the \"hashicorp\" chart repository\n",
      "...Successfully got an update from the \"jetstack\" chart repository\n",
      "...Successfully got an update from the \"ingress-nginx\" chart repository\n",
      "...Successfully got an update from the \"nginx-stable\" chart repository\n",
      "...Successfully got an update from the \"hpcc\" chart repository\n",
      "...Successfully got an update from the \"haproxy-ingress\" chart repository\n",
      "Update Complete. ⎈Happy Helming!⎈\n",
      "NAME: ingress-nginx\n",
      "LAST DEPLOYED: Thu Jul 15 11:04:43 2021\n",
      "NAMESPACE: default\n",
      "STATUS: deployed\n",
      "REVISION: 1\n",
      "TEST SUITE: None\n",
      "NOTES:\n",
      "The ingress-nginx controller has been installed.\n",
      "It may take a few minutes for the LoadBalancer IP to be available.\n",
      "You can watch the status by running 'kubectl --namespace default get services -o wide -w ingress-nginx-controller'\n",
      "\n",
      "An example Ingress that makes use of the controller:\n",
      "\n",
      "  apiVersion: networking.k8s.io/v1beta1\n",
      "  kind: Ingress\n",
      "  metadata:\n",
      "    annotations:\n",
      "      kubernetes.io/ingress.class: nginx\n",
      "    name: example\n",
      "    namespace: foo\n",
      "  spec:\n",
      "    rules:\n",
      "      - host: www.example.com\n",
      "        http:\n",
      "          paths:\n",
      "            - backend:\n",
      "                serviceName: exampleService\n",
      "                servicePort: 80\n",
      "              path: /\n",
      "    # This section is only required if TLS is to be enabled for the Ingress\n",
      "    tls:\n",
      "        - hosts:\n",
      "            - www.example.com\n",
      "          secretName: example-tls\n",
      "\n",
      "If TLS is enabled for the Ingress, a Secret containing the certificate and key must also be provided:\n",
      "\n",
      "  apiVersion: v1\n",
      "  kind: Secret\n",
      "  metadata:\n",
      "    name: example-tls\n",
      "    namespace: foo\n",
      "  data:\n",
      "    tls.crt: <base64 encoded cert>\n",
      "    tls.key: <base64 encoded key>\n",
      "  type: kubernetes.io/tls\n"
     ]
    }
   ],
   "source": [
    "helm repo add ingress-nginx https://kubernetes.github.io/ingress-nginx\n",
    "helm repo update\n",
    "\n",
    "helm install ingress-nginx ingress-nginx/ingress-nginx"
   ]
  }
 ],
 "metadata": {
  "kernelspec": {
   "display_name": "Bash",
   "language": "bash",
   "name": "bash"
  },
  "language_info": {
   "codemirror_mode": "shell",
   "file_extension": ".sh",
   "mimetype": "text/x-sh",
   "name": "bash"
  }
 },
 "nbformat": 4,
 "nbformat_minor": 5
}

