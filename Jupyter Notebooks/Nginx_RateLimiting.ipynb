{
 "cells": [
  {
   "cell_type": "markdown",
   "id": "b2c25a94",
   "metadata": {},
   "source": [
    "# NGINX Rate Limiting\n",
    "These annotations define limits on connections and transmission rates. \n",
    "## Prerequisites\n",
    "* [Install helm](\n",
    "* Create the Nginx controller to configure annotations"
   ]
  },
  {
   "cell_type": "markdown",
   "id": "78d6817f",
   "metadata": {},
   "source": [
    "## Create the application\n",
    "Open a file, named ratelimiting.yaml, and add the following annotations to the application:"
   ]
  },
  {
   "cell_type": "code",
   "execution_count": null,
   "id": "d621eaed",
   "metadata": {},
   "outputs": [],
   "source": [
    "apiVersion: networking.k8s.io/v1\n",
    "kind: Ingress\n",
    "metadata:\n",
    "  name: eclwatch-ingress\n",
    "  annotations:\n",
    "    kubernetes.io/ingress.class: nginx\n",
    "    nginx.ingress.kubernetes.io/limit-connections: \"1\"\n",
    "    nginx.ingress.kubernetes.io/limit-rpm: \"1\"\n",
    "spec:\n",
    "  rules:\n",
    "  -  http:\n",
    "      paths:\n",
    "      - path: /\n",
    "        pathType: Prefix\n",
    "        backend:\n",
    "         service:\n",
    "           name: eclwatch\n",
    "           port:\n",
    "             number: 8010 # Port of the service 'eclwatch'"
   ]
  },
  {
   "cell_type": "markdown",
   "id": "08c2e0cb",
   "metadata": {},
   "source": [
    "**nginx.ingress.kubernetes.io/limit-connections**: number of concurrent connections allowed from a single IP address. A 503 error is returned when exceeding this limit, in the example 1 connection is allowed.\n",
    "\n",
    "**nginx.ingress.kubernetes.io/limit-rps**: number of requests accepted from a given IP each second. The burst limit is set to this limit multiplied by the burst multiplier, the default multiplier is 5. When clients exceed this limit, limit-req-status-code default: 503 is returned.\n",
    "\n",
    "**nginx.ingress.kubernetes.io/limit-rpm**: number of requests accepted from a given IP each minute. The burst limit is set to this limit multiplied by the burst multiplier, the default multiplier is 5. When clients exceed this limit, limit-req-status-code default: 503 is returned."
   ]
  },
  {
   "cell_type": "markdown",
   "id": "8e4d6dfa",
   "metadata": {},
   "source": [
    "Create the application:"
   ]
  },
  {
   "cell_type": "code",
   "execution_count": null,
   "id": "91c0e73e",
   "metadata": {},
   "outputs": [],
   "source": [
    "$ kubectl apply -f ratelimiting.yaml\n",
    "ingress.networking.k8s.io/eclwatch-ingress created"
   ]
  },
  {
   "cell_type": "markdown",
   "id": "fba15e95",
   "metadata": {},
   "source": [
    "## Test the annotations\n",
    "You can confirm the annotations have been applied:"
   ]
  },
  {
   "cell_type": "code",
   "execution_count": 3,
   "id": "7cb756d4",
   "metadata": {},
   "outputs": [
    {
     "name": "stdout",
     "output_type": "stream",
     "text": [
      "\u001b[33;1mWarning:\u001b[0m extensions/v1beta1 Ingress is deprecated in v1.14+, unavailable in v1.22+; use networking.k8s.io/v1 Ingress\n",
      "Name:             eclwatch-ingress\n",
      "Namespace:        default\n",
      "Address:          \n",
      "Default backend:  default-http-backend:80 (<error: endpoints \"default-http-backend\" not found>)\n",
      "Rules:\n",
      "  Host        Path  Backends\n",
      "  ----        ----  --------\n",
      "  *           \n",
      "              /   eclwatch:8010 (10.244.0.9:8888)\n",
      "Annotations:  kubernetes.io/ingress.class: nginx\n",
      "              nginx.ingress.kubernetes.io/limit-connections: 1\n",
      "              nginx.ingress.kubernetes.io/limit-rpm: 1\n",
      "Events:       <none>\n"
     ]
    }
   ],
   "source": [
    "kubectl describe ing eclwatch-ingress"
   ]
  }
 ],
 "metadata": {
  "kernelspec": {
   "display_name": "Bash",
   "language": "bash",
   "name": "bash"
  },
  "language_info": {
   "codemirror_mode": "shell",
   "file_extension": ".sh",
   "mimetype": "text/x-sh",
   "name": "bash"
  }
 },
 "nbformat": 4,
 "nbformat_minor": 5
}
