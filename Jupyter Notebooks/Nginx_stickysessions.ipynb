{
 "cells": [
  {
   "cell_type": "markdown",
   "id": "7c85b374",
   "metadata": {},
   "source": [
    "# Sticky Sessions\n",
    "This example demonstrates how to achieve session affinity using cookies.\n",
    "\n",
    "## Prerequisites\n",
    "1. Install [helm](https://helm.sh/)\n",
    "2. Create the Nginx Ingress controller to congfigure annotations:"
   ]
  },
  {
   "cell_type": "code",
   "execution_count": null,
   "id": "25a1c3fe",
   "metadata": {},
   "outputs": [],
   "source": [
    "helm repo add ingress-nginx https://kubernetes.github.io/ingress-nginx\n",
    "helm repo update\n",
    "\n",
    "helm install ingress-nginx ingress-nginx/ingress-nginx"
   ]
  },
  {
   "cell_type": "markdown",
   "id": "aacd7369",
   "metadata": {},
   "source": [
    "## Create an instance of the application:\n",
    "This file will create the application eclwatch and will route to the backend with the port number 8010:\n",
    "\n",
    "Open a file, with the name of eclwatch-ingress.yaml:"
   ]
  },
  {
   "cell_type": "code",
   "execution_count": null,
   "id": "142e22a0",
   "metadata": {},
   "outputs": [],
   "source": [
    "apiVersion: networking.k8s.io/v1\n",
    "kind: Ingress\n",
    "metadata:\n",
    "  name: eclwatch-ingress\n",
    "  annotations:\n",
    "    kubernetes.io/ingress.class: nginx\n",
    "    # Type of the affinity, set this to cookie to enable session affinity\n",
    "    nginx.ingress.kubernetes.io/affinity: \"cookie\"\n",
    "    # Name of the cookie that will be created\n",
    "    nginx.ingress.kubernetes.io/session-cookie-name: \"route\"\n",
    "    # Generates an Expires cookie directive by adding the seconds to the current date\n",
    "    nginx.ingress.kubernetes.io/session-cookie-expires: \"172800\"\n",
    "    # Time until the cookie expires, corresponds to the Max-Age cookie directive\n",
    "    nginx.ingress.kubernetes.io/session-cookie-max-age: \"172800\" # number of seconds\n",
    "spec:\n",
    "  rules:\n",
    "  -  http:\n",
    "      paths:\n",
    "      - path: /\n",
    "        pathType: Prefix\n",
    "        backend:\n",
    "         service:\n",
    "           name: eclwatch\n",
    "           port:\n",
    "             number: 8010"
   ]
  },
  {
   "cell_type": "markdown",
   "id": "40ce2a86",
   "metadata": {},
   "source": [
    "Create the application:"
   ]
  },
  {
   "cell_type": "code",
   "execution_count": null,
   "id": "e96baf2f",
   "metadata": {},
   "outputs": [],
   "source": [
    "$ kubectl create -f eclwatch-ingress.yaml\n",
    "ingress.networking.k8s.io/eclwatch-ingress created"
   ]
  },
  {
   "cell_type": "markdown",
   "id": "4e9905ee",
   "metadata": {},
   "source": [
    "## Validation\n",
    "You can confirm that the annotations have been applied:"
   ]
  },
  {
   "cell_type": "code",
   "execution_count": 12,
   "id": "f592cbd3",
   "metadata": {},
   "outputs": [
    {
     "name": "stdout",
     "output_type": "stream",
     "text": [
      "\u001b[33;1mWarning:\u001b[0m extensions/v1beta1 Ingress is deprecated in v1.14+, unavailable in v1.22+; use networking.k8s.io/v1 Ingress\n",
      "Name:             eclwatch-ingress\n",
      "Namespace:        default\n",
      "Address:          \n",
      "Default backend:  default-http-backend:80 (<error: endpoints \"default-http-backend\" not found>)\n",
      "Rules:\n",
      "  Host        Path  Backends\n",
      "  ----        ----  --------\n",
      "  *           \n",
      "              /   eclwatch:8010 (<none>)\n",
      "Annotations:  kubernetes.io/ingress.class: nginx\n",
      "              nginx.ingress.kubernetes.io/affinity: cookie\n",
      "              nginx.ingress.kubernetes.io/session-cookie-expires: 172800\n",
      "              nginx.ingress.kubernetes.io/session-cookie-max-age: 172800\n",
      "              nginx.ingress.kubernetes.io/session-cookie-name: route\n",
      "Events:\n",
      "  Type    Reason  Age   From                      Message\n",
      "  ----    ------  ----  ----                      -------\n",
      "  Normal  Sync    30s   nginx-ingress-controller  Scheduled for sync\n"
     ]
    }
   ],
   "source": [
    "kubectl describe ing eclwatch-ingress"
   ]
  }
 ],
 "metadata": {
  "kernelspec": {
   "display_name": "Bash",
   "language": "bash",
   "name": "bash"
  },
  "language_info": {
   "codemirror_mode": "shell",
   "file_extension": ".sh",
   "mimetype": "text/x-sh",
   "name": "bash"
  }
 },
 "nbformat": 4,
 "nbformat_minor": 5
}
