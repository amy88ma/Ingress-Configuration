{
 "cells": [
  {
   "cell_type": "markdown",
   "id": "b8664ca5",
   "metadata": {},
   "source": [
    "# Use TLS with Let's Encrypt"
   ]
  },
  {
   "cell_type": "markdown",
   "id": "82d17600",
   "metadata": {},
   "source": [
    "Use a dynamic public IP address to create an HTTPS ingress controller on Azure Kubernetes Service"
   ]
  },
  {
   "cell_type": "markdown",
   "id": "652520e7",
   "metadata": {},
   "source": [
    "## Create an Ingress controller"
   ]
  },
  {
   "cell_type": "markdown",
   "id": "a39d0182",
   "metadata": {},
   "source": [
    "To create the ingress controller, use the helm command to install nginx-ingress. "
   ]
  },
  {
   "cell_type": "code",
   "execution_count": 1,
   "id": "81795e8a",
   "metadata": {},
   "outputs": [
    {
     "name": "stdout",
     "output_type": "stream",
     "text": [
      "NAME: nginx-ingress\n",
      "LAST DEPLOYED: Fri Jul  9 08:50:48 2021\n",
      "NAMESPACE: default\n",
      "STATUS: deployed\n",
      "REVISION: 1\n",
      "TEST SUITE: None\n",
      "NOTES:\n",
      "The ingress-nginx controller has been installed.\n",
      "It may take a few minutes for the LoadBalancer IP to be available.\n",
      "You can watch the status by running 'kubectl --namespace default get services -o wide -w nginx-ingress-ingress-nginx-controller'\n",
      "\n",
      "An example Ingress that makes use of the controller:\n",
      "\n",
      "  apiVersion: networking.k8s.io/v1beta1\n",
      "  kind: Ingress\n",
      "  metadata:\n",
      "    annotations:\n",
      "      kubernetes.io/ingress.class: nginx\n",
      "    name: example\n",
      "    namespace: foo\n",
      "  spec:\n",
      "    rules:\n",
      "      - host: www.example.com\n",
      "        http:\n",
      "          paths:\n",
      "            - backend:\n",
      "                serviceName: exampleService\n",
      "                servicePort: 80\n",
      "              path: /\n",
      "    # This section is only required if TLS is to be enabled for the Ingress\n",
      "    tls:\n",
      "        - hosts:\n",
      "            - www.example.com\n",
      "          secretName: example-tls\n",
      "\n",
      "If TLS is enabled for the Ingress, a Secret containing the certificate and key must also be provided:\n",
      "\n",
      "  apiVersion: v1\n",
      "  kind: Secret\n",
      "  metadata:\n",
      "    name: example-tls\n",
      "    namespace: foo\n",
      "  data:\n",
      "    tls.crt: <base64 encoded cert>\n",
      "    tls.key: <base64 encoded key>\n",
      "  type: kubernetes.io/tls\n"
     ]
    }
   ],
   "source": [
    "helm install nginx-ingress ingress-nginx/ingress-nginx \\\n",
    "    --set controller.replicaCount=2 \\\n",
    "    --set controller.nodeSelector.\"beta\\.kubernetes\\.io/os\"=linux \\\n",
    "    --set defaultBackend.nodeSelector.\"beta\\.kubernetes\\.io/os\"=linux \\\n",
    "    --set controller.admissionWebhooks.patch.nodeSelector.\"beta\\.kubernetes\\.io/os\"=linux"
   ]
  },
  {
   "cell_type": "markdown",
   "id": "2842b297",
   "metadata": {},
   "source": [
    "Watch the status of the controller using:"
   ]
  },
  {
   "cell_type": "code",
   "execution_count": null,
   "id": "4690ac09",
   "metadata": {},
   "outputs": [
    {
     "name": "stdout",
     "output_type": "stream",
     "text": [
      "NAME                                     TYPE           CLUSTER-IP     EXTERNAL-IP    PORT(S)                      AGE     SELECTOR\n",
      "nginx-ingress-ingress-nginx-controller   LoadBalancer   10.0.118.237   52.224.31.58   80:32603/TCP,443:32459/TCP   2m24s   app.kubernetes.io/component=controller,app.kubernetes.io/instance=nginx-ingress,app.kubernetes.io/name=ingress-nginx\n"
     ]
    }
   ],
   "source": [
    "kubectl --namespace default get services -o wide -w nginx-ingress-ingress-nginx-controller"
   ]
  },
  {
   "cell_type": "markdown",
   "id": "706ac355",
   "metadata": {},
   "source": [
    "\"nginx-ingress-ingress-nginx-controller\" is the name of the exernal IP address created."
   ]
  },
  {
   "cell_type": "markdown",
   "id": "f4b1a088",
   "metadata": {},
   "source": [
    "## Add a record to DNS zone "
   ]
  },
  {
   "cell_type": "markdown",
   "id": "9e79f55d",
   "metadata": {},
   "source": [
    "configure an FQDN-- Fully Qualified Domain Name -- for the ingress controller IP address. "
   ]
  },
  {
   "cell_type": "code",
   "execution_count": 1,
   "id": "16cdcc9d",
   "metadata": {},
   "outputs": [
    {
     "name": "stdout",
     "output_type": "stream",
     "text": [
      "{\n",
      "  \"ddosSettings\": null,\n",
      "  \"deleteOption\": null,\n",
      "  \"dnsSettings\": {\n",
      "    \"domainNameLabel\": \"ecl-ingress\",\n",
      "    \"fqdn\": \"ecl-ingress.eastus.cloudapp.azure.com\",\n",
      "    \"reverseFqdn\": null\n",
      "  },\n",
      "  \"etag\": \"W/\\\"f8bf885e-23f8-49c9-89b5-479f0a5ceece\\\"\",\n",
      "  \"extendedLocation\": null,\n",
      "  \"id\": \"/subscriptions/49219efc-701f-4c7e-a2ac-c600308a69e3/resourceGroups/mc_aks-1nodepool-sa-amy_aks-1nodepool-sa-amy-eastus_eastus/providers/Microsoft.Network/publicIPAddresses/kubernetes-a1c6599063c0f48f88f4b7491cedff47\",\n",
      "  \"idleTimeoutInMinutes\": 4,\n",
      "  \"ipAddress\": \"52.224.31.58\",\n",
      "  \"ipConfiguration\": {\n",
      "    \"etag\": null,\n",
      "    \"id\": \"/subscriptions/49219efc-701f-4c7e-a2ac-c600308a69e3/resourceGroups/mc_aks-1nodepool-sa-amy_aks-1nodepool-sa-amy-eastus_eastus/providers/Microsoft.Network/loadBalancers/kubernetes/frontendIPConfigurations/a1c6599063c0f48f88f4b7491cedff47\",\n",
      "    \"name\": null,\n",
      "    \"privateIpAddress\": null,\n",
      "    \"privateIpAllocationMethod\": null,\n",
      "    \"provisioningState\": null,\n",
      "    \"publicIpAddress\": null,\n",
      "    \"resourceGroup\": \"mc_aks-1nodepool-sa-amy_aks-1nodepool-sa-amy-eastus_eastus\",\n",
      "    \"subnet\": null\n",
      "  },\n",
      "  \"ipTags\": [],\n",
      "  \"linkedPublicIpAddress\": null,\n",
      "  \"location\": \"eastus\",\n",
      "  \"migrationPhase\": null,\n",
      "  \"name\": \"kubernetes-a1c6599063c0f48f88f4b7491cedff47\",\n",
      "  \"natGateway\": null,\n",
      "  \"provisioningState\": \"Succeeded\",\n",
      "  \"publicIpAddressVersion\": \"IPv4\",\n",
      "  \"publicIpAllocationMethod\": \"Static\",\n",
      "  \"publicIpPrefix\": null,\n",
      "  \"resourceGroup\": \"mc_aks-1nodepool-sa-amy_aks-1nodepool-sa-amy-eastus_eastus\",\n",
      "  \"resourceGuid\": \"43965248-4004-4ba6-af19-68333973f61d\",\n",
      "  \"servicePublicIpAddress\": null,\n",
      "  \"sku\": {\n",
      "    \"name\": \"Standard\",\n",
      "    \"tier\": \"Regional\"\n",
      "  },\n",
      "  \"tags\": {\n",
      "    \"kubernetes-cluster-name\": \"kubernetes\",\n",
      "    \"service\": \"default/nginx-ingress-ingress-nginx-controller\"\n",
      "  },\n",
      "  \"type\": \"Microsoft.Network/publicIPAddresses\",\n",
      "  \"zones\": [\n",
      "    \"1\",\n",
      "    \"2\",\n",
      "    \"3\"\n",
      "  ]\n",
      "}\n",
      "ecl-ingress.eastus.cloudapp.azure.com\n"
     ]
    }
   ],
   "source": [
    "# Public IP address of your ingress controller\n",
    "IP=\"52.224.31.58\"\n",
    "\n",
    "# Name to associate with public IP address\n",
    "DNSNAME=\"ecl-ingress\"\n",
    "\n",
    "# Get the resource-id of the public ip\n",
    "PUBLICIPID=$(az network public-ip list --query \"[?ipAddress!=null]|[?contains(ipAddress, '52.224.31.58')].[id]\" --output tsv)\n",
    "\n",
    "# Update public ip address with DNS name\n",
    "az network public-ip update --ids $PUBLICIPID --dns-name \"ecl-ingress\"\n",
    "\n",
    "# Display the FQDN\n",
    "az network public-ip show --ids $PUBLICIPID --query \"[dnsSettings.fqdn]\" --output tsv"
   ]
  },
  {
   "cell_type": "markdown",
   "id": "ab6ce7f8",
   "metadata": {},
   "source": [
    "## Install cert-manager"
   ]
  },
  {
   "cell_type": "markdown",
   "id": "3c602901",
   "metadata": {},
   "source": [
    "Retrieve and configure certificates for HTTPS using cert-manager, which provides automatic Lets Encrypt certificate generation and management functionality."
   ]
  },
  {
   "cell_type": "markdown",
   "id": "25263166",
   "metadata": {},
   "source": [
    "Install cert-manager controller:"
   ]
  },
  {
   "cell_type": "code",
   "execution_count": 2,
   "id": "a77496d6",
   "metadata": {},
   "outputs": [
    {
     "name": "stdout",
     "output_type": "stream",
     "text": [
      "\"jetstack\" already exists with the same configuration, skipping\n",
      "Hang tight while we grab the latest from your chart repositories...\n",
      "...Successfully got an update from the \"jetstack\" chart repository\n",
      "...Successfully got an update from the \"ingress-nginx\" chart repository\n",
      "...Successfully got an update from the \"haproxy-ingress\" chart repository\n",
      "...Successfully got an update from the \"hpcc\" chart repository\n",
      "...Successfully got an update from the \"nginx-stable\" chart repository\n",
      "Update Complete. ⎈Happy Helming!⎈\n",
      "Error: cannot re-use a name that is still in use\n"
     ]
    },
    {
     "ename": "",
     "evalue": "1",
     "output_type": "error",
     "traceback": []
    }
   ],
   "source": [
    "# Add the Jetstack Helm repository\n",
    "helm repo add jetstack https://charts.jetstack.io\n",
    "\n",
    "# Update your local Helm chart repository cache\n",
    "helm repo update\n",
    "\n",
    "# Install the cert-manager Helm chart\n",
    "helm install cert-manager jetstack/cert-manager \\\n",
    "  --set installCRDs=true \\\n",
    "  --set nodeSelector.\"kubernetes\\.io/os\"=linux \\\n",
    "  --set webhook.nodeSelector.\"kubernetes\\.io/os\"=linux \\\n",
    "  --set cainjector.nodeSelector.\"kubernetes\\.io/os\"=linux"
   ]
  },
  {
   "cell_type": "markdown",
   "id": "159943b6",
   "metadata": {},
   "source": [
    "## Create a CA cluster issuer"
   ]
  },
  {
   "cell_type": "markdown",
   "id": "fbb2ac6d",
   "metadata": {},
   "source": [
    "In order to begin issuing certificates, you will need to set up a ClusterIssuer.  ClusterIssuer works across all namespaces.  Create a cluster issuer, such as *cluster-issuer.yaml*, using the following example manifest. Update the email address with a valid address from your organization:"
   ]
  },
  {
   "cell_type": "code",
   "execution_count": null,
   "id": "98dda591",
   "metadata": {},
   "outputs": [],
   "source": [
    "nano cluster-issuer.yaml"
   ]
  },
  {
   "cell_type": "code",
   "execution_count": null,
   "id": "6be2c3a3",
   "metadata": {},
   "outputs": [],
   "source": [
    "apiVersion: cert-manager.io/v1\n",
    "kind: ClusterIssuer\n",
    "metadata:\n",
    "  name: letsencrypt\n",
    "spec:\n",
    "  acme:\n",
    "    server: https://acme-v02.api.letsencrypt.org/directory\n",
    "    email: amy.ma5656@gmail.com # replace with valid email\n",
    "    privateKeySecretRef:\n",
    "      name: letsencrypt\n",
    "    solvers:\n",
    "    - http01:\n",
    "        ingress:\n",
    "          class: nginx\n",
    "          podTemplate:\n",
    "            spec:\n",
    "              nodeSelector:\n",
    "                \"kubernetes.io/os\": linux"
   ]
  },
  {
   "cell_type": "markdown",
   "id": "ccbca703",
   "metadata": {},
   "source": [
    "Create the issuer:"
   ]
  },
  {
   "cell_type": "code",
   "execution_count": null,
   "id": "dcd4cd60",
   "metadata": {},
   "outputs": [],
   "source": [
    "kubectl apply -f cluster-issuer.yaml"
   ]
  },
  {
   "cell_type": "markdown",
   "id": "2082afb6",
   "metadata": {},
   "source": [
    "The output should look like this:"
   ]
  },
  {
   "cell_type": "code",
   "execution_count": null,
   "id": "9e5ff514",
   "metadata": {},
   "outputs": [],
   "source": [
    "clusterissuer.cert-manager.io/letsencrypt created"
   ]
  },
  {
   "cell_type": "markdown",
   "id": "87e90a84",
   "metadata": {},
   "source": [
    "## Run applications"
   ]
  },
  {
   "cell_type": "markdown",
   "id": "b6efd1fd",
   "metadata": {},
   "source": [
    "An ingress controller and a certificate management solution have been configured, applications can be run.  Create a file with the name \"eclwatch.yaml\""
   ]
  },
  {
   "cell_type": "code",
   "execution_count": null,
   "id": "d1e90953",
   "metadata": {},
   "outputs": [],
   "source": [
    "nano eclwatch.yaml"
   ]
  },
  {
   "cell_type": "code",
   "execution_count": null,
   "id": "e3de13b1",
   "metadata": {},
   "outputs": [],
   "source": [
    "apiVersion: networking.k8s.io/v1\n",
    "kind: Ingress\n",
    "metadata:\n",
    "  name: eclwatch-ingress\n",
    "  annotations:\n",
    "    kubernetes.io/ingress.class: nginx\n",
    "spec:\n",
    "  rules:\n",
    "  -  http:\n",
    "      paths:\n",
    "      - path: /\n",
    "        pathType: Prefix\n",
    "        backend:\n",
    "         service:\n",
    "           name: eclwatch\n",
    "           port:\n",
    "             number: 8010"
   ]
  },
  {
   "cell_type": "markdown",
   "id": "862ea949",
   "metadata": {},
   "source": [
    "* ClusterIP service type: Exposes the service on a cluster-internal IP. Choosing this value makes the service only reachable from within the cluster.  The service will be made publicly available in the next step, by creating a kubernetes ingress resource.\n",
    "* port 8010 corresponds to service eclwatch."
   ]
  },
  {
   "cell_type": "markdown",
   "id": "a5de16a6",
   "metadata": {},
   "source": [
    "Run the application using:"
   ]
  },
  {
   "cell_type": "code",
   "execution_count": null,
   "id": "6bfc32dd",
   "metadata": {},
   "outputs": [],
   "source": [
    "kubectl apply -f eclwatch.yaml"
   ]
  },
  {
   "cell_type": "markdown",
   "id": "4596e88d",
   "metadata": {},
   "source": [
    "The output should be similar to:"
   ]
  },
  {
   "cell_type": "code",
   "execution_count": null,
   "id": "e9335f71",
   "metadata": {},
   "outputs": [],
   "source": [
    "ingress.networking.k8s.io/eclwatch-ingress configured"
   ]
  },
  {
   "cell_type": "markdown",
   "id": "7338ad02",
   "metadata": {},
   "source": [
    "## Create an Ingress route"
   ]
  },
  {
   "cell_type": "markdown",
   "id": "09651554",
   "metadata": {},
   "source": [
    "The application created previously is now running on your kubernetes cluster.  Since it is configured with a service of type \"ClusterIP\" and aren't accessible from the internet. To make the service publicly available, create a Kubernetes ingress resource. The ingress resource configures the rules that route traffic to one of the two applications.\n",
    "\n",
    "* Refer to a previous step where FDQN was made for the ingress controller IP address.  It will be the host in the yaml file shown below.\n",
    "The DNS name you specified is used in the FQDN.\n",
    "**example:**\n",
    "DNS_NAME.eastus.cloudapp.azure.com\n",
    "**In this case, it is:**\n",
    "ecl-aks-ingress.eastus.cloudapp.azure.com"
   ]
  },
  {
   "cell_type": "markdown",
   "id": "8b6e964c",
   "metadata": {},
   "source": [
    "Display your FQDN using:"
   ]
  },
  {
   "cell_type": "code",
   "execution_count": 29,
   "id": "01ae21e5",
   "metadata": {},
   "outputs": [
    {
     "name": "stdout",
     "output_type": "stream",
     "text": [
      "ecl-ingress.eastus.cloudapp.azure.com\n"
     ]
    }
   ],
   "source": [
    "az network public-ip show --ids $PUBLICIPID --query \"[dnsSettings.fqdn]\" --output tsv"
   ]
  },
  {
   "cell_type": "markdown",
   "id": "c51e496e",
   "metadata": {},
   "source": [
    "Create a file for the Ingress route, named \"eclwatch-ingres-route.yaml\""
   ]
  },
  {
   "cell_type": "code",
   "execution_count": null,
   "id": "da1dc224",
   "metadata": {},
   "outputs": [],
   "source": [
    "apiVersion: networking.k8s.io/v1\n",
    "kind: Ingress\n",
    "metadata:\n",
    "  name: eclwatch-ingress\n",
    "  annotations:\n",
    "    kubernetes.io/ingress.class: nginx\n",
    "    nginx.ingress.kubernetes.io/rewrite-target: /$1\n",
    "    nginx.ingress.kubernetes.io/use-regex: \"true\"\n",
    "    cert-manager.io/cluster-issuer: letsencrypt\n",
    "spec:\n",
    "  tls:\n",
    "  - hosts:\n",
    "    - ecl-ingress.eastus.cloudapp.azure.com\n",
    "    secretName: tls-secret\n",
    "  rules:\n",
    "  - host: ecl-ingress.eastus.cloudapp.azure.com\n",
    "    http:\n",
    "      paths:\n",
    "      - path: /(/|$)(.*)\n",
    "        pathType: Prefix\n",
    "        backend:\n",
    "          service:\n",
    "            name: eclwatch\n",
    "            port:\n",
    "              number: 8010"
   ]
  },
  {
   "cell_type": "markdown",
   "id": "9dd09325",
   "metadata": {},
   "source": [
    "Save the file, then create the ingress resource using the kubectl apply command."
   ]
  },
  {
   "cell_type": "code",
   "execution_count": null,
   "id": "924f457b",
   "metadata": {},
   "outputs": [],
   "source": [
    "kubectl apply -f eclwatch-ingress-route.yaml "
   ]
  },
  {
   "cell_type": "markdown",
   "id": "eb4a000d",
   "metadata": {},
   "source": [
    "The output should look like:"
   ]
  },
  {
   "cell_type": "code",
   "execution_count": null,
   "id": "b48330c4",
   "metadata": {},
   "outputs": [],
   "source": [
    "ingress.networking.k8s.io/eclwatch-ingress configured\n",
    "ingress.networking.k8s.io/eclwatch-ingress-static created"
   ]
  },
  {
   "cell_type": "markdown",
   "id": "5f878fe7",
   "metadata": {},
   "source": [
    "## Verify that an object has been created"
   ]
  },
  {
   "cell_type": "markdown",
   "id": "c1490420",
   "metadata": {},
   "source": [
    "Next, a certificate resource must be created. The certificate resource defines the desired X.509 certificate.  Cert-manager has automatically created a certificate object for you using ingress-shim, which is automatically deployed with cert-manager since v0.2.2.\n",
    "* To verify that the certificate was created successfully, use the command below. READY must be True:"
   ]
  },
  {
   "cell_type": "code",
   "execution_count": 30,
   "id": "e06f7106",
   "metadata": {},
   "outputs": [
    {
     "name": "stdout",
     "output_type": "stream",
     "text": [
      "NAME         READY   SECRET       AGE\n",
      "tls-secret   True    tls-secret   5s\n"
     ]
    }
   ],
   "source": [
    " kubectl get certificate"
   ]
  },
  {
   "cell_type": "code",
   "execution_count": 12,
   "id": "b051bb21",
   "metadata": {},
   "outputs": [
    {
     "name": "stdout",
     "output_type": "stream",
     "text": [
      "bash: Example: command not found\n",
      "bash: NAME: command not found\n",
      "bash: tls-secret: command not found\n"
     ]
    },
    {
     "ename": "",
     "evalue": "127",
     "output_type": "error",
     "traceback": []
    }
   ],
   "source": [
    "# Example Output:\n",
    "NAME         READY   SECRET       AGE\n",
    "tls-secret   True    tls-secret   11m"
   ]
  },
  {
   "cell_type": "markdown",
   "id": "e5c63090",
   "metadata": {},
   "source": [
    "## Test the Ingress Configuration."
   ]
  },
  {
   "cell_type": "markdown",
   "id": "243aef08",
   "metadata": {},
   "source": [
    "Open a web browser to the FQDN created previously.   Notice you are redirect to use HTTPS and the certificate is trusted and the demo application is shown in the web browser"
   ]
  },
  {
   "cell_type": "markdown",
   "id": "22f2facb",
   "metadata": {},
   "source": [
    "Open web browser: **https://ecl-ingress.eastus.cloudapp.azure.com**"
   ]
  },
  {
   "cell_type": "markdown",
   "id": "75548ba5",
   "metadata": {},
   "source": [
    "On the upper left corner, connection displays 'secure'. The certificate is valid."
   ]
  },
  {
   "attachments": {
    "tlscert.png": {
     "image/png": "[encoded data removed]"
    }
   },
   "cell_type": "markdown",
   "id": "95de52d6",
   "metadata": {},
   "source": [
    "![tlscert.png](attachment:tlscert.png)"
   ]
  },
  {
   "cell_type": "markdown",
   "id": "cc07a725",
   "metadata": {},
   "source": [
    "## Clean up resources"
   ]
  },
  {
   "cell_type": "markdown",
   "id": "04cefd02",
   "metadata": {},
   "source": [
    "To delete the cluster issuer:"
   ]
  },
  {
   "cell_type": "code",
   "execution_count": null,
   "id": "33a85ad3",
   "metadata": {},
   "outputs": [],
   "source": [
    "kubectl delete -f cluster-issuer.yaml"
   ]
  },
  {
   "cell_type": "markdown",
   "id": "01abbf21",
   "metadata": {},
   "source": [
    "List the Helm releases with the helm list command. Look for charts named nginx and cert-manager:"
   ]
  },
  {
   "cell_type": "code",
   "execution_count": null,
   "id": "ca962afb",
   "metadata": {},
   "outputs": [],
   "source": [
    "helm list"
   ]
  },
  {
   "cell_type": "code",
   "execution_count": null,
   "id": "c2fca86b",
   "metadata": {},
   "outputs": [],
   "source": [
    "# Example output of \"helm list\"\n",
    "NAME                    NAMESPACE       REVISION        UPDATED                                 STATUS          CHART                   APP VERSION\n",
    "cert-manager            DEFAULT         1               2020-01-15 10:23:36.515514 -0600 CST    deployed        cert-manager-v0.13.0    v0.13.0    \n",
    "nginx                   DEFAULT         1               2020-01-15 10:09:45.982693 -0600 CST    deployed        nginx-ingress-1.29.1    0.27.0  "
   ]
  },
  {
   "cell_type": "markdown",
   "id": "32e52a55",
   "metadata": {},
   "source": [
    "Uninstall the releases with the helm uninstall command. The following example uninstalls the NGINX ingress and cert-manager deployments."
   ]
  },
  {
   "cell_type": "code",
   "execution_count": null,
   "id": "2107f275",
   "metadata": {},
   "outputs": [],
   "source": [
    "$ helm uninstall cert-manager nginx \n",
    "\n",
    "release \"cert-manager\" uninstalled\n",
    "release \"nginx\" uninstalled"
   ]
  },
  {
   "cell_type": "markdown",
   "id": "67c7cf06",
   "metadata": {},
   "source": [
    "Remove the application:"
   ]
  },
  {
   "cell_type": "code",
   "execution_count": null,
   "id": "6b97f429",
   "metadata": {},
   "outputs": [],
   "source": [
    "kubectl delete -f eclwatch.yaml"
   ]
  },
  {
   "cell_type": "markdown",
   "id": "5c2449a9",
   "metadata": {},
   "source": [
    "Remove the ingress route that directed traffic to the sample apps:"
   ]
  },
  {
   "cell_type": "code",
   "execution_count": null,
   "id": "aa30f8f1",
   "metadata": {},
   "outputs": [],
   "source": [
    "kubectl delete -f eclwatch-ingress-route.yaml"
   ]
  }
 ],
 "metadata": {
  "kernelspec": {
   "display_name": "Bash",
   "language": "bash",
   "name": "bash"
  },
  "language_info": {
   "codemirror_mode": "shell",
   "file_extension": ".sh",
   "mimetype": "text/x-sh",
   "name": "bash"
  }
 },
 "nbformat": 4,
 "nbformat_minor": 5
}
