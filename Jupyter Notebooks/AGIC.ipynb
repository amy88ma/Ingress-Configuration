{
 "cells": [
  {
   "cell_type": "markdown",
   "id": "c175952c",
   "metadata": {},
   "source": [
    "# Enable Application Gateway Ingress Controller add-on using Azure CLI\n",
    "You can use Azure CLI to enable the Application Gateway Ingress Controller (AGIC) add-on for an existing Azure Kubernetes Services (AKS) cluster.  The Application Gateway Ingress Controller (AGIC) is a Kubernetes application, which makes it possible for Azure Kubernetes Service (AKS) customers to leverage Azure's native Application Gateway L7 load-balancer to expose cloud software to the Internet. AGIC monitors the Kubernetes cluster it is hosted on and continuously updates an Application Gateway, so that selected services are exposed to the Internet.  \n",
    "\n",
    "Use AGIC add-on to expose a Kubernetes application in an existing AKS cluster through an existing Application Gateway deployed in separate virtual networks. Start by creating an AKS cluster in one virtual network and an Application Gateway in a separate virtual network to simulate existing resources. Then enable the AGIC add-on, peer the two virtual networks together, and deploy a sample application that will be exposed through the Application Gateway using the AGIC add-on. If enabling the AGIC add-on for an existing Application Gateway and existing AKS cluster in the same virtual network, then skip the peering step. The add-on prov and also offers a fully managed experience."
   ]
  },
  {
   "cell_type": "markdown",
   "id": "b676735b",
   "metadata": {},
   "source": [
    "## Prerequisites\n",
    "* [install](https://docs.microsoft.com/en-us/cli/azure/install-azure-cli) Azure CLI\n",
    "    * If you're using a local installation, sign in to the Azure CLI by using the az login command. To finish the authentication process, follow the steps displayed in your terminal. \n",
    "    * When you're prompted, install Azure CLI extensions on first use.\n",
    "    * To find version or to upgrade, replace the subscription with a valid one:"
   ]
  },
  {
   "cell_type": "code",
   "execution_count": null,
   "id": "daea09c2",
   "metadata": {},
   "outputs": [],
   "source": [
    "# Find the version\n",
    "az version [--subscription] \n",
    "# Upgrade the current version\n",
    "az upgrade [--all {false, true}]\n",
    "           [--subscription]\n",
    "           [--yes]"
   ]
  },
  {
   "cell_type": "markdown",
   "id": "8bbc26f3",
   "metadata": {},
   "source": [
    "## Create a resource group"
   ]
  },
  {
   "cell_type": "markdown",
   "id": "096041bc",
   "metadata": {},
   "source": [
    "Create a kubernetes resource group in the location eastus.  First login:"
   ]
  },
  {
   "cell_type": "code",
   "execution_count": null,
   "id": "14b9b87f",
   "metadata": {},
   "outputs": [],
   "source": [
    "az login"
   ]
  },
  {
   "cell_type": "markdown",
   "id": "28a5bef9",
   "metadata": {},
   "source": [
    "After logging in, the CLI will list all available subscriptions for your account. Select your subscription using the following command:"
   ]
  },
  {
   "cell_type": "code",
   "execution_count": null,
   "id": "1b5aefdc",
   "metadata": {},
   "outputs": [],
   "source": [
    "az account set --subscription <subscription id>"
   ]
  },
  {
   "cell_type": "markdown",
   "id": "cab60fb0",
   "metadata": {},
   "source": [
    "Then create the resource group:"
   ]
  },
  {
   "cell_type": "code",
   "execution_count": null,
   "id": "5593a9a5",
   "metadata": {},
   "outputs": [],
   "source": [
    "$ az group create --name myResourceGroup --location eastus\n",
    "{\n",
    "  \"id\": \"/subscriptions/49219efc-701f-4c7e-a2ac-c600308a69e3/resourceGroups/myResourceGroup\",\n",
    "  \"location\": \"eastus\",\n",
    "  \"managedBy\": null,\n",
    "  \"name\": \"myResourceGroup\",\n",
    "  \"properties\": {\n",
    "    \"provisioningState\": \"Succeeded\"\n",
    "  },\n",
    "  \"tags\": null,\n",
    "  \"type\": \"Microsoft.Resources/resourceGroups\""
   ]
  },
  {
   "cell_type": "markdown",
   "id": "fadf175f",
   "metadata": {},
   "source": [
    "## Deploy a new AKS cluster\n",
    "Deploy a new AKS cluster, to simulate having an existing AKS cluster that you want to enable the AGIC add-on for.\n",
    "\n",
    "In the following example, deploy a new AKS cluster named myCluster using Azure CNI and Managed Identities in the resource group you created, myResourceGroup."
   ]
  },
  {
   "cell_type": "code",
   "execution_count": null,
   "id": "c90561af",
   "metadata": {},
   "outputs": [],
   "source": [
    "az aks create -n myCluster -g myResourceGroup --network-plugin azure --enable-managed-identity "
   ]
  },
  {
   "cell_type": "markdown",
   "id": "4d6a3be3",
   "metadata": {},
   "source": [
    "## Deploy a new Application Gateway\n",
    "\n",
    "Deploy a new Application Gateway, to simulate having an existing Application Gateway that you want to use to load balance traffic to your AKS cluster, myCluster. The name of the Application Gateway will be *myApplicationGateway*, but you will need to first create a public IP resource, named myPublicIp, and a new virtual network called myVnet with address space 11.0.0.0/8, and a subnet with address space 11.1.0.0/16 called mySubnet, and deploy your Application Gateway in mySubnet using myPublicIp.\n",
    "\n",
    "When using an AKS cluster and Application Gateway in separate virtual networks, the address spaces of the two virtual networks must not overlap. The default address space that an AKS cluster deploys in is 10.0.0.0/8, so we set the Application Gateway virtual network address prefix to 11.0.0.0/8."
   ]
  },
  {
   "cell_type": "code",
   "execution_count": null,
   "id": "b3487883",
   "metadata": {},
   "outputs": [],
   "source": [
    "az network public-ip create -n myPublicIp -g MyResourceGroup --allocation-method Static --sku Standard\n",
    "az network vnet create -n myVnet -g myResourceGroup --address-prefix 11.0.0.0/8 --subnet-name mySubnet --subnet-prefix 11.1.0.0/16 \n",
    "az network application-gateway create -n myApplicationGateway -l eastus -g myResourceGroup --sku Standard_v2 --public-ip-address myPublicIp --vnet-name myVnet --subnet mySubnet"
   ]
  },
  {
   "cell_type": "markdown",
   "id": "e33fbc71",
   "metadata": {},
   "source": [
    "## Enable the AGIC add-on in existing AKS cluster through Azure CLI\n",
    "enable the AGIC add-on in the AKS cluster created, myCluster, and specify the AGIC add-on to use the existing Application Gateway created, myApplicationGateway."
   ]
  },
  {
   "cell_type": "code",
   "execution_count": null,
   "id": "1398418b",
   "metadata": {},
   "outputs": [],
   "source": [
    "appgwId=$(az network application-gateway show -n myApplicationGateway -g myResourceGroup -o tsv --query \"id\") \n",
    "az aks enable-addons -n myCluster -g myResourceGroup -a ingress-appgw --appgw-id $appgwId"
   ]
  },
  {
   "cell_type": "markdown",
   "id": "ae40d487",
   "metadata": {},
   "source": [
    "## Peer the two virtual networks together\n",
    "Since the AKS cluster is deployed in its own virtual network and the Application Gateway in another virtual network, peer the two virtual networks together for traffic to flow from the Application Gateway to the pods in the cluster. Peering the two virtual networks requires running the Azure CLI command two separate times, to ensure that the connection is bi-directional. The first command will create a peering connection from the Application Gateway virtual network to the AKS virtual network; the second command will create a peering connection in the other direction."
   ]
  },
  {
   "cell_type": "code",
   "execution_count": null,
   "id": "29dfbdc6",
   "metadata": {},
   "outputs": [],
   "source": [
    "nodeResourceGroup=$(az aks show -n myCluster -g myResourceGroup -o tsv --query \"nodeResourceGroup\")\n",
    "aksVnetName=$(az network vnet list -g $nodeResourceGroup -o tsv --query \"[0].name\")\n",
    "\n",
    "$ aksVnetId=$(az network vnet show -n $aksVnetName -g $nodeResourceGroup -o tsv --query \"id\")\n",
    "az network vnet peering create -n AppGWtoAKSVnetPeering -g myResourceGroup --vnet-name myVnet --remote-vnet $aksVnetId --allow-vnet-access\n",
    "\n",
    " \"allowForwardedTraffic\": false,\n",
    "  \"allowGatewayTransit\": false,\n",
    "  \"allowVirtualNetworkAccess\": true,\n",
    "  \"doNotVerifyRemoteGateways\": false,\n",
    "  \"etag\": \"W/\\\"4fd4c1d8-a842-4c06-8c4b-45b090f7e074\\\"\",\n",
    "  \"id\": \"/subscriptions/49219efc-701f-4c7e-a2ac-c600308a69e3/resourceGroups/myResourceGroup/providers/Microsoft.Network/virtualNetworks/myVnet/virtualNetworkPeerings/AppGWtoAKSVnetPeering\",\n",
    "  \"name\": \"AppGWtoAKSVnetPeering\",\n",
    "  \"peeringState\": \"Initiated\",\n",
    "  \"peeringSyncLevel\": \"RemoteNotInSync\",\n",
    "  \"provisioningState\": \"Succeeded\",\n",
    "  \"remoteAddressSpace\": {\n",
    "    \"addressPrefixes\": [\n",
    "      \"10.0.0.0/8\"\n",
    "    ]\n",
    "  },\n",
    "  \"remoteBgpCommunities\": null,\n",
    "  \"remoteVirtualNetwork\": {\n",
    "    \"id\": \"/subscriptions/49219efc-701f-4c7e-a2ac-c600308a69e3/resourceGroups/MC_myResourceGroup_myCluster_eastus/providers/Microsoft.Network/virtualNetworks/aks-vnet-19228531\",\n",
    "    \"resourceGroup\": \"MC_myResourceGroup_myCluster_eastus\"\n",
    "  },\n",
    "  \"remoteVirtualNetworkAddressSpace\": {\n",
    "    \"addressPrefixes\": [\n",
    "      \"10.0.0.0/8\"\n",
    "    ]\n",
    "  },\n",
    "  \"resourceGroup\": \"myResourceGroup\",\n",
    "  \"resourceGuid\": \"2fd4805f-70f1-09ee-296b-cf3f3f427ae6\",\n",
    "  \"type\": \"Microsoft.Network/virtualNetworks/virtualNetworkPeerings\",\n",
    "  \"useRemoteGateways\": false\n",
    "\n",
    "$ appGWVnetId=$(az network vnet show -n myVnet -g myResourceGroup -o tsv --query \"id\")\n",
    "az network vnet peering create -n AKStoAppGWVnetPeering -g $nodeResourceGroup --vnet-name $aksVnetName --remote-vnet $appGWVnetId --allow-vnet-access\n",
    "{\n",
    "  \"allowForwardedTraffic\": false,\n",
    "  \"allowGatewayTransit\": false,\n",
    "  \"allowVirtualNetworkAccess\": true,\n",
    "  \"doNotVerifyRemoteGateways\": false,\n",
    "  \"etag\": \"W/\\\"f46bda3c-946f-4a9b-8351-1c7b7e3b64e4\\\"\",\n",
    "  \"id\": \"/subscriptions/49219efc-701f-4c7e-a2ac-c600308a69e3/resourceGroups/MC_myResourceGroup_myCluster_eastus/providers/Microsoft.Network/virtualNetworks/aks-vnet-19228531/virtualNetworkPeerings/AKStoAppGWVnetPeering\",\n",
    "  \"name\": \"AKStoAppGWVnetPeering\",\n",
    "  \"peeringState\": \"Connected\",\n",
    "  \"peeringSyncLevel\": \"FullyInSync\",\n",
    "  \"provisioningState\": \"Succeeded\",\n",
    "  \"remoteAddressSpace\": {\n",
    "    \"addressPrefixes\": [\n",
    "      \"11.0.0.0/8\"\n",
    "    ]\n",
    "  },\n",
    "  \"remoteBgpCommunities\": null,\n",
    "  \"remoteVirtualNetwork\": {\n",
    "    \"id\": \"/subscriptions/49219efc-701f-4c7e-a2ac-c600308a69e3/resourceGroups/myResourceGroup/providers/Microsoft.Network/virtualNetworks/myVnet\",\n",
    "    \"resourceGroup\": \"myResourceGroup\"\n",
    "  },\n",
    "  \"remoteVirtualNetworkAddressSpace\": {\n",
    "    \"addressPrefixes\": [\n",
    "      \"11.0.0.0/8\"\n",
    "    ]\n",
    "  },\n",
    "  \"resourceGroup\": \"MC_myResourceGroup_myCluster_eastus\",\n",
    "  \"resourceGuid\": \"2fd4805f-70f1-09ee-296b-cf3f3f427ae6\",\n",
    "  \"type\": \"Microsoft.Network/virtualNetworks/virtualNetworkPeerings\",\n",
    "  \"useRemoteGateways\": false\n",
    "}\n"
   ]
  },
  {
   "cell_type": "markdown",
   "id": "eea10254",
   "metadata": {},
   "source": [
    "## Deploy a sample application using AGIC"
   ]
  },
  {
   "cell_type": "markdown",
   "id": "e1f97824",
   "metadata": {},
   "source": [
    "You'll now deploy a sample application to the AKS cluster you created that will use the AGIC add-on for Ingress and connect the Application Gateway to the AKS cluster. First, you'll get credentials to the AKS cluster you deployed by running the az aks get-credentials command."
   ]
  },
  {
   "cell_type": "code",
   "execution_count": null,
   "id": "3f33508d",
   "metadata": {},
   "outputs": [],
   "source": [
    "$ az aks get-credentials -n myCluster -g myResourceGroup\n",
    "Merged \"myCluster\" as current context in /Users/amyma/.kube/config"
   ]
  },
  {
   "cell_type": "markdown",
   "id": "47240c96",
   "metadata": {},
   "source": [
    "Once you have the credentials to the cluster you created, run the following command to set up a sample application that uses AGIC for Ingress to the cluster. AGIC will update the Application Gateway you set up earlier with corresponding routing rules to the new sample application you deployed."
   ]
  },
  {
   "cell_type": "code",
   "execution_count": null,
   "id": "c4292fc2",
   "metadata": {},
   "outputs": [],
   "source": [
    "$ kubectl apply -f https://raw.githubusercontent.com/Azure/application-gateway-kubernetes-ingress/master/docs/examples/aspnetapp.yaml \n",
    "pod/aspnetapp created\n",
    "service/aspnetapp created\n",
    "ingress.extensions/aspnetapp created"
   ]
  },
  {
   "cell_type": "markdown",
   "id": "7d64e204",
   "metadata": {},
   "source": [
    "## Expose a service\n",
    "Now expose a service on the same host using different routes, this app is a server for eclwatch.  Open a file, named eclwatch-ingress:"
   ]
  },
  {
   "cell_type": "code",
   "execution_count": null,
   "id": "12cebb4f",
   "metadata": {},
   "outputs": [],
   "source": [
    "nano eclwatch-ingress.yaml"
   ]
  },
  {
   "cell_type": "code",
   "execution_count": null,
   "id": "24da0e81",
   "metadata": {},
   "outputs": [],
   "source": [
    "apiVersion: networking.k8s.io/v1\n",
    "kind: Ingress\n",
    "metadata:\n",
    "  name: eclwatch-ingress\n",
    "  annotations:\n",
    "    kubernetes.io/ingress.class: nginx\n",
    "spec:\n",
    "  rules:\n",
    "  -  http:\n",
    "      paths:\n",
    "      - path: /\n",
    "        pathType: Prefix\n",
    "        backend:\n",
    "         service:\n",
    "           name: eclwatch\n",
    "           port: \n",
    "             number: 8010\n"
   ]
  },
  {
   "cell_type": "markdown",
   "id": "e5f970a7",
   "metadata": {},
   "source": [
    "Save this file, and apply it using:"
   ]
  },
  {
   "cell_type": "code",
   "execution_count": null,
   "id": "98dec055",
   "metadata": {},
   "outputs": [],
   "source": [
    "$ kubectl apply -f eclwatch-ingress.yaml\n",
    "ingress.networking.k8s.io/eclwatch-ingress created"
   ]
  },
  {
   "cell_type": "markdown",
   "id": "97569c4d",
   "metadata": {},
   "source": [
    "## Check that the application is reachable"
   ]
  },
  {
   "cell_type": "code",
   "execution_count": 2,
   "id": "c8cb25d0",
   "metadata": {},
   "outputs": [
    {
     "name": "stdout",
     "output_type": "stream",
     "text": [
      "\u001b[33;1mWarning:\u001b[0m extensions/v1beta1 Ingress is deprecated in v1.14+, unavailable in v1.22+; use networking.k8s.io/v1 Ingress\n",
      "NAME               CLASS    HOSTS   ADDRESS   PORTS   AGE\n",
      "aspnetapp          <none>   *                 80      7h36m\n",
      "eclwatch-ingress   <none>   *                 80      16m\n"
     ]
    }
   ],
   "source": [
    "kubectl get ingress"
   ]
  },
  {
   "cell_type": "markdown",
   "id": "7157ea4d",
   "metadata": {},
   "source": [
    "Check that the sample application you created is up and running by either visiting the IP address of the Application Gateway that you got from running the above command or check with curl. It may take Application Gateway a minute to get the update, so if the Application Gateway is still in an \"Updating\" state on Portal, then let it finish before trying to reach the IP address.\n"
   ]
  },
  {
   "cell_type": "markdown",
   "id": "b93e730c",
   "metadata": {},
   "source": [
    "# Clean up resources\n",
    "When no longer needed, remove the resource group, application gateway, and all related resources.\n"
   ]
  },
  {
   "cell_type": "code",
   "execution_count": null,
   "id": "74fa88ee",
   "metadata": {},
   "outputs": [],
   "source": [
    "az group delete --name myResourceGroup "
   ]
  }
 ],
 "metadata": {
  "kernelspec": {
   "display_name": "Bash",
   "language": "bash",
   "name": "bash"
  },
  "language_info": {
   "codemirror_mode": "shell",
   "file_extension": ".sh",
   "mimetype": "text/x-sh",
   "name": "bash"
  }
 },
 "nbformat": 4,
 "nbformat_minor": 5
}
