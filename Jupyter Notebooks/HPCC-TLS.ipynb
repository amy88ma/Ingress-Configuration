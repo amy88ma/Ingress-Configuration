{
 "cells": [
  {
   "cell_type": "markdown",
   "id": "bb00ed39",
   "metadata": {},
   "source": [
    "# Testing User cases in TLS\n",
    "Test- Version 8.0.20-1\n",
    "\n",
    "[Original HPCC TLS configuration tutorial](https://github.com/hpcc-systems/HPCC-Platform/blob/master/helm/examples/certmanager/README.md)\n",
    "to:\n",
    "* install cert manager\n",
    "* Create a root certificate for HPCC local cluster certificate authority\n",
    "* create kubernetes tls secret\n",
    "## Prerequisites:\n",
    "1. Install Helm \n",
    "2. Install Ingress Nginx controller\n",
    "3. Deploy HPCC helm chart:"
   ]
  },
  {
   "cell_type": "markdown",
   "id": "0c02f7c7",
   "metadata": {},
   "source": [
    "1. Install Helm:\n",
    "\n",
    "Visit this [link](https://helm.sh/docs/intro/install/) to install the latest version of Helm."
   ]
  },
  {
   "cell_type": "markdown",
   "id": "405f39ed",
   "metadata": {},
   "source": [
    "2. Install Nginx controller with Helm"
   ]
  },
  {
   "cell_type": "code",
   "execution_count": null,
   "id": "18418cc8",
   "metadata": {},
   "outputs": [],
   "source": [
    "helm repo add ingress-nginx https://kubernetes.github.io/ingress-nginx\n",
    "helm repo update\n",
    "\n",
    "helm install ingress-nginx ingress-nginx/ingress-nginx"
   ]
  },
  {
   "cell_type": "markdown",
   "id": "b4e2f39f",
   "metadata": {},
   "source": [
    "3. Deploy the HPCC helm chart\n",
    "\n",
    "set certificates to be enabled, and the version to be 8.0.20-1"
   ]
  },
  {
   "cell_type": "code",
   "execution_count": null,
   "id": "bc62ce05",
   "metadata": {},
   "outputs": [],
   "source": [
    "$ helm install hpcc hpcc/ --set global.image.version=8.0.20-1 --set certificates.enabled=true -f examples/azure/values-auto-azurefile.yaml\n",
    "\n",
    "NAME: hpcc\n",
    "LAST DEPLOYED: Mon Jul 12 14:29:33 2021\n",
    "NAMESPACE: default\n",
    "STATUS: deployed\n",
    "REVISION: 1\n",
    "TEST SUITE: None\n",
    "NOTES:\n",
    "Thank you for installing the HPCC chart.\n",
    "\n",
    "This chart has defined the following HPCC components:\n",
    "  dali.mydali\n",
    "  dfuserver.dfuserver\n",
    "  eclagent.hthor\n",
    "  eclagent.roxie-workunit\n",
    "  eclccserver.myeclccserver\n",
    "  esp.eclwatch\n",
    "  esp.eclservices\n",
    "  esp.eclqueries\n",
    "  esp.esdl-sandbox\n",
    "  esp.sql2ecl\n",
    "  roxie.roxie\n",
    "  thor.thor\n",
    "  sasha.dfurecovery-archiver\n",
    "  sasha.dfuwu-archiver\n",
    "  sasha.file-expiry\n",
    "  sasha.wu-archiver\n"
   ]
  },
  {
   "cell_type": "markdown",
   "id": "b9b99148",
   "metadata": {},
   "source": [
    "## Testing TLS without Ingress \n",
    "Before applying Ingress file, the eclwatch IP is not accessible from the webpage, run the command to test the TLS from the command line."
   ]
  },
  {
   "cell_type": "code",
   "execution_count": null,
   "id": "796b032d",
   "metadata": {},
   "outputs": [],
   "source": [
    "$ ecl run -s 20.72.177.107 --ssl hthor examples/certmanager/localhttpcall.ecl\n",
    "\n",
    "<Result>\n",
    "<Dataset name='localHttpEchoResult'>\n",
    " <Row><Method>GET</Method><UrlPath>/WsSmc/HttpEcho</UrlPath><UrlParameters>name=doe,joe&amp;number=1</UrlParameters><Headers><Header>Accept-Encoding: gzip, deflate</Header><Header>Accept: text/xml</Header></Headers><Content></Content></Row>\n",
    "</Dataset>\n",
    "</Result>"
   ]
  },
  {
   "cell_type": "markdown",
   "id": "2aa6622b",
   "metadata": {},
   "source": [
    "## User case 1.  Adding Ingress in front of TLS secret\n",
    "After using the following command, apply the ingress file to route to backend eclwatch."
   ]
  },
  {
   "cell_type": "code",
   "execution_count": null,
   "id": "8a6882df",
   "metadata": {},
   "outputs": [],
   "source": [
    "kubectl create secret tls hpcc-local-issuer-key-pair --cert=ca.crt --key=ca.key"
   ]
  },
  {
   "cell_type": "code",
   "execution_count": null,
   "id": "c1df108f",
   "metadata": {},
   "outputs": [],
   "source": [
    "nano eclwatch.yaml"
   ]
  },
  {
   "cell_type": "code",
   "execution_count": null,
   "id": "c0d69830",
   "metadata": {},
   "outputs": [],
   "source": [
    "apiVersion: networking.k8s.io/v1\n",
    "kind: Ingress\n",
    "metadata:\n",
    "  name: eclwatch-ingress\n",
    "  annotations:\n",
    "    kubernetes.io/ingress.class: nginx\n",
    "spec:\n",
    "  rules:\n",
    "  -  http:\n",
    "      paths:\n",
    "      - path: /\n",
    "        pathType: Prefix\n",
    "        backend:\n",
    "         service:\n",
    "           name: eclwatch\n",
    "           port:\n",
    "             number: 8010"
   ]
  },
  {
   "cell_type": "markdown",
   "id": "93528d5d",
   "metadata": {},
   "source": [
    "Create the service with the following command:"
   ]
  },
  {
   "cell_type": "code",
   "execution_count": null,
   "id": "e4503e7a",
   "metadata": {},
   "outputs": [],
   "source": [
    "$ kubectl apply -f eclwatch.yaml\n",
    "ingress.networking.k8s.io/eclwatch-ingress configured"
   ]
  },
  {
   "cell_type": "markdown",
   "id": "c7e7b2cc",
   "metadata": {},
   "source": [
    "### Test the Ingress route\n",
    "To test the Ingress route, visit the External IP address for ECLwatch, followed by port number 8010.\n",
    "\n",
    "Use the following command to get the External IP address:"
   ]
  },
  {
   "cell_type": "code",
   "execution_count": 1,
   "id": "23af9796",
   "metadata": {},
   "outputs": [
    {
     "name": "stdout",
     "output_type": "stream",
     "text": [
      "NAME                                 TYPE           CLUSTER-IP     EXTERNAL-IP     PORT(S)                      AGE\n",
      "cert-manager                         ClusterIP      10.0.43.14     <none>          9402/TCP                     9h\n",
      "cert-manager-webhook                 ClusterIP      10.0.134.59    <none>          443/TCP                      9h\n",
      "eclqueries                           LoadBalancer   10.0.44.101    20.72.178.0     8002:31283/TCP               9h\n",
      "eclservices                          ClusterIP      10.0.223.39    <none>          8010/TCP                     9h\n",
      "eclwatch                             LoadBalancer   10.0.190.82    20.72.177.107   8010:30484/TCP               9h\n",
      "esdl-sandbox                         LoadBalancer   10.0.25.173    20.72.177.151   8899:30547/TCP               9h\n",
      "ingress-nginx-controller             LoadBalancer   10.0.21.199    52.188.94.0     80:30397/TCP,443:31991/TCP   15h\n",
      "ingress-nginx-controller-admission   ClusterIP      10.0.19.198    <none>          443/TCP                      15h\n",
      "kubernetes                           ClusterIP      10.0.0.1       <none>          443/TCP                      16h\n",
      "mydali                               ClusterIP      10.0.10.232    <none>          7070/TCP                     9h\n",
      "roxie                                LoadBalancer   10.0.245.101   20.72.177.134   9876:31262/TCP               9h\n",
      "roxie-toposerver                     ClusterIP      None           <none>          9004/TCP                     9h\n",
      "sasha-dfuwu-archiver                 ClusterIP      10.0.38.149    <none>          8877/TCP                     9h\n",
      "sasha-wu-archiver                    ClusterIP      10.0.249.255   <none>          8877/TCP                     9h\n",
      "sql2ecl                              LoadBalancer   10.0.119.231   20.62.226.25    8510:31902/TCP               9h\n"
     ]
    }
   ],
   "source": [
    "kubectl get svc"
   ]
  },
  {
   "cell_type": "markdown",
   "id": "97e04d89",
   "metadata": {},
   "source": [
    "The external IP is **20.72.177.107**.  Visit this webpage, enter the IP into a web browser followed by port number 8010.\n",
    "\n",
    "https://20.72.177.107:8010\n",
    "\n",
    "The result is the ECL watch webpage."
   ]
  },
  {
   "cell_type": "markdown",
   "id": "fe7f563c",
   "metadata": {},
   "source": [
    "## Case 2. Using ssl redirect\n",
    "After installing creating TLS secret and installing SSL, redirect visitors who are trying to access the HTTP site to the HTTPS site. Use the annotaitons below to redirect visitors to the HTTPS domain automatically, when they use HTTP domain.\n",
    "\n",
    "Use backend protocol to indicate how Nginx should communicate with the backend service. (Replaces secure-backends in older versions) Valid Values: HTTP, HTTPS, GRPC, GRPCS, AJP and FCGI"
   ]
  },
  {
   "cell_type": "markdown",
   "id": "d1ad3b62",
   "metadata": {},
   "source": [
    "Open the previously created file named **eclwatch.yaml**, and add the following annotations:"
   ]
  },
  {
   "cell_type": "code",
   "execution_count": null,
   "id": "a34814df",
   "metadata": {},
   "outputs": [],
   "source": [
    "apiVersion: networking.k8s.io/v1\n",
    "kind: Ingress\n",
    "metadata:\n",
    "  name: eclwatch-ingress\n",
    "  annotations:\n",
    "    nginx.ingress.kubernetes.io/backend-protocol: \"HTTPS\"\n",
    "    kubernetes.io/ingress.class: nginx\n",
    "    nginx.ingress.kubernetes.io/ssl-redirect: \"true\"\n",
    "spec:\n",
    "  rules:\n",
    "  -  http:\n",
    "      paths:\n",
    "      - path: /\n",
    "        pathType: Prefix\n",
    "        backend:\n",
    "         service:\n",
    "           name: eclwatch\n",
    "           port:\n",
    "             number: 8010"
   ]
  },
  {
   "cell_type": "markdown",
   "id": "652d0bad",
   "metadata": {},
   "source": [
    "Delete the previously created file, then apply the new one:"
   ]
  },
  {
   "cell_type": "code",
   "execution_count": null,
   "id": "b3c5ba3c",
   "metadata": {},
   "outputs": [],
   "source": [
    "$ kubectl delete -f eclwatch.yaml\n",
    "ingress.networking.k8s.io \"eclwatch-ingress\" deleted\n",
    "\n",
    "$ kubectl apply -f eclwatch.yaml\n",
    "ingress.networking.k8s.io/eclwatch-ingress created"
   ]
  },
  {
   "cell_type": "markdown",
   "id": "aa8ee7b9",
   "metadata": {},
   "source": [
    "## Test the annotations:\n",
    "To test the annotations, use the eclwatch External IP, gotten previously from using the command **kubectl get svc**, and visit the IP for eclwatch, followed by :8010\n",
    "\n",
    "20.72.177.107:8010\n",
    "\n",
    "\n",
    "The annotations should automatically redirect domain to HTTPS, eclwatch webpage."
   ]
  }
 ],
 "metadata": {
  "kernelspec": {
   "display_name": "Bash",
   "language": "bash",
   "name": "bash"
  },
  "language_info": {
   "codemirror_mode": "shell",
   "file_extension": ".sh",
   "mimetype": "text/x-sh",
   "name": "bash"
  }
 },
 "nbformat": 4,
 "nbformat_minor": 5
}

