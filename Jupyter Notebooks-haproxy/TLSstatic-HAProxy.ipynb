{
 "cells": [
  {
   "cell_type": "markdown",
   "id": "353a050d",
   "metadata": {},
   "source": [
    "# Create an ingress controller with a static public IP\n",
    "This example shows how to deploy the HAProxy ingress controller in an Azure Kubernetes Service (AKS) cluster. The ingress controller is configured with a static public IP address. The cert-manager project is used to automatically generate and configure Let's Encrypt certificates. Finally, applications are run in the AKS cluster, each of which is accessible over a single FQDN (Fully Qualified Domain Name) address.\n",
    "## Prerequisites\n",
    "* [Install cert-manager](https://github.com/amy88ma/Ingress-Configuration/blob/0deef09a5e74184e43fcac84e0b40289543e72db/Jupyter%20Notebooks/Install_cert-manager.ipynb)\n",
    "* [Install helm](https://github.com/amy88ma/Ingress-Configuration/blob/0deef09a5e74184e43fcac84e0b40289543e72db/Jupyter%20Notebooks/Install_helm.ipynb)\n",
    "* Have an existing AKS cluster \n",
    "* Run Azure CLI version 2.0.64"
   ]
  },
  {
   "cell_type": "markdown",
   "id": "4839d108",
   "metadata": {},
   "source": [
    "## Create an ingress controller\n",
    "By default, an HAProxy ingress controller is created with a new public IP address assignment. This public IP address is only static for the life-span of the ingress controller, and is lost if the controller is deleted and re-created. A common configuration requirement is to provide the ingress controller an existing static public IP address. The static public IP address remains if the ingress controller is deleted. This approach allows you to use existing DNS records and network configurations in a consistent manner throughout the lifecycle of your applications.\n",
    "\n",
    "If you need to create a static public IP address, first get the resource group name of the AKS cluster with the az aks show command:"
   ]
  },
  {
   "cell_type": "code",
   "execution_count": null,
   "id": "4ce48e5e",
   "metadata": {},
   "outputs": [],
   "source": [
    "$ az aks show --resource-group $RESOURCE_GROUP_NAME --name $CLUSTER_NAME --query nodeResourceGroup -o tsv"
   ]
  },
  {
   "cell_type": "markdown",
   "id": "d030fb4e",
   "metadata": {},
   "source": [
    "The output which shows the resource group name is shown:"
   ]
  },
  {
   "cell_type": "code",
   "execution_count": null,
   "id": "2746c6b9",
   "metadata": {},
   "outputs": [],
   "source": [
    "MC_ingress-amy_aks-ingress-amy-eastus2_eastus2"
   ]
  },
  {
   "cell_type": "markdown",
   "id": "f939e4df",
   "metadata": {},
   "source": [
    "Next, create a public IP address with the static allocation method using the az network public-ip create command. The following example creates a public IP address named myAKSPublicIP in the AKS cluster resource group obtained in the previous step:"
   ]
  },
  {
   "cell_type": "code",
   "execution_count": null,
   "id": "6f4c2a26",
   "metadata": {},
   "outputs": [],
   "source": [
    "az network public-ip create --resource-group MC_ingress-amy_aks-ingress-amy-eastus2_eastus2 --name myAKSPublicIP --sku Standard --allocation-method static --query publicIp.ipAddress -o tsv"
   ]
  },
  {
   "cell_type": "markdown",
   "id": "d925e8f1",
   "metadata": {},
   "source": [
    "The output shows the static public IP address created:"
   ]
  },
  {
   "cell_type": "code",
   "execution_count": null,
   "id": "69bd663c",
   "metadata": {},
   "outputs": [],
   "source": [
    "20.97.220.225"
   ]
  },
  {
   "cell_type": "markdown",
   "id": "1a903567",
   "metadata": {},
   "source": [
    "Now deploy the HAProxy-ingress chart with Helm. For added redundancy, two replicas of the ingress controllers are deployed with the --set controller.replicaCount parameter. To fully benefit from running replicas of the ingress controller, make sure there's more than one node in your AKS cluster.\n",
    "\n",
    "You must pass two additional parameters to the Helm release so the ingress controller is made aware both of the static IP address of the load balancer to be allocated to the ingress controller service, and of the DNS name label being applied to the public IP address resource. For the HTTPS certificates to work correctly, a DNS name label is used to configure an FQDN for the ingress controller IP address.\n",
    "\n",
    "1. Add the --set controller.service.loadBalancerIP parameter. Specify your own public IP address that was created in the previous step.\n",
    "2. Add the --set controller.service.annotations.\"service\\.beta\\.kubernetes\\.io/azure-dns-label-name\" parameter. Specify a DNS name label to be applied to the public IP address that was created in the previous step."
   ]
  },
  {
   "cell_type": "code",
   "execution_count": null,
   "id": "f890a41e",
   "metadata": {},
   "outputs": [],
   "source": [
    "helm install haproxy-ingress haproxy-ingress/haproxy-ingress\\\n",
    ">   --create-namespace --namespace ingress-controller\\\n",
    ">   --version 0.12.6\\\n",
    ">   --set controller.replicaCount=2 \\\n",
    ">   --set controller.service.loadBalancerIP=\"20.97.220.225\" \\\n",
    ">   --set controller.service.annotations.\"service\\.beta\\.kubernetes\\.io/azure-dns-label-name\"=\"mypublicip\""
   ]
  },
  {
   "cell_type": "markdown",
   "id": "7b1cd3be",
   "metadata": {},
   "source": [
    "The output shows HAProxy controller was installed:"
   ]
  },
  {
   "cell_type": "code",
   "execution_count": null,
   "id": "139f339c",
   "metadata": {},
   "outputs": [],
   "source": [
    "NAME: haproxy-ingress\n",
    "LAST DEPLOYED: Sun Jul 25 22:45:27 2021\n",
    "NAMESPACE: ingress-controller\n",
    "STATUS: deployed\n",
    "REVISION: 1\n",
    "TEST SUITE: None\n",
    "NOTES:\n",
    "HAProxy Ingress has been installed!"
   ]
  },
  {
   "cell_type": "markdown",
   "id": "aef0afbf",
   "metadata": {},
   "source": [
    "When the Kubernetes load balancer service is created for the ingress controller, your static IP address is assigned, as shown in the following example output:"
   ]
  },
  {
   "cell_type": "code",
   "execution_count": null,
   "id": "3953f329",
   "metadata": {},
   "outputs": [],
   "source": [
    "kubectl --namespace ingress-controller get services haproxy-ingress -o wide -w"
   ]
  },
  {
   "cell_type": "code",
   "execution_count": null,
   "id": "72faf78d",
   "metadata": {},
   "outputs": [],
   "source": [
    "NAME              TYPE           CLUSTER-IP    EXTERNAL-IP     PORT(S)                      AGE   SELECTOR\n",
    "haproxy-ingress   LoadBalancer   10.0.62.167   20.97.220.225   80:32724/TCP,443:32741/TCP   60s   app.kubernetes.io/instance=haproxy-ingress,app.kubernetes.io/name=haproxy-ingress"
   ]
  },
  {
   "cell_type": "markdown",
   "id": "2100aca7",
   "metadata": {},
   "source": [
    "You can verify that the DNS name label has been applied by querying the FQDN on the public IP address as follows:"
   ]
  },
  {
   "cell_type": "code",
   "execution_count": null,
   "id": "f5effc92",
   "metadata": {},
   "outputs": [],
   "source": [
    "az network public-ip list --resource-group MC_ingress-amy_aks-ingress-amy-eastus2_eastus2 --query \"[?name=='myAKSblicIP'].[dnsSettings.fqdn]\" -o tsv"
   ]
  },
  {
   "cell_type": "code",
   "execution_count": null,
   "id": "d7528400",
   "metadata": {},
   "outputs": [],
   "source": [
    "mypublicip.eastus2.cloudapp.azure.com"
   ]
  },
  {
   "cell_type": "markdown",
   "id": "e1f1ac30",
   "metadata": {},
   "source": [
    "The ingress controller is now accessible through the IP address or the FQDN."
   ]
  },
  {
   "cell_type": "markdown",
   "id": "4509b008",
   "metadata": {},
   "source": [
    "## Create a CA cluster issuer\n",
    "Before certificates can be issued, cert-manager requires an Issuer or ClusterIssuer resource. These Kubernetes resources are identical in functionality, however Issuer works in a single namespace, and ClusterIssuer works across all namespaces. For more information, see the cert-manager issuer documentation.\n",
    "\n",
    "Create a cluster issuer, such as cluster-issuer.yaml, using the following example manifest. Update the email address with a valid address from your organization:"
   ]
  },
  {
   "cell_type": "code",
   "execution_count": null,
   "id": "d29bf7a6",
   "metadata": {},
   "outputs": [],
   "source": [
    "apiVersion: cert-manager.io/v1\n",
    "kind: ClusterIssuer\n",
    "metadata:\n",
    "  name: letsencrypt-staging\n",
    "spec:\n",
    "  acme:\n",
    "    server: https://acme-staging-v02.api.letsencrypt.org/directory\n",
    "    email: user@example.com\n",
    "    privateKeySecretRef:\n",
    "      name: letsencrypt-staging\n",
    "    solvers:\n",
    "    - http01:\n",
    "        ingress:\n",
    "          class: haproxy\n",
    "          podTemplate:\n",
    "            spec:\n",
    "              nodeSelector:\n",
    "                \"kubernetes.io/os\": linux"
   ]
  },
  {
   "cell_type": "code",
   "execution_count": null,
   "id": "6d2bea0f",
   "metadata": {},
   "outputs": [],
   "source": [
    "$ kubectl apply -f cluster-issuer.yaml\n",
    "\n",
    "clusterissuer.cert-manager.io/letsencrypt-staging created"
   ]
  },
  {
   "cell_type": "markdown",
   "id": "74760890",
   "metadata": {},
   "source": [
    "## Create an ingress route\n",
    "In the following example, traffic to the address https://mypublicip.eastus2.cloudapp.azure.com/ followed by path name is routed to the specific service.  Update the hosts and host to the DNS name you created in a previous step.\n",
    "\n",
    "Create a file named hpcc-ingress.yaml and copy in the following example."
   ]
  },
  {
   "cell_type": "code",
   "execution_count": null,
   "id": "127a3924",
   "metadata": {},
   "outputs": [],
   "source": [
    "apiVersion: networking.k8s.io/v1beta1\n",
    "kind: Ingress\n",
    "metadata:\n",
    "  name: hpcc-ingress\n",
    "  annotations:\n",
    "    kubernetes.io/ingress.class: haproxy\n",
    "    nginx.ingress.kubernetes.io/use-regex: \"true\"\n",
    "    nginx.ingress.kubernetes.io/rewrite-target: /$1\n",
    "    cert-manager.io/cluster-issuer: letsencrypt\n",
    "spec:\n",
    "  tls:\n",
    "  - hosts:\n",
    "    - mypublicip.eastus2.cloudapp.azure.com  \n",
    "    secretName: tls-secret\n",
    "  rules:\n",
    "  - host: mypublicip.eastus2.cloudapp.azure.com  \n",
    "    http:\n",
    "      paths:\n",
    "      - backend:\n",
    "          serviceName: eclwatch\n",
    "          servicePort: 8010\n",
    "        path: /eclwatch(/|$)(.*)\n",
    "      - backend:\n",
    "          serviceName: eclqueries\n",
    "          servicePort: 8002\n",
    "        path: /eclqueries(/|$)(.*)\n",
    "      - backend:\n",
    "          serviceName: esdl-sandbox\n",
    "          servicePort: 8899\n",
    "        path: /esdl(/|$)(.*)\n",
    "      - backend:\n",
    "          serviceName: sql2ecl\n",
    "          servicePort: 8510\n",
    "        path: /wssql(/|$)(.*)\n",
    "      - backend:\n",
    "          serviceName: eclservices\n",
    "          servicePort: 8010\n",
    "        path: /(.*)"
   ]
  },
  {
   "cell_type": "markdown",
   "id": "ce94f85a",
   "metadata": {},
   "source": [
    "Create the ingress resource using the ```kubectl apply``` command:"
   ]
  },
  {
   "cell_type": "code",
   "execution_count": null,
   "id": "ea3086f3",
   "metadata": {},
   "outputs": [],
   "source": [
    "$ kubectl apply -f hpcc-ingress.yaml\n",
    "\n",
    "ingress.networking.k8s.io/hpcc-ingress configured"
   ]
  },
  {
   "cell_type": "markdown",
   "id": "4baa9f7a",
   "metadata": {},
   "source": [
    "## Verify certificate object\n",
    "Next, a certificate resource must be created. The certificate resource defines the desired X.509 certificate. For more information, see cert-manager certificates.\n",
    "\n",
    "To verify that the certificate was created successfully, use the ```kubectl describe certificate tls-secret --namespace ingress-basic``` command.\n",
    "\n",
    "If the certificate was issued, you will see output similar to the following:"
   ]
  },
  {
   "cell_type": "code",
   "execution_count": null,
   "id": "594a06b6",
   "metadata": {},
   "outputs": [],
   "source": [
    "Type    Reason          Age   From          Message\n",
    "----    ------          ----  ----          -------\n",
    "  Normal  CreateOrder     11m   cert-manager  Created new ACME order, attempting validation...\n",
    "  Normal  DomainVerified  10m   cert-manager  Domain \"demo-aks-ingress.eastus.cloudapp.azure.com\" verified with \"http-01\" validation\n",
    "  Normal  IssueCert       10m   cert-manager  Issuing certificate...\n",
    "  Normal  CertObtained    10m   cert-manager  Obtained certificate from ACME server\n",
    "  Normal  CertIssued      10m   cert-manager  Certificate issued successfully"
   ]
  },
  {
   "cell_type": "markdown",
   "id": "6700c66f",
   "metadata": {},
   "source": [
    "## Test the ingress configuration\n",
    "Open a web browser to the FQDN of your Kubernetes ingress controller, such as https://mypublicip.eastus2.cloudapp.azure.com.\n",
    "\n",
    "As these examples use letsencrypt-staging, the issued TLS/SSL certificate is not trusted by the browser. Accept the warning prompt to continue to your application. The certificate information shows this Fake LE Intermediate X1 certificate is issued by Let's Encrypt. This fake certificate indicates cert-manager processed the request correctly and received a certificate from the provider.\n",
    "\n",
    "When you change Let's Encrypt to use ```prod``` rather than ```staging```, a trusted certificate issued by Let's Encrypt is used.\n",
    "\n",
    "Delete the previously created cluster issuer file, and change ```staging``` to ```prod```:"
   ]
  },
  {
   "cell_type": "code",
   "execution_count": null,
   "id": "58f03e09",
   "metadata": {},
   "outputs": [],
   "source": [
    "apiVersion: cert-manager.io/v1\n",
    "kind: ClusterIssuer\n",
    "metadata:\n",
    "  name: letsencrypt-staging\n",
    "spec:\n",
    "  acme:\n",
    "    server: https://acme-staging-v02.api.letsencrypt.org/directory\n",
    "    email: user@example.com\n",
    "    privateKeySecretRef:\n",
    "      name: letsencrypt-prod\n",
    "    solvers:\n",
    "    - http01:\n",
    "        ingress:\n",
    "          class: haproxy\n",
    "          podTemplate:\n",
    "            spec:\n",
    "              nodeSelector:\n",
    "                \"kubernetes.io/os\": linux"
   ]
  },
  {
   "cell_type": "markdown",
   "id": "aaadbfaf",
   "metadata": {},
   "source": [
    "Then apply this new file:"
   ]
  },
  {
   "cell_type": "code",
   "execution_count": null,
   "id": "4c44ea20",
   "metadata": {},
   "outputs": [],
   "source": [
    "$ kubectl apply -f cluster-issuer.yaml\n",
    "\n",
    "clusterissuer.cert-manager.io/letsencrypt-staging created"
   ]
  },
  {
   "cell_type": "markdown",
   "id": "4db513ae",
   "metadata": {},
   "source": [
    "## Clean up resources\n",
    "1. Delete the HAProxy controller and all created resources under the namespace:"
   ]
  },
  {
   "cell_type": "code",
   "execution_count": null,
   "id": "257a7419",
   "metadata": {},
   "outputs": [],
   "source": [
    "$ helm uninstall haproxy-ingress --namespace ingress-controller\n",
    "release \"haproxy-ingress\" uninstalled"
   ]
  },
  {
   "cell_type": "markdown",
   "id": "a4d8331d",
   "metadata": {},
   "source": [
    "2. Delete the cluster issuer file:"
   ]
  },
  {
   "cell_type": "code",
   "execution_count": null,
   "id": "2b6db4bf",
   "metadata": {},
   "outputs": [],
   "source": [
    "kubectl delete -f cluster-issuer.yaml"
   ]
  },
  {
   "cell_type": "markdown",
   "id": "32fec419",
   "metadata": {},
   "source": [
    "3. Delete the ingress route file:"
   ]
  },
  {
   "cell_type": "code",
   "execution_count": null,
   "id": "6ccf62de",
   "metadata": {},
   "outputs": [],
   "source": [
    "kubectl delete -f hpcc-ingress.yaml"
   ]
  }
 ],
 "metadata": {
  "kernelspec": {
   "display_name": "Bash",
   "language": "bash",
   "name": "bash"
  },
  "language_info": {
   "codemirror_mode": "shell",
   "file_extension": ".sh",
   "mimetype": "text/x-sh",
   "name": "bash"
  }
 },
 "nbformat": 4,
 "nbformat_minor": 5
}
