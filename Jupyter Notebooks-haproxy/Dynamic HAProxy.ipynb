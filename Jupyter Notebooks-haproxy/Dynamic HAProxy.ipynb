{
 "cells": [
  {
   "cell_type": "markdown",
   "id": "3ab2db2b",
   "metadata": {},
   "source": [
    "# Add HAProxy controller to HPCC TLS with multiple services\n",
    "Use a dynamic public IP address to create an HTTPS ingress-HAProxy controller on Azure Kubernetes Service.\n",
    "\n",
    "An ingress controller is a piece of software that provides reverse proxy, configurable traffic routing, and TLS termination for Kubernetes services. Kubernetes ingress resources are used to configure the ingress rules and routes for individual Kubernetes services. Using an ingress controller and ingress rules, a single IP address can be used to route traffic to multiple services in a Kubernetes cluster.\n",
    "\n",
    "This example shows you how to deploy the HAProxy ingress controller in an Azure Kubernetes Service cluster. The cert-manager project is used to automatically generate and configure Let's Encrypt certificates. Finally, an application is run in the cluster, accessible over a single host-name (FQDN).\n",
    "\n",
    "\n",
    "## Prerequisites\n",
    "* Install [Cert-Manager](https://github.com/amy88ma/Ingress-Configuration/blob/a17f7a435772cd1acf72840a83b27d4d4bc14be9/Jupyter%20Notebooks/Install_cert-manager.ipynb).\n",
    "\n",
    "Install cert-manager to do the work with Kubernetes to request a certificate and respond to the challenge to validate it. You can use Helm or plain Kubernetes manifest to install cert-manager.\n",
    "\n",
    "* Install Helm.\n",
    "\n",
    "Helm is used to deploy the HPCC chart, and create the ingress-nginx controller in this example.\n",
    "\n",
    "* Deploy the HAProxy controller.\n",
    "\n",
    "A kubernetes ingress controller is designed to be the access point for HTTP and HTTPS traffic to the software running within your cluster. The controller does this by providing an HTTP proxy service supported by your cloud provider’s load balancer.\n",
    "\n",
    "* Have the HPCC helm chart deployed.\n",
    "\n",
    "## Add a record to DNS zone\n",
    "1) To add a record, use the following command to get the External-IP of the ingress-HAProxy controller, which was deployed under the namespace 'ingress-controller'.  Configure an FQDN-- Fully Qualified Domain Name -- for the ingress controller IP address. In the following example, the IP address is as follows:"
   ]
  },
  {
   "cell_type": "code",
   "execution_count": null,
   "id": "baf1996c",
   "metadata": {},
   "outputs": [],
   "source": [
    "$ kubectl get svc -n ingress-controller\n",
    "\n",
    "NAME              TYPE           CLUSTER-IP     EXTERNAL-IP    PORT(S)                      AGE\n",
    "haproxy-ingress   LoadBalancer   10.0.241.105   20.72.71.112   80:31252/TCP,443:31722/TCP   24s"
   ]
  },
  {
   "cell_type": "code",
   "execution_count": null,
   "id": "c7e6bf59",
   "metadata": {},
   "outputs": [],
   "source": [
    "IP=\"20.72.71.112\""
   ]
  },
  {
   "cell_type": "markdown",
   "id": "0320a3a9",
   "metadata": {},
   "source": [
    "2) Then, create a DNS name, to associate with the public IP address. This example creates a DNS name called 'hpcc-ingress':\n",
    "\n",
    "The external IP that is allocated to the ingress-controller is the IP to which all incoming traffic should be routed. To enable this, add it to a DNS zone you control."
   ]
  },
  {
   "cell_type": "code",
   "execution_count": null,
   "id": "f7336334",
   "metadata": {},
   "outputs": [],
   "source": [
    "DNSNAME=\"hpcc-ingress\""
   ]
  },
  {
   "cell_type": "markdown",
   "id": "09ca974e",
   "metadata": {},
   "source": [
    "3) Get the resource-id of the public IP, with the following command:"
   ]
  },
  {
   "cell_type": "code",
   "execution_count": null,
   "id": "3fdf79d2",
   "metadata": {},
   "outputs": [],
   "source": [
    "PUBLICIPID=$(az network public-ip list --query \"[?ipAddress!=null]|[?contains(ipAddress, '20.72.71.112')].[id]\" --output tsv)"
   ]
  },
  {
   "cell_type": "markdown",
   "id": "497e3ec7",
   "metadata": {},
   "source": [
    "4) Next, update your public IP address with the previously created DNS name, 'hpcc-ingress':\n",
    "\n",
    "The output is as follows:"
   ]
  },
  {
   "cell_type": "code",
   "execution_count": null,
   "id": "30cc496e",
   "metadata": {},
   "outputs": [],
   "source": [
    "az network public-ip update --ids $PUBLICIPID --dns-name $DNSNAME"
   ]
  },
  {
   "cell_type": "code",
   "execution_count": null,
   "id": "52c242e2",
   "metadata": {},
   "outputs": [],
   "source": [
    "{\n",
    "  \"ddosSettings\": null,\n",
    "  \"deleteOption\": null,\n",
    "  \"dnsSettings\": {\n",
    "    \"domainNameLabel\": \"haproxy-hpcc\",\n",
    "    \"fqdn\": \"haproxy-hpcc.eastus2.cloudapp.azure.com\",\n",
    "    \"reverseFqdn\": null\n",
    "  },\n",
    "  \"etag\": \"W/\\\"9cb49bba-edda-4d2d-bd03-a72369975f0d\\\"\",\n",
    "  \"extendedLocation\": null,\n",
    "  \"id\": \"/subscriptions/49219efc-701f-4c7e-a2ac-c600308a69e3/resourceGroups/mc_aks-1nodepool-sa-amy_aks-1nodepool-sa-amy-eastus2_eastus2/providers/Microsoft.Network/publicIPAddresses/kubernetes-a30166516976d452aa28de907c896961\",\n",
    "  \"idleTimeoutInMinutes\": 4,\n",
    "  \"ipAddress\": \"20.85.19.234\",\n",
    "  \"ipConfiguration\": {\n",
    "    \"etag\": null,\n",
    "    \"id\": \"/subscriptions/49219efc-701f-4c7e-a2ac-c600308a69e3/resourceGroups/mc_aks-1nodepool-sa-amy_aks-1nodepool-sa-amy-eastus2_eastus2/providers/Microsoft.Network/loadBalancers/kubernetes/frontendIPConfigurations/a30166516976d452aa28de907c896961\",\n",
    "    \"name\": null,\n",
    "    \"privateIpAddress\": null,\n",
    "    \"privateIpAllocationMethod\": null,\n",
    "    \"provisioningState\": null,\n",
    "    \"publicIpAddress\": null,\n",
    "    \"resourceGroup\": \"mc_aks-1nodepool-sa-amy_aks-1nodepool-sa-amy-eastus2_eastus2\",\n",
    "    \"subnet\": null\n",
    "  },\n",
    "  \"ipTags\": [],\n",
    "  \"linkedPublicIpAddress\": null,\n",
    "  \"location\": \"eastus2\",\n",
    "  \"migrationPhase\": null,\n",
    "  \"name\": \"kubernetes-a30166516976d452aa28de907c896961\",\n",
    "  \"natGateway\": null,\n",
    "  \"provisioningState\": \"Succeeded\",\n",
    "  \"publicIpAddressVersion\": \"IPv4\",\n",
    "  \"publicIpAllocationMethod\": \"Static\",\n",
    "  \"publicIpPrefix\": null,\n",
    "  \"resourceGroup\": \"mc_aks-1nodepool-sa-amy_aks-1nodepool-sa-amy-eastus2_eastus2\",\n",
    "  \"resourceGuid\": \"09c64a14-e168-45f0-9f0f-6cf35393a1e6\",\n",
    "  \"servicePublicIpAddress\": null,\n",
    "  \"sku\": {\n",
    "    \"name\": \"Standard\",\n",
    "    \"tier\": \"Regional\"\n",
    "  },\n",
    "  \"tags\": {\n",
    "    \"kubernetes-cluster-name\": \"kubernetes\",\n",
    "    \"service\": \"ingress-controller/haproxy-ingress\"\n",
    "  },\n",
    "  \"type\": \"Microsoft.Network/publicIPAddresses\",\n",
    "  \"zones\": [\n",
    "    \"1\",\n",
    "    \"2\",\n",
    "    \"3\"\n",
    "  ]\n",
    "}"
   ]
  },
  {
   "cell_type": "markdown",
   "id": "e1d305fc",
   "metadata": {},
   "source": [
    "5) To display the FQDN needed for later to add to the ingress route host name, use the following command:\n",
    "\n",
    "You should see something like this:"
   ]
  },
  {
   "cell_type": "code",
   "execution_count": null,
   "id": "7f030890",
   "metadata": {},
   "outputs": [],
   "source": [
    "$ az network public-ip show --ids $PUBLICIPID --query \"[dnsSettings.fqdn]\" --output tsv\n",
    "hpcc-ingress.eastus2.cloudapp.azure.com"
   ]
  },
  {
   "cell_type": "markdown",
   "id": "66759974",
   "metadata": {},
   "source": [
    "## Create a CA cluster issuer\n",
    "\n",
    "In order to begin issuing certificates, you will need to set up a ClusterIssuer. ClusterIssuer works across all namespaces. Create a cluster issuer, such as cluster-issuer.yaml, using the following example manifest. Update the email address with a valid address from your organization.\n",
    "\n",
    "This email required by Let’s Encrypt and used to notify you of certificate expiration and updates. \n",
    "\n",
    "Note:\n",
    "\n",
    "If cert-manager is not installed, an error will be given, similar to:\n",
    "```\n",
    "error: unable to recognize \"cluster-issuer.yaml\": no matches for kind \"ClusterIssuer\" in version \"cert-manager.io/v1\"\n",
    "```"
   ]
  },
  {
   "cell_type": "code",
   "execution_count": null,
   "id": "0dabeee7",
   "metadata": {},
   "outputs": [],
   "source": [
    "apiVersion: cert-manager.io/v1\n",
    "kind: ClusterIssuer\n",
    "metadata:\n",
    "  name: letsencrypt\n",
    "spec:\n",
    "  acme:\n",
    "    server: https://acme-v02.api.letsencrypt.org/directory\n",
    "    email: example@email.com # Replace with a valid email\n",
    "    privateKeySecretRef:\n",
    "      name: letsencrypt\n",
    "    solvers:\n",
    "    - http01:\n",
    "        ingress:\n",
    "          class: nginx\n",
    "          podTemplate:\n",
    "            spec:\n",
    "              nodeSelector:\n",
    "                \"kubernetes.io/os\": linux"
   ]
  },
  {
   "cell_type": "markdown",
   "id": "33b12ecf",
   "metadata": {},
   "source": [
    "Create the issuer:"
   ]
  },
  {
   "cell_type": "code",
   "execution_count": null,
   "id": "e2a9e1b5",
   "metadata": {},
   "outputs": [],
   "source": [
    "$ kubectl apply -f cluster-issuer.yaml\n",
    "clusterissuer.cert-manager.io/letsencrypt created"
   ]
  },
  {
   "cell_type": "markdown",
   "id": "2c3e2ce5",
   "metadata": {},
   "source": [
    "## Create Ingress route\n",
    "An ingress controller and a certificate management solution have been configured, applications can be run. Create a file with the name \"hpcc-ingress.yaml\""
   ]
  },
  {
   "cell_type": "code",
   "execution_count": null,
   "id": "669d3aec",
   "metadata": {},
   "outputs": [],
   "source": [
    "apiVersion: networking.k8s.io/v1beta1\n",
    "kind: Ingress\n",
    "metadata:\n",
    "  name: hpcc-ingress\n",
    "  annotations:\n",
    "    kubernetes.io/ingress.class: haproxy\n",
    "    nginx.ingress.kubernetes.io/use-regex: \"true\"\n",
    "    nginx.ingress.kubernetes.io/rewrite-target: /$1\n",
    "spec:\n",
    "  rules:\n",
    "   - http:\n",
    "      paths:\n",
    "      - backend:\n",
    "          serviceName: eclwatch\n",
    "          servicePort: 8010\n",
    "        path: /eclwatch(/|$)(.*)\n",
    "      - backend:\n",
    "          serviceName: eclqueries\n",
    "          servicePort: 8002\n",
    "        path: /eclqueries(/|$)(.*)\n",
    "      - backend:\n",
    "          serviceName: esdl-sandbox\n",
    "          servicePort: 8899\n",
    "        path: /esdl(/|$)(.*)\n",
    "      - backend:\n",
    "          serviceName: sql2ecl\n",
    "          servicePort: 8510\n",
    "        path: /wssql(/|$)(.*)\n",
    "      - backend:\n",
    "          serviceName: eclservices\n",
    "          servicePort: 8010\n",
    "        path: /(.*)"
   ]
  },
  {
   "cell_type": "markdown",
   "id": "97a5b92e",
   "metadata": {},
   "source": [
    "The path names correspond to the respective port numbers. To test the ingress later, the path names will follow the FQDN:\n",
    "\n",
    "hpcc-ingress.eastus2.cloudapp.azure.com/eclwatch"
   ]
  },
  {
   "cell_type": "markdown",
   "id": "83b61f03",
   "metadata": {},
   "source": [
    "Apply the Ingress route:"
   ]
  },
  {
   "cell_type": "code",
   "execution_count": null,
   "id": "b6115219",
   "metadata": {},
   "outputs": [],
   "source": [
    "$ kubectl apply -f hpcc-ingress.yaml\n",
    "ingress.networking.k8s.io/hpcc-ingress created"
   ]
  },
  {
   "cell_type": "markdown",
   "id": "4273cdb5",
   "metadata": {},
   "source": [
    "## Upgrade the Ingress route\n",
    "The ingress route created previously is now running on your kubernetes cluster. To make the service publicly available, update the Kubernetes ingress resource. The ingress resource configures the rules that route traffic to one of the applications.\n",
    "\n",
    "Refer to a previous step where FDQN was made for the ingress controller IP address. It will be the host in the yaml file shown below. The DNS name you specified is used in the FQDN. example: DNS_NAME.eastus.cloudapp.azure.com In this case, it is: hpcc-ingress.eastus2.cloudapp.azure.com\n",
    "\n",
    "Display your FQDN needed for the host name, using the following command:"
   ]
  },
  {
   "cell_type": "code",
   "execution_count": null,
   "id": "10c39927",
   "metadata": {},
   "outputs": [],
   "source": [
    "$ az network public-ip show --ids $PUBLICIPID --query \"[dnsSettings.fqdn]\" --output tsv\n",
    "hpcc-ingress.eastus2.cloudapp.azure.com"
   ]
  },
  {
   "cell_type": "markdown",
   "id": "cf2fb814",
   "metadata": {},
   "source": [
    "Open the file for the Ingress route, named \"hpcc-ingres.yaml\""
   ]
  },
  {
   "cell_type": "code",
   "execution_count": null,
   "id": "6ae87716",
   "metadata": {},
   "outputs": [],
   "source": [
    "apiVersion: networking.k8s.io/v1beta1\n",
    "kind: Ingress\n",
    "metadata:\n",
    "  name: hpcc-ingress\n",
    "  annotations:\n",
    "    kubernetes.io/ingress.class: haproxy\n",
    "    nginx.ingress.kubernetes.io/use-regex: \"true\"\n",
    "    nginx.ingress.kubernetes.io/rewrite-target: /$1\n",
    "    cert-manager.io/cluster-issuer: letsencrypt\n",
    "spec:\n",
    "  tls:\n",
    "  - hosts:\n",
    "    - hpcc-ingress.eastus2.cloudapp.azure.com\n",
    "    secretName: tls-secret\n",
    "  rules:\n",
    "  - host: hpcc-ingress.eastus2.cloudapp.azure.com\n",
    "    http:\n",
    "      paths:\n",
    "      - backend:\n",
    "          serviceName: eclwatch\n",
    "          servicePort: 8010\n",
    "        path: /eclwatch(/|$)(.*)\n",
    "      - backend:\n",
    "          serviceName: eclqueries\n",
    "          servicePort: 8002\n",
    "        path: /eclqueries(/|$)(.*)\n",
    "      - backend:\n",
    "          serviceName: esdl-sandbox\n",
    "          servicePort: 8899\n",
    "        path: /esdl(/|$)(.*)\n",
    "      - backend:\n",
    "          serviceName: sql2ecl\n",
    "          servicePort: 8510\n",
    "        path: /wssql(/|$)(.*)\n",
    "      - backend:\n",
    "          serviceName: eclservices\n",
    "          servicePort: 8010\n",
    "        path: /(.*)"
   ]
  },
  {
   "cell_type": "markdown",
   "id": "ecea242b",
   "metadata": {},
   "source": [
    "Apply the updated ingress route:"
   ]
  },
  {
   "cell_type": "code",
   "execution_count": null,
   "id": "a261a18b",
   "metadata": {},
   "outputs": [],
   "source": [
    "kubectl apply -f hpcc-ingress-route.yaml"
   ]
  },
  {
   "cell_type": "markdown",
   "id": "6dc81f2f",
   "metadata": {},
   "source": [
    "The output should look like:"
   ]
  },
  {
   "cell_type": "code",
   "execution_count": null,
   "id": "f040193f",
   "metadata": {},
   "outputs": [],
   "source": [
    "ingress.networking.k8s.io/hpcc-ingress configured"
   ]
  },
  {
   "cell_type": "markdown",
   "id": "bb4d61a2",
   "metadata": {},
   "source": [
    "## Verify that an object has been created¶\n",
    "Next, a certificate resource must be created. The certificate resource defines the desired X.509 certificate. Cert-manager has automatically created a certificate object for you using ingress-shim, which is automatically deployed with cert-manager since v0.2.2.\n",
    "\n",
    "Cert-manager will read the annotations configured in the above YAML file, and use them to create a certificate, which you can request and see:\n",
    "\n",
    "To verify that the certificate was created successfully, use the command below. READY must be True."
   ]
  },
  {
   "cell_type": "code",
   "execution_count": 2,
   "id": "1c240669",
   "metadata": {},
   "outputs": [
    {
     "name": "stdout",
     "output_type": "stream",
     "text": [
      "No resources found in default namespace.\n"
     ]
    }
   ],
   "source": [
    "kubectl get certificates"
   ]
  },
  {
   "cell_type": "markdown",
   "id": "068de0f4",
   "metadata": {},
   "source": [
    "## Test the Ingress configuration\n",
    "\n",
    "Open a web browser to the FQDN created previously. The FQDN name acts as a host for the ingress External IP address. Notice you are redirect to use HTTPS, the connection is secure, and the certificate is trusted.\n",
    "\n",
    "Open web browser, and visit the FQDN name followed by 'eclwatch' path name defined in the previous Ingress file, to visit the backend eclwatch, through the port number 8010."
   ]
  },
  {
   "cell_type": "code",
   "execution_count": null,
   "id": "f43952b0",
   "metadata": {},
   "outputs": [],
   "source": []
  }
 ],
 "metadata": {
  "kernelspec": {
   "display_name": "Bash",
   "language": "bash",
   "name": "bash"
  },
  "language_info": {
   "codemirror_mode": "shell",
   "file_extension": ".sh",
   "mimetype": "text/x-sh",
   "name": "bash"
  }
 },
 "nbformat": 4,
 "nbformat_minor": 5
}
