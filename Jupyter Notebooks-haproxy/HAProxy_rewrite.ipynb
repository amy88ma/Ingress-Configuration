{
 "cells": [
  {
   "cell_type": "markdown",
   "id": "2fec707c",
   "metadata": {},
   "source": [
    "# HAProxy Rewrite\n",
    "This example demonstrates how to use rewrite options on HAProxy Ingress controller.\n",
    "\n",
    "## Prerequisites\n",
    "\n",
    "This document has the following prerequisites:\n",
    "\n",
    "1) [Deploy HAProxy Ingress controller](https://github.com/amy88ma/Ingress-Configuration/blob/d46e6dad7fd7c4bea52e183fb06ae517261589f7/Jupyter%20Notebooks-haproxy/HAProxy_Basic.ipynb), you should end up with controller and an ingress resource.\n",
    "\n",
    "2) Configure only the default TLS termination.\n",
    "\n",
    "\n",
    "## Annotations\n",
    "The following annotations are implemented:\n",
    "\n",
    "```ingress.kubernetes.io/ssl-redirect:``` Indicates whether a redirect should be done from HTTP to HTTPS. Possible values are ```\"true\"``` to redirect to HTTPS, or ```\"false\"``` meaning requests may be performed as plain HTTP.\n",
    "```ingress.kubernetes.io/app-root:``` Defines the URL to be redirected when requests are done to the root context ```/```.\n",
    "## SSL Redirect\n",
    "SSL redirect determines whether to redirect traffic from HTTP to HTTPS through annotations.\n",
    "\n",
    "SSL redirection is enabled by default for any ingress resource defined with a TLS section.\n",
    "\n",
    "Automatic redirects can be disabled by setting annotation to ```“false”``` in Configmap."
   ]
  },
  {
   "cell_type": "markdown",
   "id": "e54bde9e",
   "metadata": {},
   "source": [
    "Annotate the ingress resource with the name eclwatch-ingress, as created in the prerequisites:"
   ]
  },
  {
   "cell_type": "code",
   "execution_count": null,
   "id": "38586269",
   "metadata": {},
   "outputs": [],
   "source": [
    "$ kubectl annotate ingress/eclwatch-ingress --overwrite ingress.kubernetes.io/ssl-redirect=false"
   ]
  },
  {
   "cell_type": "markdown",
   "id": "4795ec4b",
   "metadata": {},
   "source": [
    "The following is the output when annotating the ingress to disable ssl redirect:"
   ]
  },
  {
   "cell_type": "code",
   "execution_count": null,
   "id": "b7eea36b",
   "metadata": {},
   "outputs": [],
   "source": [
    "ingress.extensions/eclwatch-ingress annotated"
   ]
  },
  {
   "cell_type": "markdown",
   "id": "a0abaae5",
   "metadata": {},
   "source": [
    "Try a HTTP request:\n",
    "\n",
    "To get the External IP for the request, run the following command:"
   ]
  },
  {
   "cell_type": "code",
   "execution_count": null,
   "id": "7008ef87",
   "metadata": {},
   "outputs": [],
   "source": [
    "$ kubectl get svc -n ingress-controller\n",
    "\n",
    "NAME              TYPE           CLUSTER-IP    EXTERNAL-IP      PORT(S)                      AGE\n",
    "haproxy-ingress   LoadBalancer   10.0.21.147   52.184.248.151   80:32115/TCP,443:30977/TCP   61m"
   ]
  },
  {
   "cell_type": "code",
   "execution_count": null,
   "id": "e0f4a91b",
   "metadata": {},
   "outputs": [],
   "source": [
    "$ curl -iL 52.184.248.151\n",
    "\n",
    "HTTP/1.1 200 OK\n",
    "Server: nginx/1.9.11\n",
    "Content-Type: text/plain\n",
    "Transfer-Encoding: chunked"
   ]
  },
  {
   "cell_type": "markdown",
   "id": "e754bb3c",
   "metadata": {},
   "source": [
    "Now turn ssl-redirect true:"
   ]
  },
  {
   "cell_type": "code",
   "execution_count": null,
   "id": "bba42112",
   "metadata": {},
   "outputs": [],
   "source": [
    "$ kubectl annotate ingress/eclwatch-ingress --overwrite ingress.kubernetes.io/ssl-redirect=true"
   ]
  },
  {
   "cell_type": "markdown",
   "id": "bdef0911",
   "metadata": {},
   "source": [
    "The following is the output when annotating the ingress to use ssl redirect:"
   ]
  },
  {
   "cell_type": "code",
   "execution_count": null,
   "id": "efe13fac",
   "metadata": {},
   "outputs": [],
   "source": [
    "ingress.extensions/eclwatch-ingress annotated"
   ]
  },
  {
   "cell_type": "markdown",
   "id": "54f302f0",
   "metadata": {},
   "source": [
    "Try a HTTP request:"
   ]
  },
  {
   "cell_type": "code",
   "execution_count": null,
   "id": "508f4048",
   "metadata": {},
   "outputs": [],
   "source": [
    "$ curl -iL 52.184.248.151\n",
    "\n",
    "HTTP/1.1 302 Found\n",
    "content-length: 0\n",
    "location: https://52.184.248.151/\n",
    "cache-control: no-cache"
   ]
  }
 ],
 "metadata": {
  "kernelspec": {
   "display_name": "Bash",
   "language": "bash",
   "name": "bash"
  },
  "language_info": {
   "codemirror_mode": "shell",
   "file_extension": ".sh",
   "mimetype": "text/x-sh",
   "name": "bash"
  }
 },
 "nbformat": 4,
 "nbformat_minor": 5
}
