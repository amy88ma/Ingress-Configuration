{
 "cells": [
  {
   "cell_type": "markdown",
   "id": "71c45726",
   "metadata": {},
   "source": [
    "## Create an HTTPS ingress controller and use your own TLS certificates\n",
    "Deploy the HAProxy controller in an Azure Kubernetes Service (AKS) cluster. Then generate your own certificates, and create a Kubernetes secret for use with the ingress route. \n",
    "\n",
    "## Prerequisites\n",
    "* Have the latest release of Helm installed.\n",
    "* Azure CLI version 2.0.64 or later.\n",
    "* Have HAProxy ingress controller deployed\n",
    " \n",
    " After the installation of the HAProxy controller, an Azure public IP address is created for the ingress controller. This public IP address is static for the life-span of the ingress controller. If you delete the ingress controller, the public IP address assignment is lost. If you then create an additional ingress controller, a new public IP address is assigned. If you wish to retain the use of the public IP address, you can instead create an ingress controller with a static public IP address.\n",
    "\n",
    "To get the External IP address under the namespace ingress-controller, use the ```kubectl get service``` command, as follows:\n",
    "\n",
    "Note:\n",
    "\n",
    "The namespace ingress-controller was created during the deployment of the HAProxy ingress controller."
   ]
  },
  {
   "cell_type": "code",
   "execution_count": null,
   "id": "83777bfc",
   "metadata": {},
   "outputs": [],
   "source": [
    "$ kubectl get svc -n ingress-controller\n",
    "\n",
    "NAME              TYPE           CLUSTER-IP     EXTERNAL-IP    PORT(S)                      AGE\n",
    "haproxy-ingress   LoadBalancer   10.0.241.105   20.85.19.234   80:31252/TCP,443:31722/TCP   24s"
   ]
  },
  {
   "cell_type": "markdown",
   "id": "8ae8b4da",
   "metadata": {},
   "source": [
    "It takes a few minutes for the IP address to be assigned to the service.  Make a note of this public IP address, as it's used in the last step to test the deployment.  Since no ingress rules have been created yet, If you browse to the public IP address, the ingress controller's default 404 page is displayed."
   ]
  },
  {
   "cell_type": "markdown",
   "id": "e96b21dc",
   "metadata": {},
   "source": [
    "## Generate TLS certificates\n",
    "For this article, a self-signed certificate is generated with openssl. For production use, you should request a trusted, signed certificate through a provider or your own certificate authority (CA).\n",
    "\n",
    "The following example generates a 2048-bit RSA X509 certificate valid for 365 days named ecl-tls.crt. The private key file is named ecl-tls.key. A Kubernetes TLS secret requires both of these files.\n",
    "\n",
    "This article works with the demo.azure.com subject common name and doesn't need to be changed. For production use, specify your own organizational values for the -subj parameter:"
   ]
  },
  {
   "cell_type": "code",
   "execution_count": null,
   "id": "bb9060e5",
   "metadata": {},
   "outputs": [],
   "source": [
    "openssl req -x509 -nodes -days 365 -newkey rsa:2048 \\\n",
    "    -out ecl-tls.crt \\\n",
    "    -keyout ecl-tls.key \\\n",
    "    -subj \"/CN=eclwatch.com/O=eclwatch-tls\""
   ]
  },
  {
   "cell_type": "markdown",
   "id": "05be41df",
   "metadata": {},
   "source": [
    "You should see something like this:"
   ]
  },
  {
   "cell_type": "code",
   "execution_count": null,
   "id": "1399fe4d",
   "metadata": {},
   "outputs": [],
   "source": [
    "Generating a RSA private key\n",
    ".+++++\n",
    "...........................................................+++++\n",
    "writing new private key to 'ecl-tls.key'\n",
    "-----"
   ]
  },
  {
   "cell_type": "markdown",
   "id": "f160d1bf",
   "metadata": {},
   "source": [
    "## Create Kubernetes secret for the TLS certificate\n",
    "To allow Kubernetes to use the TLS certificate and private key for the ingress controller, you create and use a Secret. The secret is defined once, and uses the certificate and key file created in the previous step. You then reference this secret when you define ingress routes.\n",
    "\n",
    "The following example creates a Secret name ecl-tls:"
   ]
  },
  {
   "cell_type": "code",
   "execution_count": null,
   "id": "a3423637",
   "metadata": {},
   "outputs": [],
   "source": [
    "$ kubectl create secret tls ecl-tls \\\n",
    ">     --key ecl-tls.key \\\n",
    ">     --cert ecl-tls.crt\n",
    "\n",
    "# Output:\n",
    "secret/ecl-tls created"
   ]
  },
  {
   "cell_type": "markdown",
   "id": "c557235a",
   "metadata": {},
   "source": [
    "## Create an Ingress route\n",
    "The ingress resource configures the rules that route traffic to the backend server eclwatch through port number 8010.\n",
    "\n",
    "If the host name specified during the certificate request process, the CN name, doesn't match the host defined in your ingress route, you ingress controller displays a Kubernetes Ingress Controller Fake Certificate warning. The CN name in this example is 'eclwatch.com'.\n",
    "\n",
    "To create the ingress resource, specify the CN name as host, and tls secret name.  Open a file, such as eclwatch-ingress.yaml, and copy in the following:"
   ]
  },
  {
   "cell_type": "markdown",
   "id": "1d45e512",
   "metadata": {},
   "source": [
    "apiVersion: networking.k8s.io/v1beta1\n",
    "kind: Ingress\n",
    "metadata:\n",
    "  name: eclwatch-ingress\n",
    "  annotations:\n",
    "    kubernetes.io/ingress.class: haproxy\n",
    "spec:\n",
    "  tls:\n",
    "  - hosts:\n",
    "    - eclwatch.com\n",
    "    secretName: ecl-tls\n",
    "  rules:\n",
    "  - host: eclwatch.com\n",
    "    http:\n",
    "      paths:\n",
    "      - backend:\n",
    "          serviceName: eclwatch\n",
    "          servicePort: 8010\n",
    "        path: /"
   ]
  },
  {
   "cell_type": "markdown",
   "id": "0de73abf",
   "metadata": {},
   "source": [
    "Now apply the ingress route using the following command:"
   ]
  },
  {
   "cell_type": "code",
   "execution_count": null,
   "id": "bdd0acad",
   "metadata": {},
   "outputs": [],
   "source": [
    "$ kubectl apply -f eclwatch-ingress.yaml\n",
    "\n",
    "ingress.networking.k8s.io/eclwatch-ingress created"
   ]
  },
  {
   "cell_type": "markdown",
   "id": "27acfb35",
   "metadata": {},
   "source": [
    "## Test the ingress configuration\n",
    "To test the certificates with the fake eclwatch.com host, use curl and specify the --resolve parameter. This parameter lets you map the eclwatch.com name to the public IP address of your ingress controller. Specify the public IP address of your own ingress controller, as shown in the following example:"
   ]
  },
  {
   "cell_type": "code",
   "execution_count": null,
   "id": "9b5b896a",
   "metadata": {},
   "outputs": [],
   "source": [
    "curl -v -k --resolve eclwatch.com:443:20.85.19.234 https://eclwatch.com\n",
    "\n",
    "* Connected to 20.72.124.58 (20.72.124.58) port 443 (#0)\n",
    "* ALPN, offering http/1.1\n",
    "* successfully set certificate verify locations:\n",
    "*   CAfile: /Users/amyma/opt/anaconda3/ssl/cacert.pem\n",
    "  CApath: none\n",
    "* TLSv1.3 (OUT), TLS handshake, Client hello (1):\n",
    "* TLSv1.3 (IN), TLS handshake, Server hello (2):\n",
    "* TLSv1.3 (IN), TLS handshake, Encrypted Extensions (8):\n",
    "* TLSv1.3 (IN), TLS handshake, Certificate (11):\n",
    "* TLSv1.3 (IN), TLS handshake, CERT verify (15):\n",
    "* TLSv1.3 (IN), TLS handshake, Finished (20):\n",
    "* TLSv1.3 (OUT), TLS change cipher, Change cipher spec (1):\n",
    "* TLSv1.3 (OUT), TLS handshake, Finished (20):\n",
    "* SSL connection using TLSv1.3 / TLS_AES_128_GCM_SHA256\n",
    "* ALPN, server accepted to use http/1.1\n",
    "* Server certificate:\n",
    "*  subject: O=Acme Co; CN=Kubernetes Ingress Controller Fake Certificate\n",
    "*  start date: Jul 22 03:37:00 2021 GMT\n",
    "*  expire date: Jul 22 03:37:00 2022 GMT\n",
    "*  issuer: O=Acme Co; CN=Kubernetes Ingress Controller Fake Certificate\n",
    "*  SSL certificate verify result: self signed certificate (18), continuing anyway."
   ]
  },
  {
   "cell_type": "markdown",
   "id": "71dc3cb2",
   "metadata": {},
   "source": [
    "The -v parameter in the curl command outputs verbose information, including the TLS certificate received. Half-way through your curl output, you can verify that your own TLS certificate was used. The -k parameter continues loading the page even though a self-signed certificate is being used."
   ]
  },
  {
   "cell_type": "markdown",
   "id": "55fc7036",
   "metadata": {},
   "source": [
    "## Clean up resources\n",
    "\n",
    "1. Delete the sample namespace and all resources\n",
    "\n",
    "To delete the entire namespace, use the ```kubectl delete``` command and specify the namespace name of the HAProxy controller, 'ingress-controller'. All the resources in the namespace are deleted."
   ]
  },
  {
   "cell_type": "code",
   "execution_count": null,
   "id": "4a819335",
   "metadata": {},
   "outputs": [],
   "source": [
    "kubectl delete namespace ingress-controller"
   ]
  },
  {
   "cell_type": "markdown",
   "id": "9147f515",
   "metadata": {},
   "source": [
    "2. Remove the ingress route that directed traffic to the sample apps:"
   ]
  },
  {
   "cell_type": "code",
   "execution_count": null,
   "id": "bb934252",
   "metadata": {},
   "outputs": [],
   "source": [
    "kubectl delete -f eclwatch-ingress.yaml"
   ]
  },
  {
   "cell_type": "markdown",
   "id": "cd959adc",
   "metadata": {},
   "source": [
    "3. Delete the certificate Secret:"
   ]
  },
  {
   "cell_type": "code",
   "execution_count": null,
   "id": "1fa26698",
   "metadata": {},
   "outputs": [],
   "source": [
    "kubectl delete secret ecl-tls"
   ]
  }
 ],
 "metadata": {
  "kernelspec": {
   "display_name": "Bash",
   "language": "bash",
   "name": "bash"
  },
  "language_info": {
   "codemirror_mode": "shell",
   "file_extension": ".sh",
   "mimetype": "text/x-sh",
   "name": "bash"
  }
 },
 "nbformat": 4,
 "nbformat_minor": 5
}
