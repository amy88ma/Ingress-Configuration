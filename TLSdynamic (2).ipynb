{
 "cells": [
  {
   "cell_type": "markdown",
   "id": "fd11b268",
   "metadata": {},
   "source": [
    "# Use TLS with Let's Encrypt"
   ]
  },
  {
   "cell_type": "markdown",
   "id": "9afbfe58",
   "metadata": {},
   "source": [
    "Use a dynamic public IP address to create an HTTPS ingress controller on Azure Kubernetes Service"
   ]
  },
  {
   "cell_type": "markdown",
   "id": "7645a840",
   "metadata": {},
   "source": [
    "## Create an Ingress controller"
   ]
  },
  {
   "cell_type": "markdown",
   "id": "8c846edd",
   "metadata": {},
   "source": [
    "To create the ingress controller, use the helm command to install nginx-ingress. "
   ]
  },
  {
   "cell_type": "code",
   "execution_count": 9,
   "id": "00c9d3d1",
   "metadata": {},
   "outputs": [
    {
     "name": "stdout",
     "output_type": "stream",
     "text": [
      "Error: cannot re-use a name that is still in use\n"
     ]
    },
    {
     "ename": "",
     "evalue": "1",
     "output_type": "error",
     "traceback": []
    }
   ],
   "source": [
    "helm install nginx-ingress ingress-nginx/ingress-nginx \\\n",
    "    --set controller.replicaCount=2 \\\n",
    "    --set controller.nodeSelector.\"beta\\.kubernetes\\.io/os\"=linux \\\n",
    "    --set defaultBackend.nodeSelector.\"beta\\.kubernetes\\.io/os\"=linux \\\n",
    "    --set controller.admissionWebhooks.patch.nodeSelector.\"beta\\.kubernetes\\.io/os\"=linux"
   ]
  },
  {
   "cell_type": "code",
   "execution_count": 10,
   "id": "a5b924a5",
   "metadata": {},
   "outputs": [
    {
     "name": "stdout",
     "output_type": "stream",
     "text": [
      "NAME                                               TYPE           CLUSTER-IP     EXTERNAL-IP    PORT(S)                      AGE\n",
      "kubernetes                                         ClusterIP      10.0.0.1       <none>         443/TCP                      140m\n",
      "nginx-ingress-ingress-nginx-controller             LoadBalancer   10.0.177.163   20.75.130.86   80:30729/TCP,443:32054/TCP   4m17s\n",
      "nginx-ingress-ingress-nginx-controller-admission   ClusterIP      10.0.203.137   <none>         443/TCP                      4m17s\n"
     ]
    }
   ],
   "source": [
    "kubectl get service"
   ]
  },
  {
   "cell_type": "markdown",
   "id": "6603446f",
   "metadata": {},
   "source": [
    "\"nginx-ingress-ingress-nginx-controller\" is the name of the exernal IP address created."
   ]
  },
  {
   "cell_type": "markdown",
   "id": "f2b40b00",
   "metadata": {},
   "source": [
    "## Add a record to DNS zone "
   ]
  },
  {
   "cell_type": "markdown",
   "id": "648f773a",
   "metadata": {},
   "source": [
    "configure an FQDN-- Fully Qualified Domain Name -- for the ingress controller IP address. "
   ]
  },
  {
   "cell_type": "code",
   "execution_count": 12,
   "id": "23a7d6ac",
   "metadata": {},
   "outputs": [
    {
     "name": "stdout",
     "output_type": "stream",
     "text": [
      "{\n",
      "  \"ddosSettings\": null,\n",
      "  \"deleteOption\": null,\n",
      "  \"dnsSettings\": {\n",
      "    \"domainNameLabel\": \"ecl-aks-ingress\",\n",
      "    \"fqdn\": \"ecl-aks-ingress.eastus.cloudapp.azure.com\",\n",
      "    \"reverseFqdn\": null\n",
      "  },\n",
      "  \"etag\": \"W/\\\"9491174a-6acf-4d0a-a4e5-37e9883f0a96\\\"\",\n",
      "  \"extendedLocation\": null,\n",
      "  \"id\": \"/subscriptions/49219efc-701f-4c7e-a2ac-c600308a69e3/resourceGroups/mc_aks-1nodepool-sa-amy_aks-1nodepool-sa-amy-eastus_eastus/providers/Microsoft.Network/publicIPAddresses/kubernetes-a4264b53cb0334bca82eb8009a6da7aa\",\n",
      "  \"idleTimeoutInMinutes\": 4,\n",
      "  \"ipAddress\": \"20.75.130.86\",\n",
      "  \"ipConfiguration\": {\n",
      "    \"etag\": null,\n",
      "    \"id\": \"/subscriptions/49219efc-701f-4c7e-a2ac-c600308a69e3/resourceGroups/mc_aks-1nodepool-sa-amy_aks-1nodepool-sa-amy-eastus_eastus/providers/Microsoft.Network/loadBalancers/kubernetes/frontendIPConfigurations/a4264b53cb0334bca82eb8009a6da7aa\",\n",
      "    \"name\": null,\n",
      "    \"privateIpAddress\": null,\n",
      "    \"privateIpAllocationMethod\": null,\n",
      "    \"provisioningState\": null,\n",
      "    \"publicIpAddress\": null,\n",
      "    \"resourceGroup\": \"mc_aks-1nodepool-sa-amy_aks-1nodepool-sa-amy-eastus_eastus\",\n",
      "    \"subnet\": null\n",
      "  },\n",
      "  \"ipTags\": [],\n",
      "  \"linkedPublicIpAddress\": null,\n",
      "  \"location\": \"eastus\",\n",
      "  \"migrationPhase\": null,\n",
      "  \"name\": \"kubernetes-a4264b53cb0334bca82eb8009a6da7aa\",\n",
      "  \"natGateway\": null,\n",
      "  \"provisioningState\": \"Succeeded\",\n",
      "  \"publicIpAddressVersion\": \"IPv4\",\n",
      "  \"publicIpAllocationMethod\": \"Static\",\n",
      "  \"publicIpPrefix\": null,\n",
      "  \"resourceGroup\": \"mc_aks-1nodepool-sa-amy_aks-1nodepool-sa-amy-eastus_eastus\",\n",
      "  \"resourceGuid\": \"fc8eb02b-6c24-4ff7-9953-4260a4c8a6af\",\n",
      "  \"servicePublicIpAddress\": null,\n",
      "  \"sku\": {\n",
      "    \"name\": \"Standard\",\n",
      "    \"tier\": \"Regional\"\n",
      "  },\n",
      "  \"tags\": {\n",
      "    \"kubernetes-cluster-name\": \"kubernetes\",\n",
      "    \"service\": \"default/nginx-ingress-ingress-nginx-controller\"\n",
      "  },\n",
      "  \"type\": \"Microsoft.Network/publicIPAddresses\",\n",
      "  \"zones\": [\n",
      "    \"1\",\n",
      "    \"2\",\n",
      "    \"3\"\n",
      "  ]\n",
      "}\n",
      "ecl-aks-ingress.eastus.cloudapp.azure.com\n"
     ]
    }
   ],
   "source": [
    "# Public IP address of your ingress controller\n",
    "IP=\"20.75.130.86\"\n",
    "\n",
    "# Name to associate with public IP address\n",
    "DNSNAME=\"ecl-aks-ingress\"\n",
    "\n",
    "# Get the resource-id of the public ip\n",
    "PUBLICIPID=$(az network public-ip list --query \"[?ipAddress!=null]|[?contains(ipAddress, '$IP')].[id]\" --output tsv)\n",
    "\n",
    "# Update public ip address with DNS name\n",
    "az network public-ip update --ids $PUBLICIPID --dns-name $DNSNAME\n",
    "\n",
    "# Display the FQDN\n",
    "az network public-ip show --ids $PUBLICIPID --query \"[dnsSettings.fqdn]\" --output tsv"
   ]
  },
  {
   "cell_type": "markdown",
   "id": "90743558",
   "metadata": {},
   "source": [
    "## Install cert-manager"
   ]
  },
  {
   "cell_type": "markdown",
   "id": "85d3264f",
   "metadata": {},
   "source": [
    "Retrieve and configure certificates for HTTPS using cert-manager, which provides automatic Lets Encrypt certificate generation and management functionality."
   ]
  },
  {
   "cell_type": "markdown",
   "id": "c1ef7563",
   "metadata": {},
   "source": [
    "Install cert-manager controller:"
   ]
  },
  {
   "cell_type": "code",
   "execution_count": 13,
   "id": "46c33fd9",
   "metadata": {},
   "outputs": [
    {
     "name": "stdout",
     "output_type": "stream",
     "text": [
      "\"jetstack\" already exists with the same configuration, skipping\n",
      "Hang tight while we grab the latest from your chart repositories...\n",
      "...Successfully got an update from the \"jetstack\" chart repository\n",
      "...Successfully got an update from the \"ingress-nginx\" chart repository\n",
      "...Successfully got an update from the \"hpcc\" chart repository\n",
      "...Successfully got an update from the \"nginx-stable\" chart repository\n",
      "Update Complete. ⎈Happy Helming!⎈\n",
      "NAME: cert-manager\n",
      "LAST DEPLOYED: Thu Jul  1 10:20:22 2021\n",
      "NAMESPACE: default\n",
      "STATUS: deployed\n",
      "REVISION: 1\n",
      "TEST SUITE: None\n",
      "NOTES:\n",
      "cert-manager has been deployed successfully!\n",
      "\n",
      "In order to begin issuing certificates, you will need to set up a ClusterIssuer\n",
      "or Issuer resource (for example, by creating a 'letsencrypt-staging' issuer).\n",
      "\n",
      "More information on the different types of issuers and how to configure them\n",
      "can be found in our documentation:\n",
      "\n",
      "https://cert-manager.io/docs/configuration/\n",
      "\n",
      "For information on how to configure cert-manager to automatically provision\n",
      "Certificates for Ingress resources, take a look at the `ingress-shim`\n",
      "documentation:\n",
      "\n",
      "https://cert-manager.io/docs/usage/ingress/\n"
     ]
    }
   ],
   "source": [
    "# Add the Jetstack Helm repository\n",
    "helm repo add jetstack https://charts.jetstack.io\n",
    "\n",
    "# Update your local Helm chart repository cache\n",
    "helm repo update\n",
    "\n",
    "# Install the cert-manager Helm chart\n",
    "helm install cert-manager jetstack/cert-manager \\\n",
    "  --set installCRDs=true \\\n",
    "  --set nodeSelector.\"kubernetes\\.io/os\"=linux \\\n",
    "  --set webhook.nodeSelector.\"kubernetes\\.io/os\"=linux \\\n",
    "  --set cainjector.nodeSelector.\"kubernetes\\.io/os\"=linux"
   ]
  },
  {
   "cell_type": "markdown",
   "id": "8d35575d",
   "metadata": {},
   "source": [
    "## Create a CA cluster issuer"
   ]
  },
  {
   "cell_type": "markdown",
   "id": "2c6b0c82",
   "metadata": {},
   "source": [
    "In order to begin issuing certificates, you will need to set up a ClusterIssuer.  ClusterIssuer works across all namespaces.  Create a cluster issuer, such as *cluster-issuer.yaml*, using the following example manifest. Update the email address with a valid address from your organization:"
   ]
  },
  {
   "cell_type": "code",
   "execution_count": null,
   "id": "3e2276d7",
   "metadata": {},
   "outputs": [],
   "source": [
    "nano cluster-issuer.yaml"
   ]
  },
  {
   "cell_type": "code",
   "execution_count": null,
   "id": "93c1b4f6",
   "metadata": {},
   "outputs": [],
   "source": [
    "apiVersion: cert-manager.io/v1\n",
    "kind: ClusterIssuer\n",
    "metadata:\n",
    "  name: letsencrypt\n",
    "spec:\n",
    "  acme:\n",
    "    server: https://acme-v02.api.letsencrypt.org/directory\n",
    "    email: amy.ma5656@gmail.com # replace with valid email\n",
    "    privateKeySecretRef:\n",
    "      name: letsencrypt\n",
    "    solvers:\n",
    "    - http01:\n",
    "        ingress:\n",
    "          class: nginx\n",
    "          podTemplate:\n",
    "            spec:\n",
    "              nodeSelector:\n",
    "                \"kubernetes.io/os\": linux"
   ]
  },
  {
   "cell_type": "code",
   "execution_count": null,
   "id": "2fba5a89",
   "metadata": {},
   "outputs": [],
   "source": [
    "kubectl apply -f cluster-issuer.yaml\n",
    "# create the issuer"
   ]
  },
  {
   "cell_type": "markdown",
   "id": "5c09fe59",
   "metadata": {},
   "source": [
    "## Run applications"
   ]
  },
  {
   "cell_type": "markdown",
   "id": "37a54914",
   "metadata": {},
   "source": [
    "An ingress controller and a certificate management solution have been configured, applications can be run.  Create a file with the name \"eclwatch.yaml\""
   ]
  },
  {
   "cell_type": "code",
   "execution_count": null,
   "id": "f5b7f061",
   "metadata": {},
   "outputs": [],
   "source": [
    "nano eclwatch.yaml"
   ]
  },
  {
   "cell_type": "code",
   "execution_count": null,
   "id": "b788ec19",
   "metadata": {},
   "outputs": [],
   "source": [
    "apiVersion: networking.k8s.io/v1\n",
    "kind: Ingress\n",
    "metadata:\n",
    "  name: eclwatch-ingress\n",
    "  annotations:\n",
    "    kubernetes.io/ingress.class: nginx\n",
    "spec:\n",
    "  rules:\n",
    "  -  http:\n",
    "      paths:\n",
    "      - path: /\n",
    "        pathType: Prefix\n",
    "        backend:\n",
    "         service:\n",
    "           name: eclwatch\n",
    "           port:\n",
    "             number: 8010\n",
    "---\n",
    "apiVersion: v1\n",
    "kind: Service\n",
    "metadata:\n",
    "  name: eclwatch\n",
    "spec:\n",
    "  type: ClusterIP\n",
    "  ports:\n",
    "  - port: 8010\n"
   ]
  },
  {
   "cell_type": "markdown",
   "id": "58912759",
   "metadata": {},
   "source": [
    "* ClusterIP service type: Exposes the service on a cluster-internal IP. Choosing this value makes the service only reachable from within the cluster.  The service will be made publicly available in the next step, by creating a kubernetes ingress resource.\n",
    "* port 8010 corresponds to service eclwatch."
   ]
  },
  {
   "cell_type": "markdown",
   "id": "b27770c1",
   "metadata": {},
   "source": [
    "Run the application using:"
   ]
  },
  {
   "cell_type": "code",
   "execution_count": null,
   "id": "53921800",
   "metadata": {},
   "outputs": [],
   "source": [
    "kubectl apply -f eclwatch.yaml"
   ]
  },
  {
   "cell_type": "markdown",
   "id": "9a770d25",
   "metadata": {},
   "source": [
    "## Create an Ingress route"
   ]
  },
  {
   "cell_type": "markdown",
   "id": "b949d499",
   "metadata": {},
   "source": [
    "The application created previously is now running on your kubernetes cluster.  Since it is configured with a service of type \"ClusterIP\" and aren't accessible from the internet. To make the service publicly available, create a Kubernetes ingress resource. The ingress resource configures the rules that route traffic to one of the two applications.\n",
    "\n",
    "* Refer to a previous step where FDQN was made for the ingress controller IP address.  It will be the host in the yaml file shown below.\n",
    "The DNS name you specified is used in the FQDN.\n",
    "**example:**\n",
    "DNS_NAME.eastus.cloudapp.azure.com\n",
    "**In this case, it is:**\n",
    "ecl-aks-ingress.eastus.cloudapp.azure.com"
   ]
  },
  {
   "cell_type": "markdown",
   "id": "c20bb106",
   "metadata": {},
   "source": [
    "Display your FQDN using:"
   ]
  },
  {
   "cell_type": "code",
   "execution_count": null,
   "id": "91379e0d",
   "metadata": {},
   "outputs": [],
   "source": [
    "az network public-ip show --ids $PUBLICIPID --query \"[dnsSettings.fqdn]\" --output tsv"
   ]
  },
  {
   "cell_type": "markdown",
   "id": "34fd4307",
   "metadata": {},
   "source": [
    "Create a file for the Ingress route, named \"eclwatch-ingres-route.yaml\""
   ]
  },
  {
   "cell_type": "code",
   "execution_count": null,
   "id": "075732ad",
   "metadata": {},
   "outputs": [],
   "source": [
    "nano eclwatch-ingress-route.yaml"
   ]
  },
  {
   "cell_type": "code",
   "execution_count": null,
   "id": "6ad3f90a",
   "metadata": {},
   "outputs": [],
   "source": [
    "apiVersion: networking.k8s.io/v1\n",
    "kind: Ingress\n",
    "metadata:\n",
    "  name: eclwatch-ingress\n",
    "  annotations:\n",
    "    kubernetes.io/ingress.class: nginx\n",
    "    nginx.ingress.kubernetes.io/rewrite-target: /$1\n",
    "    nginx.ingress.kubernetes.io/use-regex: \"true\"\n",
    "    cert-manager.io/cluster-issuer: letsencrypt\n",
    "spec:\n",
    "  tls:\n",
    "  - hosts:\n",
    "    - ecl-aks-ingress.eastus.cloudapp.azure.com # FQDN name\n",
    "    secretName: tls-secret\n",
    "  rules:\n",
    "  - host: ecl-aks-ingress.eastus.cloudapp.azure.com # FQDN name\n",
    "    http:\n",
    "      paths:\n",
    "      - path: /(/|$)(.*)\n",
    "        pathType: Prefix\n",
    "        backend:\n",
    "          service:\n",
    "            name: eclwatch\n",
    "            port:\n",
    "              number: 8010\n",
    "   \n",
    "---\n",
    "apiVersion: networking.k8s.io/v1\n",
    "kind: Ingress\n",
    "metadata:\n",
    "  name: eclwatch-ingress-static\n",
    "  annotations:\n",
    "    kubernetes.io/ingress.class: nginx\n",
    "    nginx.ingress.kubernetes.io/rewrite-target: /static/$2\n",
    "    nginx.ingress.kubernetes.io/use-regex: \"true\"\n",
    "    cert-manager.io/cluster-issuer: letsencrypt\n",
    "spec:\n",
    "  tls:\n",
    "  - hosts:\n",
    "    - ecl-aks-ingress.eastus.cloudapp.azure.com # FQDN Name\n",
    "    secretName: tls-secret\n",
    "  rules:\n",
    "  - host: ecl-aks-ingress.eastus.cloudapp.azure.com # FQDN name\n",
    "    http:\n",
    "      paths:\n",
    "      - path:\n",
    "        pathType: Prefix\n",
    "        backend:\n",
    "          service:\n",
    "            name: eclwatch\n",
    "            port: \n",
    "              number: 8010\n",
    "        path: /static(/|$)(.*)"
   ]
  },
  {
   "cell_type": "markdown",
   "id": "f58c20a9",
   "metadata": {},
   "source": [
    "Save the file, then create the ingress resource using the kubectl apply command."
   ]
  },
  {
   "cell_type": "code",
   "execution_count": null,
   "id": "702763ed",
   "metadata": {},
   "outputs": [],
   "source": [
    "kubectl apply -f eclwatch-ingress-route.yaml "
   ]
  },
  {
   "cell_type": "code",
   "execution_count": null,
   "id": "8a16755f",
   "metadata": {},
   "outputs": [],
   "source": [
    "ingress.networking.k8s.io/eclwatch-ingress created\n",
    "ingress.networking.k8s.io/eclwatch-ingress-static created"
   ]
  },
  {
   "cell_type": "markdown",
   "id": "44bcd6f4",
   "metadata": {},
   "source": [
    "## Verify that an object has been created"
   ]
  },
  {
   "cell_type": "markdown",
   "id": "eb17e29e",
   "metadata": {},
   "source": [
    "Next, a certificate resource must be created. The certificate resource defines the desired X.509 certificate.  Cert-manager has automatically created a certificate object for you using ingress-shim, which is automatically deployed with cert-manager since v0.2.2.\n",
    "* To verify that the certificate was created successfully, use the command below. READY must be True:"
   ]
  },
  {
   "cell_type": "code",
   "execution_count": null,
   "id": "1a66d6de",
   "metadata": {},
   "outputs": [],
   "source": [
    " kubectl get certificate"
   ]
  },
  {
   "cell_type": "code",
   "execution_count": null,
   "id": "6e2ed5e0",
   "metadata": {},
   "outputs": [],
   "source": [
    "# Example Output:\n",
    "# NAME         READY   SECRET       AGE\n",
    "# tls-secret   True    tls-secret   11m"
   ]
  },
  {
   "cell_type": "markdown",
   "id": "053d9fe8",
   "metadata": {},
   "source": [
    "## Test the Ingress Configuration."
   ]
  },
  {
   "cell_type": "markdown",
   "id": "e580aef1",
   "metadata": {},
   "source": [
    "Open a web browser to the FQDN created previously.   Notice you are redirect to use HTTPS and the certificate is trusted and the demo application is shown in the web browser"
   ]
  },
  {
   "cell_type": "markdown",
   "id": "7f8c92ce",
   "metadata": {},
   "source": [
    "Open web browser: **https://ecl-aks-ingress.eastus.cloudapp.azure.com**"
   ]
  },
  {
   "cell_type": "markdown",
   "id": "92cb6ff6",
   "metadata": {},
   "source": [
    "On the upper left corner, connection displays 'secure'. The certificate is valid."
   ]
  },
  {
   "cell_type": "markdown",
   "id": "40088900",
   "metadata": {},
   "source": [
    "## Clean up resources"
   ]
  },
  {
   "cell_type": "markdown",
   "id": "002729e7",
   "metadata": {},
   "source": [
    "To delete the cluster issuer:"
   ]
  },
  {
   "cell_type": "code",
   "execution_count": null,
   "id": "f45f9ef0",
   "metadata": {},
   "outputs": [],
   "source": [
    "kubectl delete -f cluster-issuer.yaml"
   ]
  },
  {
   "cell_type": "markdown",
   "id": "843de89f",
   "metadata": {},
   "source": [
    "List the Helm releases with the helm list command. Look for charts named nginx and cert-manager:"
   ]
  },
  {
   "cell_type": "code",
   "execution_count": null,
   "id": "72ec100f",
   "metadata": {},
   "outputs": [],
   "source": [
    "helm list"
   ]
  },
  {
   "cell_type": "code",
   "execution_count": null,
   "id": "211d30a4",
   "metadata": {},
   "outputs": [],
   "source": [
    "# Example output of \"helm list\"\n",
    "NAME                    NAMESPACE       REVISION        UPDATED                                 STATUS          CHART                   APP VERSION\n",
    "cert-manager            DEFAULT         1               2020-01-15 10:23:36.515514 -0600 CST    deployed        cert-manager-v0.13.0    v0.13.0    \n",
    "nginx                   DEFAULT         1               2020-01-15 10:09:45.982693 -0600 CST    deployed        nginx-ingress-1.29.1    0.27.0  "
   ]
  },
  {
   "cell_type": "markdown",
   "id": "62830536",
   "metadata": {},
   "source": [
    "Uninstall the releases with the helm uninstall command. The following example uninstalls the NGINX ingress and cert-manager deployments."
   ]
  },
  {
   "cell_type": "code",
   "execution_count": null,
   "id": "d69a8d1f",
   "metadata": {},
   "outputs": [],
   "source": [
    "$ helm uninstall cert-manager nginx \n",
    "\n",
    "release \"cert-manager\" uninstalled\n",
    "release \"nginx\" uninstalled"
   ]
  },
  {
   "cell_type": "markdown",
   "id": "d7db68bc",
   "metadata": {},
   "source": [
    "Remove the application:"
   ]
  },
  {
   "cell_type": "code",
   "execution_count": null,
   "id": "acac53fe",
   "metadata": {},
   "outputs": [],
   "source": [
    "kubectl delete -f eclwatch.yaml"
   ]
  },
  {
   "cell_type": "markdown",
   "id": "32b5ab94",
   "metadata": {},
   "source": [
    "Remove the ingress route that directed traffic to the sample apps:"
   ]
  },
  {
   "cell_type": "code",
   "execution_count": null,
   "id": "2fde208b",
   "metadata": {},
   "outputs": [],
   "source": [
    "kubectl delete -f eclwatch-ingress-route.yaml"
   ]
  }
 ],
 "metadata": {
  "kernelspec": {
   "display_name": "Bash",
   "language": "bash",
   "name": "bash"
  },
  "language_info": {
   "codemirror_mode": "shell",
   "file_extension": ".sh",
   "mimetype": "text/x-sh",
   "name": "bash"
  }
 },
 "nbformat": 4,
 "nbformat_minor": 5
}
