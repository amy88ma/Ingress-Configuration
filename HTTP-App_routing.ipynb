{
 "cells": [
  {
   "cell_type": "markdown",
   "id": "f2a42fab",
   "metadata": {},
   "source": [
    "# HTTP Application routing\n",
    "The HTTP application routing solution makes it easy to access applications that are deployed to your Azure Kubernetes Service (AKS) cluster. When the solution's enabled, it configures an Ingress controller in your AKS cluster. As applications are deployed, the solution also creates publicly accessible DNS names for application endpoints.\n",
    "\n",
    "When the add-on is enabled, it creates a DNS Zone in your subscription.\n",
    "\n",
    "The add-on deploys two components: a Kubernetes Ingress controller and an External-DNS controller.\n",
    "\n",
    "* Ingress controller: The Ingress controller is exposed to the internet by using a Kubernetes service of type LoadBalancer. The Ingress controller watches and implements Kubernetes Ingress resources, which creates routes to application endpoints.\n",
    "* External-DNS controller: Watches for Kubernetes Ingress resources and creates DNS A records in the cluster-specific DNS zone.\n",
    "\n",
    "## Prerequisites\n",
    "Install Azure [CLI](https://docs.microsoft.com/en-us/cli/azure/install-azure-cli)\n",
    "* Login to Azure CLI using the command **az login**\n",
    "* set subscription with **az account set --subscription \"name\"**\n",
    "\n",
    "## Deploy HTTP Routing- CLI\n",
    "The HTTP application routing add-on can be enabled with the Azure CLI when deploying an AKS cluster. To do so, use the az aks create command with the --enable-addons argument."
   ]
  },
  {
   "cell_type": "code",
   "execution_count": null,
   "id": "de8addbf",
   "metadata": {},
   "outputs": [],
   "source": [
    "az aks create --resource-group myResourceGroup --name myAKSCluster --enable-addons http_application_routing"
   ]
  },
  {
   "cell_type": "markdown",
   "id": "a6e1d6e2",
   "metadata": {},
   "source": [
    "You can also enable HTTP routing on an existing AKS cluster using the az aks enable-addons command. To enable HTTP routing on an existing cluster, add the --addons parameter and specify http_application_routing as shown in the following example:"
   ]
  },
  {
   "cell_type": "code",
   "execution_count": null,
   "id": "cdff3da7",
   "metadata": {},
   "outputs": [],
   "source": [
    "az aks enable-addons --resource-group myResourceGroup --name myAKSCluster --addons http_application_routing"
   ]
  },
  {
   "cell_type": "markdown",
   "id": "e6f79a63",
   "metadata": {},
   "source": [
    "After the cluster is deployed or updated, use the az aks show command to retrieve the **DNS zone name**."
   ]
  },
  {
   "cell_type": "code",
   "execution_count": null,
   "id": "43f6e5ae",
   "metadata": {},
   "outputs": [],
   "source": [
    "az aks show --resource-group myResourceGroup --name myAKSCluster --query addonProfiles.httpApplicationRouting.config.HTTPApplicationRoutingZoneName -o table"
   ]
  },
  {
   "cell_type": "markdown",
   "id": "c728694f",
   "metadata": {},
   "source": [
    "# Use HTTP routing\n",
    "The HTTP application routing solution may only be triggered on Ingress resources that are annotated as follows:"
   ]
  },
  {
   "cell_type": "code",
   "execution_count": null,
   "id": "f49f040e",
   "metadata": {},
   "outputs": [],
   "source": [
    "annotations:\n",
    "  kubernetes.io/ingress.class: addon-http-application-routing"
   ]
  },
  {
   "cell_type": "markdown",
   "id": "64497677",
   "metadata": {},
   "source": [
    "Add the annotations to the following service and open a file named http-application-routing.yaml:"
   ]
  },
  {
   "cell_type": "code",
   "execution_count": null,
   "id": "dadcc273",
   "metadata": {},
   "outputs": [],
   "source": [
    "apiVersion: networking.k8s.io/v1\n",
    "kind: Ingress\n",
    "metadata:\n",
    "  name: eclwatch-ingress\n",
    "  annotations:\n",
    "    kubernetes.io/ingress.class: addon-http-application-routing\n",
    "    kubernetes.io/ingress.class: nginx\n",
    "spec:\n",
    "  rules:\n",
    "    - host: <DNS_ZONE_NAME>\n",
    "      http:\n",
    "        paths:\n",
    "        - path: /\n",
    "          pathType: Prefix\n",
    "          backend:\n",
    "           service:\n",
    "             name: eclwatch\n",
    "             port: \n",
    "               number: 8010"
   ]
  },
  {
   "cell_type": "markdown",
   "id": "5c64586b",
   "metadata": {},
   "source": [
    "Use the kubectl apply command to create the resources."
   ]
  },
  {
   "cell_type": "code",
   "execution_count": null,
   "id": "621addc2",
   "metadata": {},
   "outputs": [],
   "source": [
    "kubectl apply -f http-application-routing.yaml"
   ]
  },
  {
   "cell_type": "markdown",
   "id": "8ec753a2",
   "metadata": {},
   "source": [
    "# Remove HTTP routing\n",
    "The HTTP routing solution can be removed using the Azure CLI. To do so run the following command, substituting your AKS cluster and resource group name."
   ]
  },
  {
   "cell_type": "code",
   "execution_count": null,
   "id": "727df0b3",
   "metadata": {},
   "outputs": [],
   "source": [
    "az aks disable-addons --addons http_application_routing --name myAKSCluster --resource-group myResourceGroup --no-wait"
   ]
  },
  {
   "cell_type": "markdown",
   "id": "d47014ef",
   "metadata": {},
   "source": [
    "When the HTTP application routing add-on is disabled, some Kubernetes resources may remain in the cluster. These resources include configMaps and secrets, and are created in the kube-system namespace. To maintain a clean cluster, you may want to remove these resources.\n",
    "\n",
    "Look for addon-http-application-routing resources using the following kubectl get commands:"
   ]
  },
  {
   "cell_type": "code",
   "execution_count": null,
   "id": "0782855f",
   "metadata": {},
   "outputs": [],
   "source": [
    "kubectl get deployments \n",
    "kubectl get services \n",
    "kubectl get configmaps \n",
    "kubectl get secrets "
   ]
  },
  {
   "cell_type": "markdown",
   "id": "e51546f7",
   "metadata": {},
   "source": [
    "To delete resources, use the kubectl delete command. Specify the resource type, resource name, and namespace. The following example deletes one of the previous configmaps:"
   ]
  },
  {
   "cell_type": "code",
   "execution_count": null,
   "id": "02405c40",
   "metadata": {},
   "outputs": [],
   "source": [
    "kubectl delete configmaps addon-http-application-routing-nginx-configuration"
   ]
  },
  {
   "cell_type": "markdown",
   "id": "004ead9d",
   "metadata": {},
   "source": [
    "# Troubleshoot\n",
    "Use the kubectl logs command to view the application logs for the External-DNS application. The logs should confirm that an A and TXT DNS record were created successfully."
   ]
  },
  {
   "cell_type": "code",
   "execution_count": null,
   "id": "ccdf385b",
   "metadata": {},
   "outputs": [],
   "source": [
    "kubectl logs -f deploy/addon-http-application-routing-external-dns -n kube-system"
   ]
  },
  {
   "cell_type": "markdown",
   "id": "2eef5b41",
   "metadata": {},
   "source": [
    "Use the kubectl logs command to view the application logs for the Nginx Ingress controller. The logs should confirm the CREATE of an Ingress resource and the reload of the controller. All HTTP activity is logged."
   ]
  },
  {
   "cell_type": "code",
   "execution_count": null,
   "id": "5fe58a75",
   "metadata": {},
   "outputs": [],
   "source": [
    "kubectl logs -f deploy/addon-http-application-routing-nginx-ingress-controller"
   ]
  },
  {
   "cell_type": "markdown",
   "id": "aa18d587",
   "metadata": {},
   "source": [
    "# Cleanup\n",
    "Remove the associated Kubernetes objects created in this article using kubectl delete."
   ]
  },
  {
   "cell_type": "code",
   "execution_count": null,
   "id": "0361ef78",
   "metadata": {},
   "outputs": [],
   "source": [
    "kubectl delete -f http-application-routing.yaml"
   ]
  }
 ],
 "metadata": {
  "kernelspec": {
   "display_name": "Bash",
   "language": "bash",
   "name": "bash"
  },
  "language_info": {
   "codemirror_mode": "shell",
   "file_extension": ".sh",
   "mimetype": "text/x-sh",
   "name": "bash"
  }
 },
 "nbformat": 4,
 "nbformat_minor": 5
}
