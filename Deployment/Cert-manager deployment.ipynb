{
 "cells": [
  {
   "cell_type": "markdown",
   "id": "d7c20425",
   "metadata": {},
   "source": [
    "# Install Cert-Manager\n",
    "Once [cert-manager has been deployed](https://cert-manager.io/docs/installation/kubernetes/), you must configure Issuer or ClusterIssuer resources which represent certificate authorities. More information on configuring different Issuer types can be found in the respective configuration guides.\n",
    "\n",
    "This example shows two options to installing cert-manager:\n",
    "\n",
    "1) With Helm.\n",
    "2) With regular manifests.\n",
    "\n",
    "### Prerequisites:\n",
    "* Have Helm 3 Installed.\n",
    "\n",
    "## Option 1) Installing cert-manager with Helm\n",
    "\n",
    "1) First, create a namespace for cert-manager:"
   ]
  },
  {
   "cell_type": "code",
   "execution_count": null,
   "id": "66a6c280",
   "metadata": {},
   "outputs": [],
   "source": [
    "kubectl create namespace cert-manager"
   ]
  },
  {
   "cell_type": "markdown",
   "id": "859400d5",
   "metadata": {},
   "source": [
    "You should see something like this:"
   ]
  },
  {
   "cell_type": "code",
   "execution_count": null,
   "id": "c0e6c084",
   "metadata": {},
   "outputs": [],
   "source": [
    "namespace/cert-manager created"
   ]
  },
  {
   "cell_type": "markdown",
   "id": "75bfd20d",
   "metadata": {},
   "source": [
    "2) Then, add the Jetstack Helm repository:"
   ]
  },
  {
   "cell_type": "code",
   "execution_count": null,
   "id": "d944517e",
   "metadata": {},
   "outputs": [],
   "source": [
    "helm repo add jetstack https://charts.jetstack.io"
   ]
  },
  {
   "cell_type": "markdown",
   "id": "be811b6a",
   "metadata": {},
   "source": [
    "You should see something like this:"
   ]
  },
  {
   "cell_type": "code",
   "execution_count": null,
   "id": "78dcb6a5",
   "metadata": {},
   "outputs": [],
   "source": [
    "\"jetstack\" has been added to your repositories"
   ]
  },
  {
   "cell_type": "markdown",
   "id": "bfc7da86",
   "metadata": {},
   "source": [
    "3) And update the local Helm chart repository cache:"
   ]
  },
  {
   "cell_type": "code",
   "execution_count": null,
   "id": "839f1dc4",
   "metadata": {},
   "outputs": [],
   "source": [
    "helm repo update"
   ]
  },
  {
   "cell_type": "markdown",
   "id": "e76d35d1",
   "metadata": {},
   "source": [
    "You should see the update is complete:"
   ]
  },
  {
   "cell_type": "code",
   "execution_count": null,
   "id": "b31aa7d6",
   "metadata": {},
   "outputs": [],
   "source": [
    "Hang tight while we grab the latest from your chart repositories...\n",
    "...Successfully got an update from the \"jetstack\" chart repository\n",
    "Update Complete. ⎈Happy Helming!⎈"
   ]
  },
  {
   "cell_type": "markdown",
   "id": "dba09cb8",
   "metadata": {},
   "source": [
    "4) Now install the cert-manager helm chart.  \n",
    "\n",
    "To automatically install and manage the CRDs as part of your Helm release, you must add the **--set installCRDs=true** flag to your Helm installation command."
   ]
  },
  {
   "cell_type": "code",
   "execution_count": null,
   "id": "2e3a392d",
   "metadata": {},
   "outputs": [],
   "source": [
    "helm install \\\n",
    "  cert-manager jetstack/cert-manager \\\n",
    "  --namespace cert-manager \\\n",
    "  --create-namespace \\\n",
    "  --version v1.4.0 \\\n",
    "  --set installCRDs=true"
   ]
  },
  {
   "cell_type": "markdown",
   "id": "a01b346e",
   "metadata": {},
   "source": [
    "You should see something like this:"
   ]
  },
  {
   "cell_type": "code",
   "execution_count": null,
   "id": "4953d23c",
   "metadata": {},
   "outputs": [],
   "source": [
    "NAME: cert-manager\n",
    "LAST DEPLOYED: Thu Jul 15 10:21:11 2021\n",
    "NAMESPACE: cert-manager\n",
    "STATUS: deployed\n",
    "REVISION: 1\n",
    "TEST SUITE: None\n",
    "NOTES:\n",
    "cert-manager has been deployed successfully!\n",
    "\n",
    "In order to begin issuing certificates, you will need to set up a ClusterIssuer\n",
    "or Issuer resource (for example, by creating a 'letsencrypt-staging' issuer).\n",
    "\n",
    "More information on the different types of issuers and how to configure them\n",
    "can be found in our documentation:\n",
    "\n",
    "https://cert-manager.io/docs/configuration/\n",
    "\n",
    "For information on how to configure cert-manager to automatically provision\n",
    "Certificates for Ingress resources, take a look at the `ingress-shim`\n",
    "documentation:\n",
    "\n",
    "https://cert-manager.io/docs/usage/ingress/"
   ]
  },
  {
   "cell_type": "markdown",
   "id": "fc9b0857",
   "metadata": {},
   "source": [
    "## Option 2) Installing cert-manager with regular manifests\n",
    "All resources (the CustomResourceDefinitions, cert-manager, namespace, and the webhook component) are included in a single YAML manifest file:"
   ]
  },
  {
   "cell_type": "code",
   "execution_count": null,
   "id": "aefb5bee",
   "metadata": {},
   "outputs": [],
   "source": [
    "kubectl apply -f https://github.com/jetstack/cert-manager/releases/download/v1.4.0/cert-manager.yaml"
   ]
  },
  {
   "cell_type": "markdown",
   "id": "60bd23b7",
   "metadata": {},
   "source": [
    "You should see something like this:"
   ]
  },
  {
   "cell_type": "code",
   "execution_count": null,
   "id": "3896b9e7",
   "metadata": {},
   "outputs": [],
   "source": [
    "customresourcedefinition.apiextensions.k8s.io/certificaterequests.cert-manager.io created\n",
    "customresourcedefinition.apiextensions.k8s.io/certificates.cert-manager.io created\n",
    "customresourcedefinition.apiextensions.k8s.io/challenges.acme.cert-manager.io created\n",
    "customresourcedefinition.apiextensions.k8s.io/clusterissuers.cert-manager.io created\n",
    "customresourcedefinition.apiextensions.k8s.io/issuers.cert-manager.io created\n",
    "customresourcedefinition.apiextensions.k8s.io/orders.acme.cert-manager.io created\n",
    "namespace/cert-manager configured\n",
    "serviceaccount/cert-manager-cainjector created\n",
    "serviceaccount/cert-manager created\n",
    "serviceaccount/cert-manager-webhook created\n",
    "clusterrole.rbac.authorization.k8s.io/cert-manager-cainjector created\n",
    "clusterrole.rbac.authorization.k8s.io/cert-manager-controller-issuers created\n",
    "clusterrole.rbac.authorization.k8s.io/cert-manager-controller-clusterissuers created\n",
    "clusterrole.rbac.authorization.k8s.io/cert-manager-controller-certificates created\n",
    "clusterrole.rbac.authorization.k8s.io/cert-manager-controller-orders created\n",
    "clusterrole.rbac.authorization.k8s.io/cert-manager-controller-challenges created\n",
    "clusterrole.rbac.authorization.k8s.io/cert-manager-controller-ingress-shim created\n",
    "clusterrole.rbac.authorization.k8s.io/cert-manager-view created\n",
    "clusterrole.rbac.authorization.k8s.io/cert-manager-edit created\n",
    "clusterrole.rbac.authorization.k8s.io/cert-manager-controller-approve:cert-manager-io created\n",
    "clusterrole.rbac.authorization.k8s.io/cert-manager-controller-certificatesigningrequests created\n",
    "clusterrole.rbac.authorization.k8s.io/cert-manager-webhook:subjectaccessreviews created\n",
    "clusterrolebinding.rbac.authorization.k8s.io/cert-manager-cainjector created\n",
    "clusterrolebinding.rbac.authorization.k8s.io/cert-manager-controller-issuers created\n",
    "clusterrolebinding.rbac.authorization.k8s.io/cert-manager-controller-clusterissuers created\n",
    "clusterrolebinding.rbac.authorization.k8s.io/cert-manager-controller-certificates created\n",
    "clusterrolebinding.rbac.authorization.k8s.io/cert-manager-controller-orders created\n",
    "clusterrolebinding.rbac.authorization.k8s.io/cert-manager-controller-challenges created\n",
    "clusterrolebinding.rbac.authorization.k8s.io/cert-manager-controller-ingress-shim created\n",
    "clusterrolebinding.rbac.authorization.k8s.io/cert-manager-controller-approve:cert-manager-io created\n",
    "clusterrolebinding.rbac.authorization.k8s.io/cert-manager-controller-certificatesigningrequests created\n",
    "clusterrolebinding.rbac.authorization.k8s.io/cert-manager-webhook:subjectaccessreviews created\n",
    "role.rbac.authorization.k8s.io/cert-manager-cainjector:leaderelection created\n",
    "role.rbac.authorization.k8s.io/cert-manager:leaderelection created\n",
    "role.rbac.authorization.k8s.io/cert-manager-webhook:dynamic-serving created\n",
    "rolebinding.rbac.authorization.k8s.io/cert-manager-cainjector:leaderelection created\n",
    "rolebinding.rbac.authorization.k8s.io/cert-manager:leaderelection created\n",
    "rolebinding.rbac.authorization.k8s.io/cert-manager-webhook:dynamic-serving created\n",
    "service/cert-manager created\n",
    "service/cert-manager-webhook created\n",
    "deployment.apps/cert-manager-cainjector created\n",
    "deployment.apps/cert-manager created\n",
    "deployment.apps/cert-manager-webhook created\n",
    "mutatingwebhookconfiguration.admissionregistration.k8s.io/cert-manager-webhook created\n",
    "validatingwebhookconfiguration.admissionregistration.k8s.io/cert-manager-webhook created"
   ]
  },
  {
   "cell_type": "markdown",
   "id": "fc63c7b3",
   "metadata": {},
   "source": [
    "# Confirm the installation"
   ]
  },
  {
   "cell_type": "markdown",
   "id": "63740f1b",
   "metadata": {},
   "source": [
    "Once you’ve installed cert-manager, you can verify it is deployed correctly by checking the cert-manager namespace for running pods:"
   ]
  },
  {
   "cell_type": "code",
   "execution_count": null,
   "id": "36f3755c",
   "metadata": {},
   "outputs": [],
   "source": [
    "kubectl get pods --namespace cert-manager"
   ]
  },
  {
   "cell_type": "markdown",
   "id": "b93d5425",
   "metadata": {},
   "source": [
    "You should see something like this, verify that the pods are all ready and running:"
   ]
  },
  {
   "cell_type": "code",
   "execution_count": null,
   "id": "c5621476",
   "metadata": {},
   "outputs": [],
   "source": [
    "NAME                                       READY   STATUS    RESTARTS   AGE\n",
    "cert-manager-5d7f97b46d-p4rjb              1/1     Running   0          14h\n",
    "cert-manager-cainjector-69d885bf55-59zsm   1/1     Running   0          14h\n",
    "cert-manager-webhook-8d7495f4-cglg7        1/1     Running   0          14h"
   ]
  },
  {
   "cell_type": "markdown",
   "id": "351e28d9",
   "metadata": {},
   "source": [
    "# Delete resources\n",
    "Below is the processes for uninstalling cert-manager on Kubernetes. There are two processes to chose depending on which method you used to install cert-manager - static manifests or helm.\n",
    "\n",
    "### Uninstalling with regular manifests \n",
    "The version v1.4.0 is used, delete the installation manifests using a link to your currently running version vX.Y.Z like so:"
   ]
  },
  {
   "cell_type": "code",
   "execution_count": null,
   "id": "e3e02156",
   "metadata": {},
   "outputs": [],
   "source": [
    "$ kubectl delete -f https://github.com/jetstack/cert-manager/releases/download/v1.4.0/cert-manager.yaml"
   ]
  },
  {
   "cell_type": "markdown",
   "id": "8f5bc46f",
   "metadata": {},
   "source": [
    "### Uninstalling with Helm\n",
    "Uninstalling cert-manager from a helm installation is a case of running the installation process, in reverse, using the delete command on both kubectl and helm."
   ]
  },
  {
   "cell_type": "code",
   "execution_count": null,
   "id": "d1111e92",
   "metadata": {},
   "outputs": [],
   "source": [
    "helm --namespace cert-manager delete cert-manager"
   ]
  },
  {
   "cell_type": "markdown",
   "id": "162114af",
   "metadata": {},
   "source": [
    "You should see something like this:"
   ]
  },
  {
   "cell_type": "code",
   "execution_count": null,
   "id": "e0f90cd3",
   "metadata": {},
   "outputs": [],
   "source": [
    "release \"cert-manager\" uninstalled"
   ]
  },
  {
   "cell_type": "markdown",
   "id": "8e20df84",
   "metadata": {},
   "source": [
    "Next, delete the namespace:"
   ]
  },
  {
   "cell_type": "code",
   "execution_count": null,
   "id": "c207df64",
   "metadata": {},
   "outputs": [],
   "source": [
    "kubectl delete namespace cert-manager"
   ]
  },
  {
   "cell_type": "markdown",
   "id": "7e6298d1",
   "metadata": {},
   "source": [
    "You should see something like this:"
   ]
  },
  {
   "cell_type": "code",
   "execution_count": null,
   "id": "3a78246e",
   "metadata": {},
   "outputs": [],
   "source": [
    "namespace \"cert-manager\" deleted"
   ]
  }
 ],
 "metadata": {
  "kernelspec": {
   "display_name": "Bash",
   "language": "bash",
   "name": "bash"
  },
  "language_info": {
   "codemirror_mode": "shell",
   "file_extension": ".sh",
   "mimetype": "text/x-sh",
   "name": "bash"
  }
 },
 "nbformat": 4,
 "nbformat_minor": 5
}
