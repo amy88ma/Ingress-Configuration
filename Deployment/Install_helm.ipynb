{
 "cells": [
  {
   "cell_type": "markdown",
   "id": "34d4ca35",
   "metadata": {},
   "source": [
    "# Install Helm\n",

    "## Prerequisites\n",
    "The following prerequisites are required for a successful and properly secured use of Helm.\n",
    "\n",
    "1) A Kubernetes cluster.\n",
    "2) Deciding what security configurations to apply to your installation, if any.\n",//It would be better that the 1) and 2) are shown as different lines. Do you know the details about 2)
    "\n",
    "This example shows installing Helm through package managers, or through script.\n", //Before this line, can you add a ## subtile: Helm Installation
    "### Through Package Managers:\n", //Can you add the sample responses for each command below?
    "##### 1) From Homebrew (macOS)"
   ]
  },
  {
   "cell_type": "code",
   "execution_count": null,
   "id": "cb23fae6",
   "metadata": {},
   "outputs": [],
   "source": [
    "$ brew install helm"
   ]
  },
  {
   "cell_type": "markdown",
   "id": "fc5ee8f0",
   "metadata": {},
   "source": [
    "#### 2) From Chocolatey (Windows)"
   ]
  },
  {
   "cell_type": "code",
   "execution_count": null,
   "id": "893d165f",
   "metadata": {},
   "outputs": [],
   "source": [
    "choco install kubernetes-helm"
   ]
  },
  {
   "cell_type": "markdown",
   "id": "8e75f0d8",
   "metadata": {},
   "source": [
    "### Through Script"
   ]
  },
  {
   "cell_type": "code",
   "execution_count": null,
   "id": "5cc14d9f",
   "metadata": {},
   "outputs": [],
   "source": [
    "$ curl -fsSL -o get_helm.sh https://raw.githubusercontent.com/helm/helm/master/scripts/get-helm-3\n",
    "$ chmod 700 get_helm.sh\n",
    "$ ./get_helm.sh"
   ]
  }
 ],
 "metadata": {
  "kernelspec": {
   "display_name": "Bash",
   "language": "bash",
   "name": "bash"
  },
  "language_info": {
   "codemirror_mode": "shell",
   "file_extension": ".sh",
   "mimetype": "text/x-sh",
   "name": "bash"
  }
 },
 "nbformat": 4,
 "nbformat_minor": 5
}
