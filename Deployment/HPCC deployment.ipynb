{
 "cells": [
  {
   "cell_type": "markdown",
   "id": "c4e4ad21",
   "metadata": {},
   "source": [
    "# Deploy HPCC with Helm\n",
    "Use Helm to deploy HPCC chart, version 8.0.20-1. \n",
    "## Prerequisites\n",
    "* A running Kubernetes cluster\n",
    "* [Have Helm installed](https://github.com/amy88ma/Ingress-Configuration/blob/42ebc6626c11776da46f0e53dba3138a7c70160e/Jupyter%20Notebooks/Install_helm.ipynb)"
   ]
  },
  {
   "cell_type": "markdown",
   "id": "ff5ac644",
   "metadata": {},
   "source": [
    "## Deploy HPCC"
   ]
  },
  {
   "cell_type": "markdown",
   "id": "ee6b12ca",
   "metadata": {},
   "source": [
    "1) Add helm charts repository"
   ]
  },
  {
   "cell_type": "code",
   "execution_count": null,
   "id": "d63d9309",
   "metadata": {},
   "outputs": [],
   "source": [
    "helm repo add hpcc https://hpcc-systems.github.io/helm-chart/"
   ]
  },
  {
   "cell_type": "markdown",
   "id": "5740b7b6",
   "metadata": {},
   "source": [
    "2) Deploy the HPCC helm chart:"
   ]
  },
  {
   "cell_type": "code",
   "execution_count": null,
   "id": "07e9e8b9",
   "metadata": {},
   "outputs": [],
   "source": [
    "helm install hpcc hpcc/ --set global.image.version=8.0.20-1 -f examples/azure/values-auto-azurefile.yaml"
   ]
  },
  {
   "cell_type": "markdown",
   "id": "e61f7b00",
   "metadata": {},
   "source": [
    "If the deployment is successful, the following output will be shown:"
   ]
  },
  {
   "cell_type": "code",
   "execution_count": null,
   "id": "e8df1087",
   "metadata": {},
   "outputs": [],
   "source": [
    "NAME: hpcc\n",
    "LAST DEPLOYED: Tue Jul  6 08:07:34 2021\n",
    "NAMESPACE: default\n",
    "STATUS: deployed\n",
    "REVISION: 1\n",
    "TEST SUITE: None\n",
    "NOTES:\n",
    "Thank you for installing the HPCC chart.\n",
    "\n",
    "This chart has defined the following HPCC components:\n",
    "  dali.mydali\n",
    "  dfuserver.dfuserver\n",
    "  eclagent.hthor\n",
    "  eclagent.roxie-workunit\n",
    "  eclccserver.myeclccserver\n",
    "  eclscheduler.eclscheduler\n",
    "  esp.eclwatch\n",
    "  esp.eclservices\n",
    "  esp.eclqueries\n",
    "  esp.esdl-sandbox\n",
    "  esp.sql2ecl\n",
    "  roxie.roxie\n",
    "  thor.thor\n",
    "  sasha.dfurecovery-archiver\n",
    "  sasha.dfuwu-archiver\n",
    "  sasha.file-expiry\n",
    "  sasha.wu-archiver\n"
   ]
  },
  {
   "cell_type": "markdown",
   "id": "eb7dd0fa",
   "metadata": {},
   "source": [
    "To see the pods current status:  "
   ]
  },
  {
   "cell_type": "code",
   "execution_count": null,
   "id": "5e11ac32",
   "metadata": {},
   "outputs": [],
   "source": [
    "kubectl get pod"
   ]
  },
  {
   "cell_type": "markdown",
   "id": "91746ad3",
   "metadata": {},
   "source": [
    "You should see that all pods are ready and running:"
   ]
  },
  {
   "cell_type": "code",
   "execution_count": null,
   "id": "26967c46",
   "metadata": {},
   "outputs": [],
   "source": [
    "NAME                                         READY   STATUS    RESTARTS   AGE\n",
    "dfuserver-7f7cdb8fdc-vxr6c                   1/1     Running   0          116s\n",
    "eclqueries-d48dd9ddb-hwv68                   1/1     Running   0          117s\n",
    "eclscheduler-7cc4756bb7-qzm2x                1/1     Running   0          115s\n",
    "eclservices-54f7ffbfd6-gngxn                 1/1     Running   0          115s\n",
    "eclwatch-f55678755-jcnj4                     1/1     Running   0          116s\n",
    "esdl-sandbox-7dd9964678-z4cmh                1/1     Running   0          116s\n",
    "hthor-5f45584d87-2wgnm                       1/1     Running   0          116s\n",
    "mydali-66485d5cb9-99btx                      2/2     Running   0          114s\n",
    "myeclccserver-658766ffb5-6nx4s               1/1     Running   0          115s\n",
    "roxie-agent-1-6bcdff865b-ckg87               1/1     Running   0          116s\n",
    "roxie-agent-1-6bcdff865b-f6db8               1/1     Running   0          116s\n",
    "roxie-agent-2-7d556d4ff5-7rpjf               1/1     Running   0          116s\n",
    "roxie-agent-2-7d556d4ff5-zxsfz               1/1     Running   0          116s\n",
    "roxie-toposerver-589b4c654f-c5q5n            1/1     Running   0          116s\n",
    "roxie-workunit-74768cb499-kxv2w              1/1     Running   0          116s\n",
    "sasha-dfurecovery-archiver-748bdb6f4-j5zfr   1/1     Running   0          117s\n",
    "sasha-dfuwu-archiver-66f9765b78-zc85b        1/1     Running   0          116s\n",
    "sasha-file-expiry-5469c85478-ls789           1/1     Running   0          117s\n",
    "sasha-wu-archiver-579844b866-rlvq7           1/1     Running   0          117s\n",
    "sql2ecl-6b6c7f97dd-gr8h4                     1/1     Running   0          115s\n",
    "thor-eclagent-6c4b89694f-xldpd               1/1     Running   0          115s\n",
    "thor-thoragent-7fbf795b57-tqwsc              1/1     Running   0          117s"
   ]
  },
  {
   "cell_type": "markdown",
   "id": "e64a85e3",
   "metadata": {},
   "source": [
    "### Getting External IP\n",
    "To visit the webpage, use the following command to access the external IPs:"
   ]
  },
  {
   "cell_type": "code",
   "execution_count": null,
   "id": "0597e88e",
   "metadata": {},
   "outputs": [],
   "source": [
    "kubectl get svc"
   ]
  },
  {
   "cell_type": "markdown",
   "id": "1a528681",
   "metadata": {},
   "source": [
    "You should see all the services listed:"
   ]
  },
  {
   "cell_type": "code",
   "execution_count": null,
   "id": "b59b9e4f",
   "metadata": {},
   "outputs": [],
   "source": [
    "NAME                                 TYPE           CLUSTER-IP     EXTERNAL-IP     PORT(S)                      AGE\n",
    "eclqueries                           LoadBalancer   10.0.30.2      20.75.227.106   8002:32145/TCP               7m14s\n",
    "eclservices                          ClusterIP      10.0.61.200    <none>          8010/TCP                     7m14s\n",
    "eclwatch                             LoadBalancer   10.0.73.136    20.62.231.18    8010:30417/TCP               7m14s\n",
    "esdl-sandbox                         LoadBalancer   10.0.105.63    20.75.228.72    8899:31720/TCP               7m14s\n",
    "kubernetes                           ClusterIP      10.0.0.1       <none>          443/TCP                      5h19m\n",
    "mydali                               ClusterIP      10.0.254.44    <none>          7070/TCP                     7m14s\n",
    "roxie                                LoadBalancer   10.0.141.238   20.75.227.60    9876:30517/TCP               7m14s\n",
    "roxie-toposerver                     ClusterIP      None           <none>          9004/TCP                     7m14s\n",
    "sasha-dfuwu-archiver                 ClusterIP      10.0.81.41     <none>          8877/TCP                     7m14s\n",
    "sasha-wu-archiver                    ClusterIP      10.0.140.147   <none>          8877/TCP                     7m14s\n",
    "sql2ecl                              LoadBalancer   10.0.34.167    20.75.225.136   8510:32653/TCP               7m14s"
   ]
  },
  {
   "cell_type": "markdown",
   "id": "6bbaa68b",
   "metadata": {},
   "source": [
    "### Viewing HPCC ECLWatch "
   ]
  },
  {
   "cell_type": "markdown",
   "id": "2c954004",
   "metadata": {},
   "source": [
    "To visit the webpage of eclwatch, visit the external IP followed by port 8010.\n",
    "\n",
    "In this example, visit the webpage that would be visisted is: http://20.62.231.18:8010\n",
    "\n",
    "If successful, the eclwatch page should be displayed in the browser."
   ]
  },
  {
   "cell_type": "markdown",
   "id": "924fcaab",
   "metadata": {},
   "source": [
    "## Uninstalling the chart\n",
    "To check which charts are currently deployed, run the following command:"
   ]
  },
  {
   "cell_type": "code",
   "execution_count": null,
   "id": "fcc660ce",
   "metadata": {},
   "outputs": [],
   "source": [
    "helm list"
   ]
  },
  {
   "cell_type": "markdown",
   "id": "1abc4d90",
   "metadata": {},
   "source": [
    "You should see the hpcc chart deployed and available for deletion:"
   ]
  },
  {
   "cell_type": "code",
   "execution_count": null,
   "id": "5580020a",
   "metadata": {},
   "outputs": [],
   "source": [
    "NAME         \tNAMESPACE\tREVISION\tUPDATED                             \tSTATUS  \tCHART               \tAPP VERSION\n",
    "hpcc         \tdefault  \t1       \t2021-07-12 13:05:13.706626 -0400 EDT\tdeployed\thpcc-8.0.20         \t8.0.20     "
   ]
  },
  {
   "cell_type": "markdown",
   "id": "78b47b4f",
   "metadata": {},
   "source": [
    "To uninstall the chart, pods, and storage used:"
   ]
  },
  {
   "cell_type": "code",
   "execution_count": null,
   "id": "c8cadd56",
   "metadata": {},
   "outputs": [],
   "source": [
    "helm delete hpcc"
   ]
  },
  {
   "cell_type": "markdown",
   "id": "45fc87a0",
   "metadata": {},
   "source": [
    "You should see that the release uninstalled:"
   ]
  },
  {
   "cell_type": "code",
   "execution_count": null,
   "id": "728cf327",
   "metadata": {},
   "outputs": [],
   "source": [
    "release \"hpcc\" uninstalled"
   ]
  }
 ],
 "metadata": {
  "kernelspec": {
   "display_name": "Bash",
   "language": "bash",
   "name": "bash"
  },
  "language_info": {
   "codemirror_mode": "shell",
   "file_extension": ".sh",
   "mimetype": "text/x-sh",
   "name": "bash"
  }
 },
 "nbformat": 4,
 "nbformat_minor": 5
}
