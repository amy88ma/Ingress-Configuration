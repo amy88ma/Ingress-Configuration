{
 "cells": [
  {
   "cell_type": "markdown",
   "id": "34d4ca35",
   "metadata": {},
   "source": [
    "# Install Helm\n",
    "Once you have Helm installed and configured, you are able to install production-ready applications from software vendors into your Kubernetes cluster with the ```helm install``` command.\n",
    "\n",
    "## Prerequisites\n",
    "The following prerequisites are required for a successful and properly secured use of Helm.\n",
    "\n",
    "1) A Kubernetes cluster.\n",
    "\n",
    "2) Deciding what [security configurations](https://v2.helm.sh/docs/securing_installation/) to apply to your installation, if any.\n",
    "\n",
    "This example shows installing Helm through package managers, or through script.\n",
    "## Helm installation\n",
    "### Through Package Managers:\n",
    "##### 1) From Homebrew (macOS)"
   ]
  },
  {
   "cell_type": "code",
   "execution_count": null,
   "id": "cb23fae6",
   "metadata": {},
   "outputs": [],
   "source": [
    "brew install helm"
   ]
  },
  {
   "cell_type": "markdown",
   "id": "37745499",
   "metadata": {},
   "source": [
    "You should see something like this:"
   ]
  },
  {
   "cell_type": "code",
   "execution_count": null,
   "id": "3b649786",
   "metadata": {},
   "outputs": [],
   "source": [
    "==> helm\n",
    "Bash completion has been installed to:\n",
    "  /usr/local/etc/bash_completion.d"
   ]
  },
  {
   "cell_type": "markdown",
   "id": "fc5ee8f0",
   "metadata": {},
   "source": [
    "#### 2) From Chocolatey (Windows)"
   ]
  },
  {
   "cell_type": "code",
   "execution_count": null,
   "id": "893d165f",
   "metadata": {},
   "outputs": [],
   "source": [
    "choco install kubernetes-helm"
   ]
  },
  {
   "cell_type": "markdown",
   "id": "8e75f0d8",
   "metadata": {},
   "source": [
    "### Through Script"
   ]
  },
  {
   "cell_type": "code",
   "execution_count": null,
   "id": "5cc14d9f",
   "metadata": {},
   "outputs": [],
   "source": [
    "curl -fsSL -o get_helm.sh https://raw.githubusercontent.com/helm/helm/master/scripts/get-helm-3\n",
    "chmod 700 get_helm.sh\n",
    "./get_helm.sh"
   ]
  },
  {
   "cell_type": "markdown",
   "id": "22783485",
   "metadata": {},
   "source": [
    "You should see something like this:"
   ]
  },
  {
   "cell_type": "code",
   "execution_count": null,
   "id": "7172a2dc",
   "metadata": {},
   "outputs": [],
   "source": [
    "Downloading https://get.helm.sh/helm-v3.6.1-darwin-amd64.tar.gz\n",
    "Verifying checksum... Done.\n",
    "Preparing to install helm into /usr/local/bin\n",
    "Password:\n",
    "helm installed into /usr/local/bin/helm"
   ]
  }
 ],
 "metadata": {
  "kernelspec": {
   "display_name": "Bash",
   "language": "bash",
   "name": "bash"
  },
  "language_info": {
   "codemirror_mode": "shell",
   "file_extension": ".sh",
   "mimetype": "text/x-sh",
   "name": "bash"
  }
 },
 "nbformat": 4,
 "nbformat_minor": 5
}
