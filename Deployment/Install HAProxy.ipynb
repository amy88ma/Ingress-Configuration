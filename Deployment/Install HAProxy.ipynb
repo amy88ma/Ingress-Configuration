{
 "cells": [
  {
   "cell_type": "markdown",
   "id": "f6de10e6",
   "metadata": {},
   "source": [
    "# Install HAProxy controller\n",
    "This example shows how to install the HAProxy Kubernetes Ingress Controller using Helm, and how to customize its settings.\n",
    "## Prerequisites \n",
    "* Have a running kubernetes cluster\n",
    "* Have cluster node(s) accessible externally\n",
    "* [Install Helm](https://github.com/amy88ma/Ingress-Configuration/blob/1d72e52723de4c23c308a300457a94baa7da1351/Deployment/Install_helm.ipynb)\n",
    "* Deploy the HPCC Helm chart\n",
    "\n",
    "## Installation\n",
    "HAProxy Ingress uses Helm chart to install and configure the controller. See below some deployment instructions:\n",
    "\n",
    "1. Add the HAProxy Ingress’ Helm repository. This will instruct Helm to find all available packages:"
   ]
  },
  {
   "cell_type": "code",
   "execution_count": null,
   "id": "c157935b",
   "metadata": {},
   "outputs": [],
   "source": [
    "helm repo add haproxy-ingress https://haproxy-ingress.github.io/charts"
   ]
  },
  {
   "cell_type": "markdown",
   "id": "830a88ad",
   "metadata": {},
   "source": [
    "You should see something like this:"
   ]
  },
  {
   "cell_type": "code",
   "execution_count": null,
   "id": "28e1ae9d",
   "metadata": {},
   "outputs": [],
   "source": [
    "\"haproxy-ingress\" has been added to your repositories"
   ]
  },
  {
   "cell_type": "markdown",
   "id": "1e85687c",
   "metadata": {},
   "source": [
    "2. The next step is to refresh your list of charts by using the helm repo update command."
   ]
  },
  {
   "cell_type": "code",
   "execution_count": null,
   "id": "02c40e72",
   "metadata": {},
   "outputs": [],
   "source": [
    "helm repo update"
   ]
  },
  {
   "cell_type": "markdown",
   "id": "13c65b2f",
   "metadata": {},
   "source": [
    "You should see something like this:"
   ]
  },
  {
   "cell_type": "code",
   "execution_count": null,
   "id": "2a26c67e",
   "metadata": {},
   "outputs": [],
   "source": [
    "Hang tight while we grab the latest from your chart repositories...\n",
    "...Successfully got an update from the \"haproxy-ingress\" chart repository\n",
    "Update Complete. ⎈ Happy Helming!⎈"
   ]
  },
  {
   "cell_type": "markdown",
   "id": "61400522",
   "metadata": {},
   "source": [
    "Note that the user needs administrative privileges in the cluster to properly installs the controller.\n",
    "\n",
    "3. Create a haproxy-ingress-values.yaml file with custom parameters:"
   ]
  },
  {
   "cell_type": "code",
   "execution_count": null,
   "id": "751fb969",
   "metadata": {},
   "outputs": [],
   "source": [
    "controller:\n",
    "  hostNetwork: true"
   ]
  },
  {
   "cell_type": "markdown",
   "id": "df1ab8fa",
   "metadata": {},
   "source": [
    "4. Save and exit the file"
   ]
  },
  {
   "cell_type": "markdown",
   "id": "e4d28fca",
   "metadata": {},
   "source": [
    "5. Install HAProxy Ingress using haproxy-ingress as the release name and haproxy-ingress-values.yaml file as the custom parameters:"
   ]
  },
  {
   "cell_type": "code",
   "execution_count": null,
   "id": "b867666e",
   "metadata": {},
   "outputs": [],
   "source": [
    "helm install haproxy-ingress haproxy-ingress/haproxy-ingress\\\n",
    "  --create-namespace --namespace ingress-controller\\\n",
    "  --version 0.12.6\\\n",
    "  -f haproxy-ingress-values.yaml"
   ]
  },
  {
   "cell_type": "markdown",
   "id": "f494e15c",
   "metadata": {},
   "source": [
    "The controller should be running in a few seconds. There are three important customizations made in the example above:\n",
    "* version: this will ensure that you’ll have the same version installed even if a new release issued.\n",
    "* namespace: This namespace will be created if it does not exist yet. The default behavior, if namespace is not provided, is to deploy the controller in the kubectl’s current namespace.\n",
    "* hostNetwork: In any case a service is also configured in the ingress-controller namespace which tries to expose haproxy.\n",
    "For more configuration options, see HAProxy Ingress’ [Helm chart](https://github.com/haproxy-ingress/charts/blob/release-0.12/haproxy-ingress/README.md)"
   ]
  },
  {
   "cell_type": "markdown",
   "id": "7e6b27f3",
   "metadata": {},
   "source": [
    "You should see something like this, if the deployment is successful:"
   ]
  },
  {
   "cell_type": "code",
   "execution_count": null,
   "id": "c20eaab9",
   "metadata": {},
   "outputs": [],
   "source": [
    "NAME: haproxy-ingress\n",
    "LAST DEPLOYED: Wed Jul 28 10:25:07 2021\n",
    "NAMESPACE: ingress-controller\n",
    "STATUS: deployed\n",
    "REVISION: 1\n",
    "TEST SUITE: None\n",
    "NOTES:\n",
    "HAProxy Ingress has been installed!"
   ]
  }
 ],
 "metadata": {
  "kernelspec": {
   "display_name": "Bash",
   "language": "bash",
   "name": "bash"
  },
  "language_info": {
   "codemirror_mode": "shell",
   "file_extension": ".sh",
   "mimetype": "text/x-sh",
   "name": "bash"
  }
 },
 "nbformat": 4,
 "nbformat_minor": 5
}
