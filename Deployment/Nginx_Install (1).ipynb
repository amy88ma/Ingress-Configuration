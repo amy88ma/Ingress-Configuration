{
 "cells": [
  {
   "cell_type": "markdown",
   "id": "0c2f4e87",
   "metadata": {},
   "source": [
    "# Create an NGINX controller using Helm\n",
    "This example shows how to use Helm to install the Nginx Controller.\n",
    "\n",
    "### Prerequisites\n",
    "\n",
    "The following prerequisites are required for a successful and properly secured use of Helm:\n",
    "\n",
    "* A Kubernetes cluster\n",
    "* Deciding what security configurations to apply to your installation, if any\n",
    "* Have [Helm](https://github.com/amy88ma/Ingress-Configuration/blob/50c510778e326ece24d8364f3e897d0e17d30bc4/Jupyter%20Notebooks/Install_helm.ipynb) Installed."
   ]
  },
  {
   "cell_type": "markdown",
   "id": "78a1f2fd",
   "metadata": {},
   "source": [
    "## 1. Install  the NGINX [controller](https://kubernetes.github.io/ingress-nginx/deploy/)\n",
    "NGINX Ingress controller can be installed via Helm using the chart from the project repository. To install the chart with the release name ingress-nginx:"
   ]
  },
  {
   "cell_type": "code",
   "execution_count": null,
   "id": "e7be6e2f",
   "metadata": {},
   "outputs": [],
   "source": [
    "helm repo add ingress-nginx https://kubernetes.github.io/ingress-nginx"
   ]
  },
  {
   "cell_type": "markdown",
   "id": "289a6bf5",
   "metadata": {},
   "source": [
    "To update the information from the chart ingress-nginx:"
   ]
  },
  {
   "cell_type": "code",
   "execution_count": null,
   "id": "7d74e1a5",
   "metadata": {},
   "outputs": [],
   "source": [
    "helm repo update"
   ]
  },
  {
   "cell_type": "markdown",
   "id": "8af8434b",
   "metadata": {},
   "source": [
    "Use helm to install the nginx controller:"
   ]
  },
  {
   "cell_type": "code",
   "execution_count": null,
   "id": "c6d6f6a2",
   "metadata": {},
   "outputs": [],
   "source": [
    "helm install ingress-nginx ingress-nginx/ingress-nginx"
   ]
  },
  {
   "cell_type": "markdown",
   "id": "5284e3ee",
   "metadata": {},
   "source": [
    "The following shows an example output of the above command used for installing the nginx controller:"
   ]
  },
  {
   "cell_type": "code",
   "execution_count": null,
   "id": "91703401",
   "metadata": {},
   "outputs": [],
   "source": [
    "NAME: ingress-nginx\n",
    "LAST DEPLOYED: Mon Jul 19 16:18:22 2021\n",
    "NAMESPACE: default\n",
    "STATUS: deployed\n",
    "REVISION: 1\n",
    "TEST SUITE: None\n",
    "NOTES:\n",
    "The ingress-nginx controller has been installed.\n",
    "It may take a few minutes for the LoadBalancer IP to be available.\n",
    "You can watch the status by running 'kubectl --namespace default get services -o wide -w ingress-nginx-controller'\n",
    "\n",
    "An example Ingress that makes use of the controller:\n",
    "\n",
    "  apiVersion: networking.k8s.io/v1beta1\n",
    "  kind: Ingress\n",
    "  metadata:\n",
    "    annotations:\n",
    "      kubernetes.io/ingress.class: nginx\n",
    "    name: example\n",
    "    namespace: foo\n",
    "  spec:\n",
    "    rules:\n",
    "      - host: www.example.com\n",
    "        http:\n",
    "          paths:\n",
    "            - backend:\n",
    "                serviceName: exampleService\n",
    "                servicePort: 80\n",
    "              path: /\n",
    "    # This section is only required if TLS is to be enabled for the Ingress\n",
    "    tls:\n",
    "        - hosts:\n",
    "            - www.example.com\n",
    "          secretName: example-tls\n",
    "\n",
    "If TLS is enabled for the Ingress, a Secret containing the certificate and key must also be provided:\n",
    "\n",
    "  apiVersion: v1\n",
    "  kind: Secret\n",
    "  metadata:\n",
    "    name: example-tls\n",
    "    namespace: foo\n",
    "  data:\n",
    "    tls.crt: <base64 encoded cert>\n",
    "    tls.key: <base64 encoded key>\n",
    "  type: kubernetes.io/tls"
   ]
  },
  {
   "cell_type": "markdown",
   "id": "ad50151e",
   "metadata": {},
   "source": [
    "## 2. Uninstalling the release\n",
    "This section shows how to uninstall the release and remove all associated components."
   ]
  },
  {
   "cell_type": "markdown",
   "id": "60ae8b4a",
   "metadata": {},
   "source": [
    "First, list the deployed releases:"
   ]
  },
  {
   "cell_type": "code",
   "execution_count": 1,
   "id": "f38ebf14",
   "metadata": {},
   "outputs": [
    {
     "name": "stdout",
     "output_type": "stream",
     "text": [
      "NAME         \tNAMESPACE\tREVISION\tUPDATED                             \tSTATUS  \tCHART               \tAPP VERSION\n",
      "hpcc         \tdefault  \t1       \t2021-07-19 16:16:38.525422 -0400 EDT\tdeployed\thpcc-8.0.0          \t8.0.0      \n",
      "ingress-nginx\tdefault  \t1       \t2021-07-19 16:22:11.288879 -0400 EDT\tdeployed\tingress-nginx-3.34.0\t0.47.0     \n"
     ]
    }
   ],
   "source": [
    "helm list"
   ]
  },
  {
   "cell_type": "markdown",
   "id": "4e4bee39",
   "metadata": {},
   "source": [
    "Then, uninstall the desired name (ingress-nginx) with the following command:"
   ]
  },
  {
   "cell_type": "code",
   "execution_count": null,
   "id": "13e06d01",
   "metadata": {},
   "outputs": [],
   "source": [
    "helm uninstall ingress-nginx"
   ]
  },
  {
   "cell_type": "markdown",
   "id": "9c8a6051",
   "metadata": {},
   "source": [
    "The following content is an example of the ouput when running the above command to uninstall the nginx controller chart:"
   ]
  },
  {
   "cell_type": "code",
   "execution_count": null,
   "id": "6bcc7e45",
   "metadata": {},
   "outputs": [],
   "source": [
    "release \"ingress-nginx\" uninstalled"
   ]
  }
 ],
 "metadata": {
  "kernelspec": {
   "display_name": "Bash",
   "language": "bash",
   "name": "bash"
  },
  "language_info": {
   "codemirror_mode": "shell",
   "file_extension": ".sh",
   "mimetype": "text/x-sh",
   "name": "bash"
  }
 },
 "nbformat": 4,
 "nbformat_minor": 5
}
